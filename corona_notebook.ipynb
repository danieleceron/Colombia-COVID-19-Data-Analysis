{
 "cells": [
  {
   "cell_type": "code",
   "execution_count": 1,
   "metadata": {
    "tags": []
   },
   "outputs": [
    {
     "output_type": "display_data",
     "data": {
      "text/plain": "HBox(children=(FloatProgress(value=1.0, bar_style='info', layout=Layout(width='20px'), max=1.0), HTML(value=''…",
      "application/vnd.jupyter.widget-view+json": {
       "version_major": 2,
       "version_minor": 0,
       "model_id": "cd3a87fecb144ae4861d0e3545f95351"
      }
     },
     "metadata": {}
    }
   ],
   "source": [
    "import pandas as pd\n",
    "import numpy as np\n",
    "from matplotlib import pyplot as plt\n",
    "import seaborn as sns\n",
    "import datetime as dt\n",
    "import unidecode\n",
    "\n",
    "import folium\n",
    "from folium import plugins\n",
    "\n",
    "import geopy\n",
    "from geopy.geocoders import Nominatim\n",
    "#geolocator = Nominatim(user_agent=\"https://nominatim.openstreetmap.org/\")\n",
    "geolocator = Nominatim(user_agent=\"https://maps.googleapis.com/\")\n",
    "\n",
    "from tqdm import tqdm, tqdm_notebook\n",
    "tqdm_notebook().pandas()\n",
    "\n",
    "\n",
    "pd.options.plotting.backend = \"plotly\"\n",
    "pd.set_option('max_columns', None)"
   ]
  },
  {
   "cell_type": "code",
   "execution_count": 2,
   "metadata": {},
   "outputs": [
    {
     "output_type": "execute_result",
     "data": {
      "text/plain": "   ID de caso    Fecha de notificación  Código DIVIPOLA  Ciudad de ubicación  \\\n0           1  2020-03-02T00:00:00.000            11001          Bogotá D.C.   \n1           2  2020-03-06T00:00:00.000            76111  Guadalajara de Buga   \n2           3  2020-03-07T00:00:00.000             5001             Medellín   \n3           4  2020-03-09T00:00:00.000             5001             Medellín   \n4           5  2020-03-09T00:00:00.000             5001             Medellín   \n\n  Departamento o Distrito     atención  Edad Sexo         Tipo Estado  \\\n0              Bogotá D.C.  Recuperado    19    F    Importado   Leve   \n1          Valle del Cauca  Recuperado    34    M    Importado   Leve   \n2                Antioquia  Recuperado    50    F    Importado   Leve   \n3                Antioquia  Recuperado    55    M  Relacionado   Leve   \n4                Antioquia  Recuperado    25    M  Relacionado   Leve   \n\n  País de procedencia                      FIS Fecha de muerte  \\\n0              ITALIA  2020-02-27T00:00:00.000             NaN   \n1              ESPAÑA  2020-03-04T00:00:00.000             NaN   \n2              ESPAÑA  2020-02-29T00:00:00.000             NaN   \n3                 NaN  2020-03-06T00:00:00.000             NaN   \n4                 NaN  2020-03-08T00:00:00.000             NaN   \n\n         Fecha diagnostico         Fecha recuperado        fecha reporte web  \\\n0  2020-03-06T00:00:00.000  2020-03-13T00:00:00.000  2020-03-06T00:00:00.000   \n1  2020-03-09T00:00:00.000  2020-03-19T00:00:00.000  2020-03-09T00:00:00.000   \n2  2020-03-09T00:00:00.000  2020-03-15T00:00:00.000  2020-03-09T00:00:00.000   \n3  2020-03-11T00:00:00.000  2020-03-26T00:00:00.000  2020-03-11T00:00:00.000   \n4  2020-03-11T00:00:00.000  2020-03-23T00:00:00.000  2020-03-11T00:00:00.000   \n\n  Tipo recuperación  Codigo departamento  Codigo pais Pertenencia etnica  \\\n0               PCR                   11        380.0               Otro   \n1               PCR                   76        724.0              Negro   \n2               PCR                    5        724.0               Otro   \n3               PCR                    5          NaN               Otro   \n4               PCR                    5          NaN               Otro   \n\n  Nombre grupo etnico  \n0                 NaN  \n1                 NaN  \n2                 NaN  \n3                 NaN  \n4                 NaN  ",
      "text/html": "<div>\n<style scoped>\n    .dataframe tbody tr th:only-of-type {\n        vertical-align: middle;\n    }\n\n    .dataframe tbody tr th {\n        vertical-align: top;\n    }\n\n    .dataframe thead th {\n        text-align: right;\n    }\n</style>\n<table border=\"1\" class=\"dataframe\">\n  <thead>\n    <tr style=\"text-align: right;\">\n      <th></th>\n      <th>ID de caso</th>\n      <th>Fecha de notificación</th>\n      <th>Código DIVIPOLA</th>\n      <th>Ciudad de ubicación</th>\n      <th>Departamento o Distrito</th>\n      <th>atención</th>\n      <th>Edad</th>\n      <th>Sexo</th>\n      <th>Tipo</th>\n      <th>Estado</th>\n      <th>País de procedencia</th>\n      <th>FIS</th>\n      <th>Fecha de muerte</th>\n      <th>Fecha diagnostico</th>\n      <th>Fecha recuperado</th>\n      <th>fecha reporte web</th>\n      <th>Tipo recuperación</th>\n      <th>Codigo departamento</th>\n      <th>Codigo pais</th>\n      <th>Pertenencia etnica</th>\n      <th>Nombre grupo etnico</th>\n    </tr>\n  </thead>\n  <tbody>\n    <tr>\n      <th>0</th>\n      <td>1</td>\n      <td>2020-03-02T00:00:00.000</td>\n      <td>11001</td>\n      <td>Bogotá D.C.</td>\n      <td>Bogotá D.C.</td>\n      <td>Recuperado</td>\n      <td>19</td>\n      <td>F</td>\n      <td>Importado</td>\n      <td>Leve</td>\n      <td>ITALIA</td>\n      <td>2020-02-27T00:00:00.000</td>\n      <td>NaN</td>\n      <td>2020-03-06T00:00:00.000</td>\n      <td>2020-03-13T00:00:00.000</td>\n      <td>2020-03-06T00:00:00.000</td>\n      <td>PCR</td>\n      <td>11</td>\n      <td>380.0</td>\n      <td>Otro</td>\n      <td>NaN</td>\n    </tr>\n    <tr>\n      <th>1</th>\n      <td>2</td>\n      <td>2020-03-06T00:00:00.000</td>\n      <td>76111</td>\n      <td>Guadalajara de Buga</td>\n      <td>Valle del Cauca</td>\n      <td>Recuperado</td>\n      <td>34</td>\n      <td>M</td>\n      <td>Importado</td>\n      <td>Leve</td>\n      <td>ESPAÑA</td>\n      <td>2020-03-04T00:00:00.000</td>\n      <td>NaN</td>\n      <td>2020-03-09T00:00:00.000</td>\n      <td>2020-03-19T00:00:00.000</td>\n      <td>2020-03-09T00:00:00.000</td>\n      <td>PCR</td>\n      <td>76</td>\n      <td>724.0</td>\n      <td>Negro</td>\n      <td>NaN</td>\n    </tr>\n    <tr>\n      <th>2</th>\n      <td>3</td>\n      <td>2020-03-07T00:00:00.000</td>\n      <td>5001</td>\n      <td>Medellín</td>\n      <td>Antioquia</td>\n      <td>Recuperado</td>\n      <td>50</td>\n      <td>F</td>\n      <td>Importado</td>\n      <td>Leve</td>\n      <td>ESPAÑA</td>\n      <td>2020-02-29T00:00:00.000</td>\n      <td>NaN</td>\n      <td>2020-03-09T00:00:00.000</td>\n      <td>2020-03-15T00:00:00.000</td>\n      <td>2020-03-09T00:00:00.000</td>\n      <td>PCR</td>\n      <td>5</td>\n      <td>724.0</td>\n      <td>Otro</td>\n      <td>NaN</td>\n    </tr>\n    <tr>\n      <th>3</th>\n      <td>4</td>\n      <td>2020-03-09T00:00:00.000</td>\n      <td>5001</td>\n      <td>Medellín</td>\n      <td>Antioquia</td>\n      <td>Recuperado</td>\n      <td>55</td>\n      <td>M</td>\n      <td>Relacionado</td>\n      <td>Leve</td>\n      <td>NaN</td>\n      <td>2020-03-06T00:00:00.000</td>\n      <td>NaN</td>\n      <td>2020-03-11T00:00:00.000</td>\n      <td>2020-03-26T00:00:00.000</td>\n      <td>2020-03-11T00:00:00.000</td>\n      <td>PCR</td>\n      <td>5</td>\n      <td>NaN</td>\n      <td>Otro</td>\n      <td>NaN</td>\n    </tr>\n    <tr>\n      <th>4</th>\n      <td>5</td>\n      <td>2020-03-09T00:00:00.000</td>\n      <td>5001</td>\n      <td>Medellín</td>\n      <td>Antioquia</td>\n      <td>Recuperado</td>\n      <td>25</td>\n      <td>M</td>\n      <td>Relacionado</td>\n      <td>Leve</td>\n      <td>NaN</td>\n      <td>2020-03-08T00:00:00.000</td>\n      <td>NaN</td>\n      <td>2020-03-11T00:00:00.000</td>\n      <td>2020-03-23T00:00:00.000</td>\n      <td>2020-03-11T00:00:00.000</td>\n      <td>PCR</td>\n      <td>5</td>\n      <td>NaN</td>\n      <td>Otro</td>\n      <td>NaN</td>\n    </tr>\n  </tbody>\n</table>\n</div>"
     },
     "metadata": {},
     "execution_count": 2
    }
   ],
   "source": [
    "#reading/storing and showing the Covid dataset of Colombia\n",
    "#df=pd.read_csv('Casos_positivos_de_COVID-19_en_Colombia.csv')\n",
    "#df=pd.read_csv('Covid18-09-20.csv')\n",
    "#df.to_pickle('Covid18-09-20.plk')\n",
    "\n",
    "df=pd.read_pickle('Covid18-09-20.plk')\n",
    "df.head()"
   ]
  },
  {
   "cell_type": "code",
   "execution_count": 3,
   "metadata": {},
   "outputs": [
    {
     "output_type": "execute_result",
     "data": {
      "text/plain": "(743945, 21)"
     },
     "metadata": {},
     "execution_count": 3
    }
   ],
   "source": [
    "#show the features and the len of the data\n",
    "df.shape"
   ]
  },
  {
   "cell_type": "markdown",
   "metadata": {},
   "source": [
    "We have 22 different geatures and 357710 of data"
   ]
  },
  {
   "cell_type": "code",
   "execution_count": 4,
   "metadata": {
    "tags": []
   },
   "outputs": [
    {
     "output_type": "execute_result",
     "data": {
      "text/plain": "Index(['ID de caso', 'Fecha de notificación', 'Código DIVIPOLA',\n       'Ciudad de ubicación', 'Departamento o Distrito ', 'atención', 'Edad',\n       'Sexo', 'Tipo', 'Estado', 'País de procedencia', 'FIS',\n       'Fecha de muerte', 'Fecha diagnostico', 'Fecha recuperado',\n       'fecha reporte web', 'Tipo recuperación', 'Codigo departamento',\n       'Codigo pais', 'Pertenencia etnica', 'Nombre grupo etnico'],\n      dtype='object')"
     },
     "metadata": {},
     "execution_count": 4
    }
   ],
   "source": [
    "#show the all the features (columns)\n",
    "df.columns"
   ]
  },
  {
   "source": [
    "Formating Columns headders"
   ],
   "cell_type": "markdown",
   "metadata": {}
  },
  {
   "cell_type": "code",
   "execution_count": 5,
   "metadata": {},
   "outputs": [
    {
     "output_type": "execute_result",
     "data": {
      "text/plain": "   ID DE CASO    FECHA DE NOTIFICACIÓN  CÓDIGO DIVIPOLA  CIUDAD DE UBICACIÓN  \\\n0           1  2020-03-02T00:00:00.000            11001          Bogotá D.C.   \n1           2  2020-03-06T00:00:00.000            76111  Guadalajara de Buga   \n\n  DEPARTAMENTO O DISTRITO     ATENCIÓN  EDAD SEXO       TIPO ESTADO  \\\n0              Bogotá D.C.  Recuperado    19    F  Importado   Leve   \n1          Valle del Cauca  Recuperado    34    M  Importado   Leve   \n\n  PAÍS DE PROCEDENCIA                      FIS FECHA DE MUERTE  \\\n0              ITALIA  2020-02-27T00:00:00.000             NaN   \n1              ESPAÑA  2020-03-04T00:00:00.000             NaN   \n\n         FECHA DIAGNOSTICO         FECHA RECUPERADO        FECHA REPORTE WEB  \\\n0  2020-03-06T00:00:00.000  2020-03-13T00:00:00.000  2020-03-06T00:00:00.000   \n1  2020-03-09T00:00:00.000  2020-03-19T00:00:00.000  2020-03-09T00:00:00.000   \n\n  TIPO RECUPERACIÓN  CODIGO DEPARTAMENTO  CODIGO PAIS PERTENENCIA ETNICA  \\\n0               PCR                   11        380.0               Otro   \n1               PCR                   76        724.0              Negro   \n\n  NOMBRE GRUPO ETNICO  \n0                 NaN  \n1                 NaN  ",
      "text/html": "<div>\n<style scoped>\n    .dataframe tbody tr th:only-of-type {\n        vertical-align: middle;\n    }\n\n    .dataframe tbody tr th {\n        vertical-align: top;\n    }\n\n    .dataframe thead th {\n        text-align: right;\n    }\n</style>\n<table border=\"1\" class=\"dataframe\">\n  <thead>\n    <tr style=\"text-align: right;\">\n      <th></th>\n      <th>ID DE CASO</th>\n      <th>FECHA DE NOTIFICACIÓN</th>\n      <th>CÓDIGO DIVIPOLA</th>\n      <th>CIUDAD DE UBICACIÓN</th>\n      <th>DEPARTAMENTO O DISTRITO</th>\n      <th>ATENCIÓN</th>\n      <th>EDAD</th>\n      <th>SEXO</th>\n      <th>TIPO</th>\n      <th>ESTADO</th>\n      <th>PAÍS DE PROCEDENCIA</th>\n      <th>FIS</th>\n      <th>FECHA DE MUERTE</th>\n      <th>FECHA DIAGNOSTICO</th>\n      <th>FECHA RECUPERADO</th>\n      <th>FECHA REPORTE WEB</th>\n      <th>TIPO RECUPERACIÓN</th>\n      <th>CODIGO DEPARTAMENTO</th>\n      <th>CODIGO PAIS</th>\n      <th>PERTENENCIA ETNICA</th>\n      <th>NOMBRE GRUPO ETNICO</th>\n    </tr>\n  </thead>\n  <tbody>\n    <tr>\n      <th>0</th>\n      <td>1</td>\n      <td>2020-03-02T00:00:00.000</td>\n      <td>11001</td>\n      <td>Bogotá D.C.</td>\n      <td>Bogotá D.C.</td>\n      <td>Recuperado</td>\n      <td>19</td>\n      <td>F</td>\n      <td>Importado</td>\n      <td>Leve</td>\n      <td>ITALIA</td>\n      <td>2020-02-27T00:00:00.000</td>\n      <td>NaN</td>\n      <td>2020-03-06T00:00:00.000</td>\n      <td>2020-03-13T00:00:00.000</td>\n      <td>2020-03-06T00:00:00.000</td>\n      <td>PCR</td>\n      <td>11</td>\n      <td>380.0</td>\n      <td>Otro</td>\n      <td>NaN</td>\n    </tr>\n    <tr>\n      <th>1</th>\n      <td>2</td>\n      <td>2020-03-06T00:00:00.000</td>\n      <td>76111</td>\n      <td>Guadalajara de Buga</td>\n      <td>Valle del Cauca</td>\n      <td>Recuperado</td>\n      <td>34</td>\n      <td>M</td>\n      <td>Importado</td>\n      <td>Leve</td>\n      <td>ESPAÑA</td>\n      <td>2020-03-04T00:00:00.000</td>\n      <td>NaN</td>\n      <td>2020-03-09T00:00:00.000</td>\n      <td>2020-03-19T00:00:00.000</td>\n      <td>2020-03-09T00:00:00.000</td>\n      <td>PCR</td>\n      <td>76</td>\n      <td>724.0</td>\n      <td>Negro</td>\n      <td>NaN</td>\n    </tr>\n  </tbody>\n</table>\n</div>"
     },
     "metadata": {},
     "execution_count": 5
    }
   ],
   "source": [
    "df.columns = df.columns.str.upper()\n",
    "#df.columns = map(str.upper, df.columns)\n",
    "df.head(2)"
   ]
  },
  {
   "cell_type": "code",
   "execution_count": 6,
   "metadata": {
    "tags": []
   },
   "outputs": [
    {
     "output_type": "stream",
     "name": "stdout",
     "text": "<class 'pandas.core.frame.DataFrame'>\nRangeIndex: 743945 entries, 0 to 743944\nData columns (total 21 columns):\n #   Column                    Non-Null Count   Dtype  \n---  ------                    --------------   -----  \n 0   ID DE CASO                743945 non-null  int64  \n 1   FECHA DE NOTIFICACIÓN     743945 non-null  object \n 2   CÓDIGO DIVIPOLA           743945 non-null  int64  \n 3   CIUDAD DE UBICACIÓN       743945 non-null  object \n 4   DEPARTAMENTO O DISTRITO   743945 non-null  object \n 5   ATENCIÓN                  742389 non-null  object \n 6   EDAD                      743945 non-null  int64  \n 7   SEXO                      743945 non-null  object \n 8   TIPO                      743945 non-null  object \n 9   ESTADO                    742175 non-null  object \n 10  PAÍS DE PROCEDENCIA       968 non-null     object \n 11  FIS                       651137 non-null  object \n 12  FECHA DE MUERTE           25317 non-null   object \n 13  FECHA DIAGNOSTICO         739876 non-null  object \n 14  FECHA RECUPERADO          615457 non-null  object \n 15  FECHA REPORTE WEB         743945 non-null  object \n 16  TIPO RECUPERACIÓN         615457 non-null  object \n 17  CODIGO DEPARTAMENTO       743945 non-null  int64  \n 18  CODIGO PAIS               968 non-null     float64\n 19  PERTENENCIA ETNICA        694659 non-null  object \n 20  NOMBRE GRUPO ETNICO       12208 non-null   object \ndtypes: float64(1), int64(4), object(16)\nmemory usage: 119.2+ MB\n"
    }
   ],
   "source": [
    "# info() show a description indicating the values and type of each feature\n",
    "df.info()"
   ]
  },
  {
   "cell_type": "markdown",
   "metadata": {},
   "source": [
    "there are some features with missing values and erratic dtypes, in order to fix that we need to look each of them."
   ]
  },
  {
   "cell_type": "code",
   "execution_count": 7,
   "metadata": {
    "tags": []
   },
   "outputs": [
    {
     "output_type": "execute_result",
     "data": {
      "text/plain": "     FECHA DE NOTIFICACIÓN                      FIS FECHA DE MUERTE  \\\n0  2020-03-02T00:00:00.000  2020-02-27T00:00:00.000             NaN   \n1  2020-03-06T00:00:00.000  2020-03-04T00:00:00.000             NaN   \n2  2020-03-07T00:00:00.000  2020-02-29T00:00:00.000             NaN   \n3  2020-03-09T00:00:00.000  2020-03-06T00:00:00.000             NaN   \n4  2020-03-09T00:00:00.000  2020-03-08T00:00:00.000             NaN   \n\n         FECHA DIAGNOSTICO         FECHA RECUPERADO        FECHA REPORTE WEB  \n0  2020-03-06T00:00:00.000  2020-03-13T00:00:00.000  2020-03-06T00:00:00.000  \n1  2020-03-09T00:00:00.000  2020-03-19T00:00:00.000  2020-03-09T00:00:00.000  \n2  2020-03-09T00:00:00.000  2020-03-15T00:00:00.000  2020-03-09T00:00:00.000  \n3  2020-03-11T00:00:00.000  2020-03-26T00:00:00.000  2020-03-11T00:00:00.000  \n4  2020-03-11T00:00:00.000  2020-03-23T00:00:00.000  2020-03-11T00:00:00.000  ",
      "text/html": "<div>\n<style scoped>\n    .dataframe tbody tr th:only-of-type {\n        vertical-align: middle;\n    }\n\n    .dataframe tbody tr th {\n        vertical-align: top;\n    }\n\n    .dataframe thead th {\n        text-align: right;\n    }\n</style>\n<table border=\"1\" class=\"dataframe\">\n  <thead>\n    <tr style=\"text-align: right;\">\n      <th></th>\n      <th>FECHA DE NOTIFICACIÓN</th>\n      <th>FIS</th>\n      <th>FECHA DE MUERTE</th>\n      <th>FECHA DIAGNOSTICO</th>\n      <th>FECHA RECUPERADO</th>\n      <th>FECHA REPORTE WEB</th>\n    </tr>\n  </thead>\n  <tbody>\n    <tr>\n      <th>0</th>\n      <td>2020-03-02T00:00:00.000</td>\n      <td>2020-02-27T00:00:00.000</td>\n      <td>NaN</td>\n      <td>2020-03-06T00:00:00.000</td>\n      <td>2020-03-13T00:00:00.000</td>\n      <td>2020-03-06T00:00:00.000</td>\n    </tr>\n    <tr>\n      <th>1</th>\n      <td>2020-03-06T00:00:00.000</td>\n      <td>2020-03-04T00:00:00.000</td>\n      <td>NaN</td>\n      <td>2020-03-09T00:00:00.000</td>\n      <td>2020-03-19T00:00:00.000</td>\n      <td>2020-03-09T00:00:00.000</td>\n    </tr>\n    <tr>\n      <th>2</th>\n      <td>2020-03-07T00:00:00.000</td>\n      <td>2020-02-29T00:00:00.000</td>\n      <td>NaN</td>\n      <td>2020-03-09T00:00:00.000</td>\n      <td>2020-03-15T00:00:00.000</td>\n      <td>2020-03-09T00:00:00.000</td>\n    </tr>\n    <tr>\n      <th>3</th>\n      <td>2020-03-09T00:00:00.000</td>\n      <td>2020-03-06T00:00:00.000</td>\n      <td>NaN</td>\n      <td>2020-03-11T00:00:00.000</td>\n      <td>2020-03-26T00:00:00.000</td>\n      <td>2020-03-11T00:00:00.000</td>\n    </tr>\n    <tr>\n      <th>4</th>\n      <td>2020-03-09T00:00:00.000</td>\n      <td>2020-03-08T00:00:00.000</td>\n      <td>NaN</td>\n      <td>2020-03-11T00:00:00.000</td>\n      <td>2020-03-23T00:00:00.000</td>\n      <td>2020-03-11T00:00:00.000</td>\n    </tr>\n  </tbody>\n</table>\n</div>"
     },
     "metadata": {},
     "execution_count": 7
    }
   ],
   "source": [
    "# Looking the structure of the date features \n",
    "\n",
    "col_de_fechas=[col for col in df if col.startswith('F')]\n",
    "\n",
    "df[col_de_fechas].head()"
   ]
  },
  {
   "cell_type": "markdown",
   "metadata": {},
   "source": [
    "Notice that each date feature have a T between the date and the time, so we need to remove the T and remove the time, as we only have 00:00:00:000"
   ]
  },
  {
   "cell_type": "code",
   "execution_count": 8,
   "metadata": {
    "tags": []
   },
   "outputs": [],
   "source": [
    "# the following code remove the T from the dates features but also store the time in the unwanted column\n",
    "for fechas in col_de_fechas:\n",
    "    df[[fechas,'unwanted']]=df[fechas].str.split(pat=\"T\",expand=True)"
   ]
  },
  {
   "cell_type": "code",
   "execution_count": 9,
   "metadata": {},
   "outputs": [
    {
     "output_type": "execute_result",
     "data": {
      "text/plain": "  FECHA DE NOTIFICACIÓN         FIS FECHA DE MUERTE FECHA DIAGNOSTICO  \\\n0            2020-03-02  2020-02-27             NaN        2020-03-06   \n1            2020-03-06  2020-03-04             NaN        2020-03-09   \n2            2020-03-07  2020-02-29             NaN        2020-03-09   \n3            2020-03-09  2020-03-06             NaN        2020-03-11   \n4            2020-03-09  2020-03-08             NaN        2020-03-11   \n\n  FECHA RECUPERADO FECHA REPORTE WEB  \n0       2020-03-13        2020-03-06  \n1       2020-03-19        2020-03-09  \n2       2020-03-15        2020-03-09  \n3       2020-03-26        2020-03-11  \n4       2020-03-23        2020-03-11  ",
      "text/html": "<div>\n<style scoped>\n    .dataframe tbody tr th:only-of-type {\n        vertical-align: middle;\n    }\n\n    .dataframe tbody tr th {\n        vertical-align: top;\n    }\n\n    .dataframe thead th {\n        text-align: right;\n    }\n</style>\n<table border=\"1\" class=\"dataframe\">\n  <thead>\n    <tr style=\"text-align: right;\">\n      <th></th>\n      <th>FECHA DE NOTIFICACIÓN</th>\n      <th>FIS</th>\n      <th>FECHA DE MUERTE</th>\n      <th>FECHA DIAGNOSTICO</th>\n      <th>FECHA RECUPERADO</th>\n      <th>FECHA REPORTE WEB</th>\n    </tr>\n  </thead>\n  <tbody>\n    <tr>\n      <th>0</th>\n      <td>2020-03-02</td>\n      <td>2020-02-27</td>\n      <td>NaN</td>\n      <td>2020-03-06</td>\n      <td>2020-03-13</td>\n      <td>2020-03-06</td>\n    </tr>\n    <tr>\n      <th>1</th>\n      <td>2020-03-06</td>\n      <td>2020-03-04</td>\n      <td>NaN</td>\n      <td>2020-03-09</td>\n      <td>2020-03-19</td>\n      <td>2020-03-09</td>\n    </tr>\n    <tr>\n      <th>2</th>\n      <td>2020-03-07</td>\n      <td>2020-02-29</td>\n      <td>NaN</td>\n      <td>2020-03-09</td>\n      <td>2020-03-15</td>\n      <td>2020-03-09</td>\n    </tr>\n    <tr>\n      <th>3</th>\n      <td>2020-03-09</td>\n      <td>2020-03-06</td>\n      <td>NaN</td>\n      <td>2020-03-11</td>\n      <td>2020-03-26</td>\n      <td>2020-03-11</td>\n    </tr>\n    <tr>\n      <th>4</th>\n      <td>2020-03-09</td>\n      <td>2020-03-08</td>\n      <td>NaN</td>\n      <td>2020-03-11</td>\n      <td>2020-03-23</td>\n      <td>2020-03-11</td>\n    </tr>\n  </tbody>\n</table>\n</div>"
     },
     "metadata": {},
     "execution_count": 9
    }
   ],
   "source": [
    "df[col_de_fechas].head()"
   ]
  },
  {
   "cell_type": "code",
   "execution_count": 10,
   "metadata": {},
   "outputs": [
    {
     "output_type": "execute_result",
     "data": {
      "text/plain": "array(['00:00:00.000'], dtype=object)"
     },
     "metadata": {},
     "execution_count": 10
    }
   ],
   "source": [
    "df['unwanted'].unique()"
   ]
  },
  {
   "cell_type": "markdown",
   "metadata": {},
   "source": [
    "As unwanted does provide a useful time, we will get rid of that feature"
   ]
  },
  {
   "cell_type": "code",
   "execution_count": 11,
   "metadata": {},
   "outputs": [],
   "source": [
    "#drop the column unwanted and save the changes to the df (inplace=True)\n",
    "df.drop(columns=['unwanted'],inplace=True)"
   ]
  },
  {
   "cell_type": "markdown",
   "metadata": {},
   "source": [
    "Now we transform the dtype form objecto to a datetime format"
   ]
  },
  {
   "cell_type": "code",
   "execution_count": 12,
   "metadata": {},
   "outputs": [],
   "source": [
    "for col in col_de_fechas:\n",
    "    df[col]=df[col].apply(lambda x: pd.NaT if x=='ERROR: #N/A' else x)"
   ]
  },
  {
   "cell_type": "code",
   "execution_count": 13,
   "metadata": {
    "tags": []
   },
   "outputs": [
    {
     "output_type": "display_data",
     "data": {
      "text/plain": "HBox(children=(FloatProgress(value=0.0, max=743945.0), HTML(value='')))",
      "application/vnd.jupyter.widget-view+json": {
       "version_major": 2,
       "version_minor": 0,
       "model_id": "9389632a48704db4bc4b93b98967e570"
      }
     },
     "metadata": {}
    },
    {
     "output_type": "stream",
     "name": "stdout",
     "text": "\n"
    },
    {
     "output_type": "display_data",
     "data": {
      "text/plain": "HBox(children=(FloatProgress(value=0.0, max=743945.0), HTML(value='')))",
      "application/vnd.jupyter.widget-view+json": {
       "version_major": 2,
       "version_minor": 0,
       "model_id": "1d64c767acec4a88b6853db146d8c157"
      }
     },
     "metadata": {}
    },
    {
     "output_type": "stream",
     "name": "stdout",
     "text": "\n"
    }
   ],
   "source": [
    "#Create a new column called Asintomático FIS to store  the values of 'Asintomático' from FIS\n",
    "df['ASINTOMÁTICO FIS']=df['FIS'].progress_apply(lambda x: 'Asintomático' if x=='Asintomático' else np.nan)\n",
    "#Removing 'Asintomático' from FIS columns and convert to datetime\n",
    "df.FIS=df['FIS'].progress_apply(lambda x:  pd.NaT if x=='Asintomático' else pd.to_datetime(x,format='%Y-%m-%d'))"
   ]
  },
  {
   "cell_type": "code",
   "execution_count": 14,
   "metadata": {},
   "outputs": [],
   "source": [
    "#import re\n",
    "#if re.match(\"^[a-zA-Z]+.*\", line):"
   ]
  },
  {
   "cell_type": "code",
   "execution_count": 15,
   "metadata": {},
   "outputs": [],
   "source": [
    "#fechas_to_date=['Fecha de notificación','Fecha de muerte', 'Fecha diagnostico', 'Fecha recuperado','fecha reporte web']\n",
    "\n",
    "for fechas in col_de_fechas:\n",
    "    df[fechas]= pd.to_datetime(df[fechas],format='%Y-%m-%d')"
   ]
  },
  {
   "cell_type": "code",
   "execution_count": 16,
   "metadata": {},
   "outputs": [
    {
     "output_type": "execute_result",
     "data": {
      "text/plain": "FECHA DE NOTIFICACIÓN    datetime64[ns]\nFIS                      datetime64[ns]\nFECHA DE MUERTE          datetime64[ns]\nFECHA DIAGNOSTICO        datetime64[ns]\nFECHA RECUPERADO         datetime64[ns]\nFECHA REPORTE WEB        datetime64[ns]\ndtype: object"
     },
     "metadata": {},
     "execution_count": 16
    }
   ],
   "source": [
    "df.select_dtypes(include='datetime').dtypes"
   ]
  },
  {
   "cell_type": "code",
   "execution_count": 17,
   "metadata": {
    "tags": []
   },
   "outputs": [
    {
     "output_type": "stream",
     "name": "stdout",
     "text": "['Leve' 'Asintomático' 'Fallecido' nan 'Moderado' 'Grave']\n['Importado' 'Relacionado' 'En estudio' 'relacionado' 'RELACIONADO'\n 'En Estudio']\n['Recuperado' 'Fallecido' nan 'Casa' 'Hospital' 'Hospital UCI']\n"
    }
   ],
   "source": [
    "print(df.ESTADO.unique())\n",
    "print(df.TIPO.unique())\n",
    "print(df.ATENCIÓN.unique())"
   ]
  },
  {
   "cell_type": "markdown",
   "metadata": {},
   "source": [
    "Notice that some feature have duplicated values, so we goin to see me unique values for certain features"
   ]
  },
  {
   "cell_type": "code",
   "execution_count": 18,
   "metadata": {
    "scrolled": true,
    "tags": []
   },
   "outputs": [
    {
     "output_type": "stream",
     "name": "stdout",
     "text": "------------------------------------------\nID DE CASO\n743945\n------------------------------------------\nCÓDIGO DIVIPOLA\n1042\n------------------------------------------\nCIUDAD DE UBICACIÓN\n967\n------------------------------------------\nDEPARTAMENTO O DISTRITO \n37\n------------------------------------------\nATENCIÓN\n6\n------------------------------------------\nEDAD\n112\n------------------------------------------\nSEXO\n4\n------------------------------------------\nTIPO\n6\n------------------------------------------\nESTADO\n6\n------------------------------------------\nPAÍS DE PROCEDENCIA\n51\n------------------------------------------\nTIPO RECUPERACIÓN\n3\n------------------------------------------\nCODIGO DEPARTAMENTO\n33\n------------------------------------------\nCODIGO PAIS\n46\n------------------------------------------\nPERTENENCIA ETNICA\n5\n------------------------------------------\nNOMBRE GRUPO ETNICO\n744\n------------------------------------------\nASINTOMÁTICO FIS\n1\n"
    }
   ],
   "source": [
    "for columna in df.select_dtypes(exclude='datetime').columns:#.drop(['ID de caso','Código DIVIPOLA','Ciudad de ubicación'],axis=1).columns:\n",
    "    print('------------------------------------------')\n",
    "    print(columna)\n",
    "    print(len(df[columna].unique()))"
   ]
  },
  {
   "cell_type": "markdown",
   "metadata": {},
   "source": [
    "In order to fix duplicate values were are goin to  remove punctuation and only leave uppercase strings.\n",
    "For numeric values is a bit more difficult as we have codes for municipalities, but we can see the Edad (Age) feature."
   ]
  },
  {
   "cell_type": "markdown",
   "metadata": {},
   "source": [
    "---------"
   ]
  },
  {
   "cell_type": "code",
   "execution_count": 19,
   "metadata": {
    "tags": []
   },
   "outputs": [
    {
     "output_type": "stream",
     "name": "stdout",
     "text": "bananá\n"
    }
   ],
   "source": [
    "#example of the strip function for str values\n",
    "txt = \",,,!!!,,r--rttgg...   ..bananá....__rrr\"\n",
    "x = txt.strip(\",.grt! -_\")\n",
    "print(x)"
   ]
  },
  {
   "cell_type": "code",
   "execution_count": 20,
   "metadata": {},
   "outputs": [
    {
     "output_type": "execute_result",
     "data": {
      "text/plain": "'Malaga'"
     },
     "metadata": {},
     "execution_count": 20
    }
   ],
   "source": [
    "# Example of how to remove accent\n",
    "accented_string = 'Málaga'\n",
    "# accented_string is of type 'unicode'\n",
    "import unidecode\n",
    "unidecode.unidecode(accented_string)\n",
    "# unaccented_string contains 'Malaga'and is of type 'str'"
   ]
  },
  {
   "cell_type": "code",
   "execution_count": 21,
   "metadata": {},
   "outputs": [
    {
     "output_type": "execute_result",
     "data": {
      "text/plain": "'MALAGA'"
     },
     "metadata": {},
     "execution_count": 21
    }
   ],
   "source": [
    "unidecode.unidecode(accented_string.upper())"
   ]
  },
  {
   "cell_type": "markdown",
   "metadata": {},
   "source": [
    "-------"
   ]
  },
  {
   "cell_type": "markdown",
   "metadata": {},
   "source": [
    "For categorical variables we'll change nan values to a 'No info' string"
   ]
  },
  {
   "cell_type": "code",
   "execution_count": 22,
   "metadata": {
    "tags": []
   },
   "outputs": [
    {
     "output_type": "stream",
     "name": "stderr",
     "text": "10%|█         | 1/10 [00:45<06:53, 45.92s/it]Compleated feature: CIUDAD DE UBICACIÓN\n 20%|██        | 2/10 [01:26<05:53, 44.19s/it]Compleated feature: DEPARTAMENTO O DISTRITO \n 30%|███       | 3/10 [01:34<03:53, 33.37s/it]Compleated feature: ATENCIÓN\n 40%|████      | 4/10 [01:41<02:33, 25.62s/it]Compleated feature: SEXO\n 50%|█████     | 5/10 [01:50<01:42, 20.43s/it]Compleated feature: TIPO\n 60%|██████    | 6/10 [02:07<01:18, 19.68s/it]Compleated feature: ESTADO\n 70%|███████   | 7/10 [02:16<00:48, 16.25s/it]Compleated feature: PAÍS DE PROCEDENCIA\n 80%|████████  | 8/10 [02:24<00:27, 13.88s/it]Compleated feature: TIPO RECUPERACIÓN\n 90%|█████████ | 9/10 [02:34<00:12, 12.72s/it]Compleated feature: PERTENENCIA ETNICA\n100%|██████████| 10/10 [02:43<00:00, 16.32s/it]Compleated feature: NOMBRE GRUPO ETNICO\n\n"
    }
   ],
   "source": [
    "# Filling nan values, applying uppes case and remove accent for each value of each feature\n",
    "for feature in tqdm(df.select_dtypes(include=['object']).columns):\n",
    "    df[feature]=df[feature].fillna('No info')\n",
    "    df[feature]=df[feature].apply(lambda x: unidecode.unidecode(x.upper()))\n",
    "    print('Compleated feature: '+feature)"
   ]
  },
  {
   "cell_type": "code",
   "execution_count": 23,
   "metadata": {},
   "outputs": [
    {
     "output_type": "execute_result",
     "data": {
      "text/plain": "   CIUDAD DE UBICACIÓN DEPARTAMENTO O DISTRITO     ATENCIÓN SEXO         TIPO  \\\n0          BOGOTA D.C.              BOGOTA D.C.  RECUPERADO    F    IMPORTADO   \n1  GUADALAJARA DE BUGA          VALLE DEL CAUCA  RECUPERADO    M    IMPORTADO   \n2             MEDELLIN                ANTIOQUIA  RECUPERADO    F    IMPORTADO   \n3             MEDELLIN                ANTIOQUIA  RECUPERADO    M  RELACIONADO   \n4             MEDELLIN                ANTIOQUIA  RECUPERADO    M  RELACIONADO   \n\n  ESTADO PAÍS DE PROCEDENCIA TIPO RECUPERACIÓN PERTENENCIA ETNICA  \\\n0   LEVE              ITALIA               PCR               OTRO   \n1   LEVE              ESPANA               PCR              NEGRO   \n2   LEVE              ESPANA               PCR               OTRO   \n3   LEVE             NO INFO               PCR               OTRO   \n4   LEVE             NO INFO               PCR               OTRO   \n\n  NOMBRE GRUPO ETNICO  \n0             NO INFO  \n1             NO INFO  \n2             NO INFO  \n3             NO INFO  \n4             NO INFO  ",
      "text/html": "<div>\n<style scoped>\n    .dataframe tbody tr th:only-of-type {\n        vertical-align: middle;\n    }\n\n    .dataframe tbody tr th {\n        vertical-align: top;\n    }\n\n    .dataframe thead th {\n        text-align: right;\n    }\n</style>\n<table border=\"1\" class=\"dataframe\">\n  <thead>\n    <tr style=\"text-align: right;\">\n      <th></th>\n      <th>CIUDAD DE UBICACIÓN</th>\n      <th>DEPARTAMENTO O DISTRITO</th>\n      <th>ATENCIÓN</th>\n      <th>SEXO</th>\n      <th>TIPO</th>\n      <th>ESTADO</th>\n      <th>PAÍS DE PROCEDENCIA</th>\n      <th>TIPO RECUPERACIÓN</th>\n      <th>PERTENENCIA ETNICA</th>\n      <th>NOMBRE GRUPO ETNICO</th>\n    </tr>\n  </thead>\n  <tbody>\n    <tr>\n      <th>0</th>\n      <td>BOGOTA D.C.</td>\n      <td>BOGOTA D.C.</td>\n      <td>RECUPERADO</td>\n      <td>F</td>\n      <td>IMPORTADO</td>\n      <td>LEVE</td>\n      <td>ITALIA</td>\n      <td>PCR</td>\n      <td>OTRO</td>\n      <td>NO INFO</td>\n    </tr>\n    <tr>\n      <th>1</th>\n      <td>GUADALAJARA DE BUGA</td>\n      <td>VALLE DEL CAUCA</td>\n      <td>RECUPERADO</td>\n      <td>M</td>\n      <td>IMPORTADO</td>\n      <td>LEVE</td>\n      <td>ESPANA</td>\n      <td>PCR</td>\n      <td>NEGRO</td>\n      <td>NO INFO</td>\n    </tr>\n    <tr>\n      <th>2</th>\n      <td>MEDELLIN</td>\n      <td>ANTIOQUIA</td>\n      <td>RECUPERADO</td>\n      <td>F</td>\n      <td>IMPORTADO</td>\n      <td>LEVE</td>\n      <td>ESPANA</td>\n      <td>PCR</td>\n      <td>OTRO</td>\n      <td>NO INFO</td>\n    </tr>\n    <tr>\n      <th>3</th>\n      <td>MEDELLIN</td>\n      <td>ANTIOQUIA</td>\n      <td>RECUPERADO</td>\n      <td>M</td>\n      <td>RELACIONADO</td>\n      <td>LEVE</td>\n      <td>NO INFO</td>\n      <td>PCR</td>\n      <td>OTRO</td>\n      <td>NO INFO</td>\n    </tr>\n    <tr>\n      <th>4</th>\n      <td>MEDELLIN</td>\n      <td>ANTIOQUIA</td>\n      <td>RECUPERADO</td>\n      <td>M</td>\n      <td>RELACIONADO</td>\n      <td>LEVE</td>\n      <td>NO INFO</td>\n      <td>PCR</td>\n      <td>OTRO</td>\n      <td>NO INFO</td>\n    </tr>\n  </tbody>\n</table>\n</div>"
     },
     "metadata": {},
     "execution_count": 23
    }
   ],
   "source": [
    "df.select_dtypes(include=['object']).head()"
   ]
  },
  {
   "cell_type": "code",
   "execution_count": 24,
   "metadata": {
    "tags": []
   },
   "outputs": [
    {
     "output_type": "stream",
     "name": "stdout",
     "text": "------------------------------------------\nID DE CASO\n743945\n------------------------------------------\nCÓDIGO DIVIPOLA\n1042\n------------------------------------------\nCIUDAD DE UBICACIÓN\n966\n------------------------------------------\nDEPARTAMENTO O DISTRITO \n37\n------------------------------------------\nATENCIÓN\n6\n------------------------------------------\nEDAD\n112\n------------------------------------------\nSEXO\n2\n------------------------------------------\nTIPO\n3\n------------------------------------------\nESTADO\n6\n------------------------------------------\nPAÍS DE PROCEDENCIA\n48\n------------------------------------------\nTIPO RECUPERACIÓN\n3\n------------------------------------------\nCODIGO DEPARTAMENTO\n33\n------------------------------------------\nCODIGO PAIS\n46\n------------------------------------------\nPERTENENCIA ETNICA\n5\n------------------------------------------\nNOMBRE GRUPO ETNICO\n716\n------------------------------------------\nASINTOMÁTICO FIS\n1\n"
    }
   ],
   "source": [
    "for columna in df.select_dtypes(exclude='datetime').columns:#.drop(['ID de caso','Código DIVIPOLA','Ciudad de ubicación'],axis=1).columns:\n",
    "    print('------------------------------------------')\n",
    "    print(columna)\n",
    "    print(len(df[columna].unique()))"
   ]
  },
  {
   "cell_type": "code",
   "execution_count": 25,
   "metadata": {},
   "outputs": [
    {
     "output_type": "execute_result",
     "data": {
      "text/plain": "                     feature     len\n0                 ID DE CASO  743945\n1            CÓDIGO DIVIPOLA    1042\n2        CIUDAD DE UBICACIÓN     966\n3   DEPARTAMENTO O DISTRITO       37\n4                   ATENCIÓN       6\n5                       EDAD     112\n6                       SEXO       2\n7                       TIPO       3\n8                     ESTADO       6\n9        PAÍS DE PROCEDENCIA      48\n10         TIPO RECUPERACIÓN       3\n11       CODIGO DEPARTAMENTO      33\n12               CODIGO PAIS      46\n13        PERTENENCIA ETNICA       5\n14       NOMBRE GRUPO ETNICO     716\n15          ASINTOMÁTICO FIS       1",
      "text/html": "<div>\n<style scoped>\n    .dataframe tbody tr th:only-of-type {\n        vertical-align: middle;\n    }\n\n    .dataframe tbody tr th {\n        vertical-align: top;\n    }\n\n    .dataframe thead th {\n        text-align: right;\n    }\n</style>\n<table border=\"1\" class=\"dataframe\">\n  <thead>\n    <tr style=\"text-align: right;\">\n      <th></th>\n      <th>feature</th>\n      <th>len</th>\n    </tr>\n  </thead>\n  <tbody>\n    <tr>\n      <th>0</th>\n      <td>ID DE CASO</td>\n      <td>743945</td>\n    </tr>\n    <tr>\n      <th>1</th>\n      <td>CÓDIGO DIVIPOLA</td>\n      <td>1042</td>\n    </tr>\n    <tr>\n      <th>2</th>\n      <td>CIUDAD DE UBICACIÓN</td>\n      <td>966</td>\n    </tr>\n    <tr>\n      <th>3</th>\n      <td>DEPARTAMENTO O DISTRITO</td>\n      <td>37</td>\n    </tr>\n    <tr>\n      <th>4</th>\n      <td>ATENCIÓN</td>\n      <td>6</td>\n    </tr>\n    <tr>\n      <th>5</th>\n      <td>EDAD</td>\n      <td>112</td>\n    </tr>\n    <tr>\n      <th>6</th>\n      <td>SEXO</td>\n      <td>2</td>\n    </tr>\n    <tr>\n      <th>7</th>\n      <td>TIPO</td>\n      <td>3</td>\n    </tr>\n    <tr>\n      <th>8</th>\n      <td>ESTADO</td>\n      <td>6</td>\n    </tr>\n    <tr>\n      <th>9</th>\n      <td>PAÍS DE PROCEDENCIA</td>\n      <td>48</td>\n    </tr>\n    <tr>\n      <th>10</th>\n      <td>TIPO RECUPERACIÓN</td>\n      <td>3</td>\n    </tr>\n    <tr>\n      <th>11</th>\n      <td>CODIGO DEPARTAMENTO</td>\n      <td>33</td>\n    </tr>\n    <tr>\n      <th>12</th>\n      <td>CODIGO PAIS</td>\n      <td>46</td>\n    </tr>\n    <tr>\n      <th>13</th>\n      <td>PERTENENCIA ETNICA</td>\n      <td>5</td>\n    </tr>\n    <tr>\n      <th>14</th>\n      <td>NOMBRE GRUPO ETNICO</td>\n      <td>716</td>\n    </tr>\n    <tr>\n      <th>15</th>\n      <td>ASINTOMÁTICO FIS</td>\n      <td>1</td>\n    </tr>\n  </tbody>\n</table>\n</div>"
     },
     "metadata": {},
     "execution_count": 25
    }
   ],
   "source": [
    "# same code as before but using list mprehension and converting it into a DataFrame\n",
    "pd.DataFrame([[p,len(df[p].unique())] for p in df.select_dtypes(exclude='datetime').columns],columns=['feature','len'])"
   ]
  },
  {
   "cell_type": "markdown",
   "metadata": {},
   "source": [
    "We saw that some of the values of the features reduce, bc duplicated values has been removed.\n"
   ]
  },
  {
   "cell_type": "code",
   "execution_count": 26,
   "metadata": {
    "tags": []
   },
   "outputs": [
    {
     "output_type": "stream",
     "name": "stdout",
     "text": "------------------------------------------\nATENCIÓN\n['RECUPERADO' 'FALLECIDO' 'NO INFO' 'CASA' 'HOSPITAL' 'HOSPITAL UCI']\n------------------------------------------\nSEXO\n['F' 'M']\n------------------------------------------\nTIPO\n['IMPORTADO' 'RELACIONADO' 'EN ESTUDIO']\n------------------------------------------\nESTADO\n['LEVE' 'ASINTOMATICO' 'FALLECIDO' 'NO INFO' 'MODERADO' 'GRAVE']\n------------------------------------------\nTIPO RECUPERACIÓN\n['PCR' 'TIEMPO' 'NO INFO']\n------------------------------------------\nPERTENENCIA ETNICA\n['OTRO' 'NEGRO' 'INDIGENA' 'ROM' 'NO INFO']\n------------------------------------------\nASINTOMÁTICO FIS\n[nan]\n"
    }
   ],
   "source": [
    "for columna in df.select_dtypes(exclude='datetime').drop(['ID DE CASO','CÓDIGO DIVIPOLA','CIUDAD DE UBICACIÓN'],axis=1).columns:\n",
    "    if len(df[columna].unique())<10:\n",
    "        print('------------------------------------------')\n",
    "        print(columna)\n",
    "        print(df[columna].unique())"
   ]
  },
  {
   "cell_type": "markdown",
   "metadata": {},
   "source": [
    "Next thing to do is check if the ```atención values``` agrees with ```Estado```, and dates match , i.g.  we don't want  that feature 'Estado'='Fallecido' have a different value in the feature 'atención'"
   ]
  },
  {
   "cell_type": "code",
   "execution_count": 27,
   "metadata": {
    "tags": []
   },
   "outputs": [
    {
     "output_type": "stream",
     "name": "stdout",
     "text": "------------------------\nATENCIÓN: RECUPERADO\nLEVE            537128\nASINTOMATICO     67653\nMODERADO          9221\nGRAVE             1162\nNO INFO            293\nName: ESTADO, dtype: int64\n------------------------\nATENCIÓN: FALLECIDO\nFALLECIDO    23665\nName: ESTADO, dtype: int64\n------------------------\nATENCIÓN: NO INFO\nNO INFO         1477\nASINTOMATICO      79\nName: ESTADO, dtype: int64\n------------------------\nATENCIÓN: CASA\nLEVE            63939\nASINTOMATICO    24684\nName: ESTADO, dtype: int64\n------------------------\nATENCIÓN: HOSPITAL\nMODERADO        13218\nASINTOMATICO      284\nName: ESTADO, dtype: int64\n------------------------\nATENCIÓN: HOSPITAL UCI\nGRAVE           1034\nASINTOMATICO     108\nName: ESTADO, dtype: int64\n"
    }
   ],
   "source": [
    "for atenticion in df['ATENCIÓN'].unique():\n",
    "    print('------------------------')\n",
    "    print('ATENCIÓN: '+atenticion)\n",
    "    print(df[df['ATENCIÓN']==atenticion]['ESTADO'].value_counts())"
   ]
  },
  {
   "cell_type": "markdown",
   "metadata": {},
   "source": [
    "Remark for the unique values of  the feature Estado:\n",
    "\n",
    "* 'Recuperado' have LEVE, MODERADO, GRAVE, ASINTOMATICO and NO INFO. maybe that was the health condition of those  people.\n",
    "\n",
    "* 'Fallecido' seems good has it have no different values despite FALLECIIDO\n",
    "\n",
    "* 'HOSPITAL' only have MODERADO and ASINTOMATICO, for that las values his wird to have it in HOSPITAL.\n",
    "\n",
    "* 'HOSPITAL UCI' GRAVE seems good for that health condition BUT IT IS WEIRD TO THINK THAT ASINTOMATICO IS IN UCI.\n",
    "\n",
    "* 'NO INFO'  contains NO INFO and ASINTOMATICO\n",
    "\n",
    "* 'CASA' have LEVE and ASINTOMATICO, wich seems good."
   ]
  },
  {
   "cell_type": "markdown",
   "metadata": {},
   "source": [
    "We need to drop  Estado= ASINTOMATICO where atención= HOSPITAL and atención=HOSPITAL UCI"
   ]
  },
  {
   "cell_type": "code",
   "execution_count": 28,
   "metadata": {
    "tags": []
   },
   "outputs": [
    {
     "output_type": "stream",
     "name": "stdout",
     "text": "(743945, 22)\n(743661, 22)\n(743837, 22)\n"
    }
   ],
   "source": [
    "#getting the index \n",
    "idx_h=df[(df['ESTADO']=='ASINTOMATICO') & (df['ATENCIÓN']=='HOSPITAL')].index\n",
    "idx_hu=df[(df['ESTADO']=='ASINTOMATICO') & (df['ATENCIÓN']=='HOSPITAL UCI')].index\n",
    "\n",
    "#printing the shape of the df when droping those indexes \n",
    "print(df.shape)\n",
    "print(df.drop(idx_h).shape)\n",
    "print(df.drop(idx_hu).shape)"
   ]
  },
  {
   "cell_type": "code",
   "execution_count": 29,
   "metadata": {},
   "outputs": [],
   "source": [
    "#droping those indexes in the data frame\n",
    "df.drop(idx_h,inplace=True)\n",
    "df.drop(idx_hu,inplace=True)"
   ]
  },
  {
   "cell_type": "code",
   "execution_count": 30,
   "metadata": {
    "tags": []
   },
   "outputs": [
    {
     "output_type": "stream",
     "name": "stdout",
     "text": "------------------------\nATENCIÓN: RECUPERADO\nTIEMPO    510302\nPCR       105155\nName: TIPO RECUPERACIÓN, dtype: int64\n------------------------\nATENCIÓN: FALLECIDO\nNO INFO    23665\nName: TIPO RECUPERACIÓN, dtype: int64\n------------------------\nATENCIÓN: NO INFO\nNO INFO    1556\nName: TIPO RECUPERACIÓN, dtype: int64\n------------------------\nATENCIÓN: CASA\nNO INFO    88623\nName: TIPO RECUPERACIÓN, dtype: int64\n------------------------\nATENCIÓN: HOSPITAL\nNO INFO    13218\nName: TIPO RECUPERACIÓN, dtype: int64\n------------------------\nATENCIÓN: HOSPITAL UCI\nNO INFO    1034\nName: TIPO RECUPERACIÓN, dtype: int64\n"
    }
   ],
   "source": [
    "for atenticion in df['ATENCIÓN'].unique():\n",
    "    print('------------------------')\n",
    "    print('ATENCIÓN: '+atenticion)\n",
    "    print(df[df['ATENCIÓN']==atenticion]['TIPO RECUPERACIÓN'].value_counts())\n"
   ]
  },
  {
   "cell_type": "markdown",
   "metadata": {},
   "source": [
    "Seems good for every feature, becasue NO INFO means there is not values (nan). And RECUPERADO must be the only one with valid data."
   ]
  },
  {
   "cell_type": "markdown",
   "metadata": {},
   "source": [
    "Check if ASINTOMATICO FIS have different values for Estado when  Estado='ASINTOMATICO'"
   ]
  },
  {
   "cell_type": "code",
   "execution_count": 31,
   "metadata": {},
   "outputs": [
    {
     "output_type": "execute_result",
     "data": {
      "text/plain": "array(['LEVE', 'ASINTOMATICO', 'FALLECIDO', 'NO INFO', 'MODERADO',\n       'GRAVE'], dtype=object)"
     },
     "metadata": {},
     "execution_count": 31
    }
   ],
   "source": [
    "#si tipo de recuperacón presente solo esta para los de atención=RECUPERADO\n",
    "df[~(df['ASINTOMÁTICO FIS']=='ASINTOMATICO')]['ESTADO'].unique()"
   ]
  },
  {
   "cell_type": "markdown",
   "metadata": {},
   "source": [
    "ASINTOMÁTICO FIS=ASINTOMATICO must not appear when looking in Estado!= ASINTOMATICO."
   ]
  },
  {
   "cell_type": "code",
   "execution_count": 32,
   "metadata": {},
   "outputs": [
    {
     "output_type": "execute_result",
     "data": {
      "text/plain": "        ID DE CASO FECHA DE NOTIFICACIÓN  CÓDIGO DIVIPOLA  \\\n25              26            2020-03-15            13001   \n26              27            2020-03-15            13001   \n40              41            2020-03-14            41001   \n47              48            2020-03-15            11001   \n84              85            2020-03-17            76001   \n...            ...                   ...              ...   \n742122      742163            2020-09-15            11001   \n742123      742164            2020-09-16            11001   \n742309      742350            2020-09-13            54001   \n742334      742375            2020-09-14             8001   \n742337      742378            2020-09-15            76001   \n\n        CIUDAD DE UBICACIÓN DEPARTAMENTO O DISTRITO     ATENCIÓN  EDAD SEXO  \\\n25      CARTAGENA DE INDIAS      CARTAGENA D.T. Y C.  RECUPERADO    30    F   \n26      CARTAGENA DE INDIAS      CARTAGENA D.T. Y C.  RECUPERADO    30    F   \n40                    NEIVA                    HUILA  RECUPERADO    79    M   \n47              BOGOTA D.C.              BOGOTA D.C.  RECUPERADO    31    M   \n84                     CALI          VALLE DEL CAUCA  RECUPERADO    42    F   \n...                     ...                      ...         ...   ...  ...   \n742122          BOGOTA D.C.              BOGOTA D.C.        CASA    62    M   \n742123          BOGOTA D.C.              BOGOTA D.C.        CASA    29    M   \n742309               CUCUTA       NORTE DE SANTANDER        CASA     2    F   \n742334         BARRANQUILLA        BARRANQUILLA D.E.        CASA    50    F   \n742337                 CALI          VALLE DEL CAUCA        CASA    38    M   \n\n               TIPO        ESTADO PAÍS DE PROCEDENCIA FIS FECHA DE MUERTE  \\\n25      RELACIONADO  ASINTOMATICO             NO INFO NaT             NaT   \n26      RELACIONADO  ASINTOMATICO             NO INFO NaT             NaT   \n40      RELACIONADO  ASINTOMATICO             NO INFO NaT             NaT   \n47      RELACIONADO  ASINTOMATICO             NO INFO NaT             NaT   \n84      RELACIONADO  ASINTOMATICO             NO INFO NaT             NaT   \n...             ...           ...                 ...  ..             ...   \n742122   EN ESTUDIO  ASINTOMATICO             NO INFO NaT             NaT   \n742123   EN ESTUDIO  ASINTOMATICO             NO INFO NaT             NaT   \n742309   EN ESTUDIO  ASINTOMATICO             NO INFO NaT             NaT   \n742334   EN ESTUDIO  ASINTOMATICO             NO INFO NaT             NaT   \n742337   EN ESTUDIO  ASINTOMATICO             NO INFO NaT             NaT   \n\n       FECHA DIAGNOSTICO FECHA RECUPERADO FECHA REPORTE WEB TIPO RECUPERACIÓN  \\\n25            2020-03-15       2020-03-25        2020-03-15               PCR   \n26            2020-03-15       2020-03-25        2020-03-15               PCR   \n40            2020-03-14       2020-03-28        2020-03-14               PCR   \n47            2020-03-16       2020-03-27        2020-03-16               PCR   \n84            2020-03-17       2020-05-31        2020-03-17               PCR   \n...                  ...              ...               ...               ...   \n742122        2020-09-15              NaT        2020-09-17           NO INFO   \n742123        2020-09-16              NaT        2020-09-17           NO INFO   \n742309        2020-09-16              NaT        2020-09-17           NO INFO   \n742334        2020-09-15              NaT        2020-09-17           NO INFO   \n742337        2020-09-16              NaT        2020-09-17           NO INFO   \n\n        CODIGO DEPARTAMENTO  CODIGO PAIS PERTENENCIA ETNICA  \\\n25                       13          NaN               OTRO   \n26                       13          NaN               OTRO   \n40                       41          NaN               OTRO   \n47                       11          NaN               OTRO   \n84                       76          NaN               OTRO   \n...                     ...          ...                ...   \n742122                   11          NaN            NO INFO   \n742123                   11          NaN            NO INFO   \n742309                   54          NaN            NO INFO   \n742334                    8          NaN            NO INFO   \n742337                   76          NaN            NO INFO   \n\n       NOMBRE GRUPO ETNICO  ASINTOMÁTICO FIS  \n25                 NO INFO               NaN  \n26                 NO INFO               NaN  \n40                 NO INFO               NaN  \n47                 NO INFO               NaN  \n84                 NO INFO               NaN  \n...                    ...               ...  \n742122             NO INFO               NaN  \n742123             NO INFO               NaN  \n742309             NO INFO               NaN  \n742334             NO INFO               NaN  \n742337             NO INFO               NaN  \n\n[92416 rows x 22 columns]",
      "text/html": "<div>\n<style scoped>\n    .dataframe tbody tr th:only-of-type {\n        vertical-align: middle;\n    }\n\n    .dataframe tbody tr th {\n        vertical-align: top;\n    }\n\n    .dataframe thead th {\n        text-align: right;\n    }\n</style>\n<table border=\"1\" class=\"dataframe\">\n  <thead>\n    <tr style=\"text-align: right;\">\n      <th></th>\n      <th>ID DE CASO</th>\n      <th>FECHA DE NOTIFICACIÓN</th>\n      <th>CÓDIGO DIVIPOLA</th>\n      <th>CIUDAD DE UBICACIÓN</th>\n      <th>DEPARTAMENTO O DISTRITO</th>\n      <th>ATENCIÓN</th>\n      <th>EDAD</th>\n      <th>SEXO</th>\n      <th>TIPO</th>\n      <th>ESTADO</th>\n      <th>PAÍS DE PROCEDENCIA</th>\n      <th>FIS</th>\n      <th>FECHA DE MUERTE</th>\n      <th>FECHA DIAGNOSTICO</th>\n      <th>FECHA RECUPERADO</th>\n      <th>FECHA REPORTE WEB</th>\n      <th>TIPO RECUPERACIÓN</th>\n      <th>CODIGO DEPARTAMENTO</th>\n      <th>CODIGO PAIS</th>\n      <th>PERTENENCIA ETNICA</th>\n      <th>NOMBRE GRUPO ETNICO</th>\n      <th>ASINTOMÁTICO FIS</th>\n    </tr>\n  </thead>\n  <tbody>\n    <tr>\n      <th>25</th>\n      <td>26</td>\n      <td>2020-03-15</td>\n      <td>13001</td>\n      <td>CARTAGENA DE INDIAS</td>\n      <td>CARTAGENA D.T. Y C.</td>\n      <td>RECUPERADO</td>\n      <td>30</td>\n      <td>F</td>\n      <td>RELACIONADO</td>\n      <td>ASINTOMATICO</td>\n      <td>NO INFO</td>\n      <td>NaT</td>\n      <td>NaT</td>\n      <td>2020-03-15</td>\n      <td>2020-03-25</td>\n      <td>2020-03-15</td>\n      <td>PCR</td>\n      <td>13</td>\n      <td>NaN</td>\n      <td>OTRO</td>\n      <td>NO INFO</td>\n      <td>NaN</td>\n    </tr>\n    <tr>\n      <th>26</th>\n      <td>27</td>\n      <td>2020-03-15</td>\n      <td>13001</td>\n      <td>CARTAGENA DE INDIAS</td>\n      <td>CARTAGENA D.T. Y C.</td>\n      <td>RECUPERADO</td>\n      <td>30</td>\n      <td>F</td>\n      <td>RELACIONADO</td>\n      <td>ASINTOMATICO</td>\n      <td>NO INFO</td>\n      <td>NaT</td>\n      <td>NaT</td>\n      <td>2020-03-15</td>\n      <td>2020-03-25</td>\n      <td>2020-03-15</td>\n      <td>PCR</td>\n      <td>13</td>\n      <td>NaN</td>\n      <td>OTRO</td>\n      <td>NO INFO</td>\n      <td>NaN</td>\n    </tr>\n    <tr>\n      <th>40</th>\n      <td>41</td>\n      <td>2020-03-14</td>\n      <td>41001</td>\n      <td>NEIVA</td>\n      <td>HUILA</td>\n      <td>RECUPERADO</td>\n      <td>79</td>\n      <td>M</td>\n      <td>RELACIONADO</td>\n      <td>ASINTOMATICO</td>\n      <td>NO INFO</td>\n      <td>NaT</td>\n      <td>NaT</td>\n      <td>2020-03-14</td>\n      <td>2020-03-28</td>\n      <td>2020-03-14</td>\n      <td>PCR</td>\n      <td>41</td>\n      <td>NaN</td>\n      <td>OTRO</td>\n      <td>NO INFO</td>\n      <td>NaN</td>\n    </tr>\n    <tr>\n      <th>47</th>\n      <td>48</td>\n      <td>2020-03-15</td>\n      <td>11001</td>\n      <td>BOGOTA D.C.</td>\n      <td>BOGOTA D.C.</td>\n      <td>RECUPERADO</td>\n      <td>31</td>\n      <td>M</td>\n      <td>RELACIONADO</td>\n      <td>ASINTOMATICO</td>\n      <td>NO INFO</td>\n      <td>NaT</td>\n      <td>NaT</td>\n      <td>2020-03-16</td>\n      <td>2020-03-27</td>\n      <td>2020-03-16</td>\n      <td>PCR</td>\n      <td>11</td>\n      <td>NaN</td>\n      <td>OTRO</td>\n      <td>NO INFO</td>\n      <td>NaN</td>\n    </tr>\n    <tr>\n      <th>84</th>\n      <td>85</td>\n      <td>2020-03-17</td>\n      <td>76001</td>\n      <td>CALI</td>\n      <td>VALLE DEL CAUCA</td>\n      <td>RECUPERADO</td>\n      <td>42</td>\n      <td>F</td>\n      <td>RELACIONADO</td>\n      <td>ASINTOMATICO</td>\n      <td>NO INFO</td>\n      <td>NaT</td>\n      <td>NaT</td>\n      <td>2020-03-17</td>\n      <td>2020-05-31</td>\n      <td>2020-03-17</td>\n      <td>PCR</td>\n      <td>76</td>\n      <td>NaN</td>\n      <td>OTRO</td>\n      <td>NO INFO</td>\n      <td>NaN</td>\n    </tr>\n    <tr>\n      <th>...</th>\n      <td>...</td>\n      <td>...</td>\n      <td>...</td>\n      <td>...</td>\n      <td>...</td>\n      <td>...</td>\n      <td>...</td>\n      <td>...</td>\n      <td>...</td>\n      <td>...</td>\n      <td>...</td>\n      <td>...</td>\n      <td>...</td>\n      <td>...</td>\n      <td>...</td>\n      <td>...</td>\n      <td>...</td>\n      <td>...</td>\n      <td>...</td>\n      <td>...</td>\n      <td>...</td>\n      <td>...</td>\n    </tr>\n    <tr>\n      <th>742122</th>\n      <td>742163</td>\n      <td>2020-09-15</td>\n      <td>11001</td>\n      <td>BOGOTA D.C.</td>\n      <td>BOGOTA D.C.</td>\n      <td>CASA</td>\n      <td>62</td>\n      <td>M</td>\n      <td>EN ESTUDIO</td>\n      <td>ASINTOMATICO</td>\n      <td>NO INFO</td>\n      <td>NaT</td>\n      <td>NaT</td>\n      <td>2020-09-15</td>\n      <td>NaT</td>\n      <td>2020-09-17</td>\n      <td>NO INFO</td>\n      <td>11</td>\n      <td>NaN</td>\n      <td>NO INFO</td>\n      <td>NO INFO</td>\n      <td>NaN</td>\n    </tr>\n    <tr>\n      <th>742123</th>\n      <td>742164</td>\n      <td>2020-09-16</td>\n      <td>11001</td>\n      <td>BOGOTA D.C.</td>\n      <td>BOGOTA D.C.</td>\n      <td>CASA</td>\n      <td>29</td>\n      <td>M</td>\n      <td>EN ESTUDIO</td>\n      <td>ASINTOMATICO</td>\n      <td>NO INFO</td>\n      <td>NaT</td>\n      <td>NaT</td>\n      <td>2020-09-16</td>\n      <td>NaT</td>\n      <td>2020-09-17</td>\n      <td>NO INFO</td>\n      <td>11</td>\n      <td>NaN</td>\n      <td>NO INFO</td>\n      <td>NO INFO</td>\n      <td>NaN</td>\n    </tr>\n    <tr>\n      <th>742309</th>\n      <td>742350</td>\n      <td>2020-09-13</td>\n      <td>54001</td>\n      <td>CUCUTA</td>\n      <td>NORTE DE SANTANDER</td>\n      <td>CASA</td>\n      <td>2</td>\n      <td>F</td>\n      <td>EN ESTUDIO</td>\n      <td>ASINTOMATICO</td>\n      <td>NO INFO</td>\n      <td>NaT</td>\n      <td>NaT</td>\n      <td>2020-09-16</td>\n      <td>NaT</td>\n      <td>2020-09-17</td>\n      <td>NO INFO</td>\n      <td>54</td>\n      <td>NaN</td>\n      <td>NO INFO</td>\n      <td>NO INFO</td>\n      <td>NaN</td>\n    </tr>\n    <tr>\n      <th>742334</th>\n      <td>742375</td>\n      <td>2020-09-14</td>\n      <td>8001</td>\n      <td>BARRANQUILLA</td>\n      <td>BARRANQUILLA D.E.</td>\n      <td>CASA</td>\n      <td>50</td>\n      <td>F</td>\n      <td>EN ESTUDIO</td>\n      <td>ASINTOMATICO</td>\n      <td>NO INFO</td>\n      <td>NaT</td>\n      <td>NaT</td>\n      <td>2020-09-15</td>\n      <td>NaT</td>\n      <td>2020-09-17</td>\n      <td>NO INFO</td>\n      <td>8</td>\n      <td>NaN</td>\n      <td>NO INFO</td>\n      <td>NO INFO</td>\n      <td>NaN</td>\n    </tr>\n    <tr>\n      <th>742337</th>\n      <td>742378</td>\n      <td>2020-09-15</td>\n      <td>76001</td>\n      <td>CALI</td>\n      <td>VALLE DEL CAUCA</td>\n      <td>CASA</td>\n      <td>38</td>\n      <td>M</td>\n      <td>EN ESTUDIO</td>\n      <td>ASINTOMATICO</td>\n      <td>NO INFO</td>\n      <td>NaT</td>\n      <td>NaT</td>\n      <td>2020-09-16</td>\n      <td>NaT</td>\n      <td>2020-09-17</td>\n      <td>NO INFO</td>\n      <td>76</td>\n      <td>NaN</td>\n      <td>NO INFO</td>\n      <td>NO INFO</td>\n      <td>NaN</td>\n    </tr>\n  </tbody>\n</table>\n<p>92416 rows × 22 columns</p>\n</div>"
     },
     "metadata": {},
     "execution_count": 32
    }
   ],
   "source": [
    "t=df[~(df['ASINTOMÁTICO FIS']=='ASINTOMATICO')]\n",
    "t[t.ESTADO=='ASINTOMATICO']"
   ]
  },
  {
   "cell_type": "code",
   "execution_count": 33,
   "metadata": {},
   "outputs": [
    {
     "output_type": "execute_result",
     "data": {
      "text/plain": "array([nan])"
     },
     "metadata": {},
     "execution_count": 33
    }
   ],
   "source": [
    "df[(df['ESTADO']=='ASINTOMATICO')]['ASINTOMÁTICO FIS'].unique()"
   ]
  },
  {
   "source": [
    "Seem that FIS has been fixed, as in previous versions of the database,FIS contains string values as 'Asintomático'"
   ],
   "cell_type": "markdown",
   "metadata": {}
  },
  {
   "cell_type": "code",
   "execution_count": 34,
   "metadata": {},
   "outputs": [],
   "source": [
    "#dropping 'ASINTOMÁTICO FIS'\n",
    "df.drop(columns=['ASINTOMÁTICO FIS'], inplace=True)"
   ]
  },
  {
   "cell_type": "markdown",
   "metadata": {},
   "source": [
    "Checking the 'Tipo' values for each unique value of 'atención'"
   ]
  },
  {
   "cell_type": "code",
   "execution_count": 35,
   "metadata": {
    "tags": []
   },
   "outputs": [
    {
     "output_type": "stream",
     "name": "stdout",
     "text": "-------------------------\nRECUPERADO\nEN ESTUDIO     577183\nRELACIONADO     37328\nIMPORTADO         946\nName: TIPO, dtype: int64\n-------------------------\nFALLECIDO\nEN ESTUDIO     23006\nRELACIONADO      636\nIMPORTADO         23\nName: TIPO, dtype: int64\n-------------------------\nNO INFO\nEN ESTUDIO     1513\nRELACIONADO      43\nName: TIPO, dtype: int64\n-------------------------\nCASA\nEN ESTUDIO     87819\nRELACIONADO      800\nIMPORTADO          4\nName: TIPO, dtype: int64\n-------------------------\nHOSPITAL\nEN ESTUDIO     13110\nRELACIONADO      104\nIMPORTADO          4\nName: TIPO, dtype: int64\n-------------------------\nHOSPITAL UCI\nEN ESTUDIO     1026\nRELACIONADO       8\nName: TIPO, dtype: int64\n"
    }
   ],
   "source": [
    "for values in df['ATENCIÓN'].unique():\n",
    "    print('-------------------------')\n",
    "    print(values)\n",
    "    print(df[df['ATENCIÓN']==values]['TIPO'].value_counts())"
   ]
  },
  {
   "cell_type": "markdown",
   "metadata": {},
   "source": []
  },
  {
   "cell_type": "markdown",
   "metadata": {},
   "source": [
    "Validating that we have not different values for atentción feature when Estado = 'FALLECIDO'"
   ]
  },
  {
   "cell_type": "code",
   "execution_count": 36,
   "metadata": {},
   "outputs": [
    {
     "output_type": "execute_result",
     "data": {
      "text/plain": "Empty DataFrame\nColumns: [ID DE CASO, FECHA DE NOTIFICACIÓN, CÓDIGO DIVIPOLA, CIUDAD DE UBICACIÓN, DEPARTAMENTO O DISTRITO , ATENCIÓN, EDAD, SEXO, TIPO, ESTADO, PAÍS DE PROCEDENCIA, FIS, FECHA DE MUERTE, FECHA DIAGNOSTICO, FECHA RECUPERADO, FECHA REPORTE WEB, TIPO RECUPERACIÓN, CODIGO DEPARTAMENTO, CODIGO PAIS, PERTENENCIA ETNICA, NOMBRE GRUPO ETNICO]\nIndex: []",
      "text/html": "<div>\n<style scoped>\n    .dataframe tbody tr th:only-of-type {\n        vertical-align: middle;\n    }\n\n    .dataframe tbody tr th {\n        vertical-align: top;\n    }\n\n    .dataframe thead th {\n        text-align: right;\n    }\n</style>\n<table border=\"1\" class=\"dataframe\">\n  <thead>\n    <tr style=\"text-align: right;\">\n      <th></th>\n      <th>ID DE CASO</th>\n      <th>FECHA DE NOTIFICACIÓN</th>\n      <th>CÓDIGO DIVIPOLA</th>\n      <th>CIUDAD DE UBICACIÓN</th>\n      <th>DEPARTAMENTO O DISTRITO</th>\n      <th>ATENCIÓN</th>\n      <th>EDAD</th>\n      <th>SEXO</th>\n      <th>TIPO</th>\n      <th>ESTADO</th>\n      <th>PAÍS DE PROCEDENCIA</th>\n      <th>FIS</th>\n      <th>FECHA DE MUERTE</th>\n      <th>FECHA DIAGNOSTICO</th>\n      <th>FECHA RECUPERADO</th>\n      <th>FECHA REPORTE WEB</th>\n      <th>TIPO RECUPERACIÓN</th>\n      <th>CODIGO DEPARTAMENTO</th>\n      <th>CODIGO PAIS</th>\n      <th>PERTENENCIA ETNICA</th>\n      <th>NOMBRE GRUPO ETNICO</th>\n    </tr>\n  </thead>\n  <tbody>\n  </tbody>\n</table>\n</div>"
     },
     "metadata": {},
     "execution_count": 36
    }
   ],
   "source": [
    "df[(df['ESTADO']=='FALLECIDO') & (df['ATENCIÓN']!='FALLECIDO')]"
   ]
  },
  {
   "cell_type": "markdown",
   "metadata": {},
   "source": [
    "Seem's good.\n",
    "\n",
    "Next thing to do is check that we have no dates like Fecha de muerte prior fecha de notificación or diagnostico"
   ]
  },
  {
   "cell_type": "code",
   "execution_count": 37,
   "metadata": {},
   "outputs": [
    {
     "output_type": "execute_result",
     "data": {
      "text/plain": "FECHA DE NOTIFICACIÓN    False\nFIS                       True\nFECHA DE MUERTE           True\nFECHA DIAGNOSTICO         True\nFECHA RECUPERADO          True\nFECHA REPORTE WEB        False\ndtype: bool"
     },
     "metadata": {},
     "execution_count": 37
    }
   ],
   "source": [
    "df.select_dtypes(include='datetime').isnull().any()"
   ]
  },
  {
   "cell_type": "code",
   "execution_count": 38,
   "metadata": {
    "tags": []
   },
   "outputs": [
    {
     "output_type": "stream",
     "name": "stdout",
     "text": "<class 'pandas.core.frame.DataFrame'>\nInt64Index: 743553 entries, 0 to 743944\nData columns (total 6 columns):\n #   Column                 Non-Null Count   Dtype         \n---  ------                 --------------   -----         \n 0   FECHA DE NOTIFICACIÓN  743553 non-null  datetime64[ns]\n 1   FIS                    651137 non-null  datetime64[ns]\n 2   FECHA DE MUERTE        25290 non-null   datetime64[ns]\n 3   FECHA DIAGNOSTICO      739484 non-null  datetime64[ns]\n 4   FECHA RECUPERADO       615457 non-null  datetime64[ns]\n 5   FECHA REPORTE WEB      743553 non-null  datetime64[ns]\ndtypes: datetime64[ns](6)\nmemory usage: 39.7 MB\n"
    }
   ],
   "source": [
    "df.select_dtypes(include='datetime').info()"
   ]
  },
  {
   "cell_type": "markdown",
   "metadata": {},
   "source": [
    "We have various dates with null values, need to take in mind those when cheking for prior dates"
   ]
  },
  {
   "cell_type": "markdown",
   "metadata": {},
   "source": [
    "Update the df, using only the index that met the Fecha de notificación <= Fecha reporte web"
   ]
  },
  {
   "cell_type": "code",
   "execution_count": 39,
   "metadata": {
    "tags": []
   },
   "outputs": [
    {
     "output_type": "stream",
     "name": "stdout",
     "text": "False    743069\nTrue        484\ndtype: int64\n(743069, 21)\n"
    },
    {
     "output_type": "execute_result",
     "data": {
      "text/plain": "   ID DE CASO FECHA DE NOTIFICACIÓN  CÓDIGO DIVIPOLA  CIUDAD DE UBICACIÓN  \\\n0           1            2020-03-02            11001          BOGOTA D.C.   \n1           2            2020-03-06            76111  GUADALAJARA DE BUGA   \n2           3            2020-03-07             5001             MEDELLIN   \n3           4            2020-03-09             5001             MEDELLIN   \n4           5            2020-03-09             5001             MEDELLIN   \n\n  DEPARTAMENTO O DISTRITO     ATENCIÓN  EDAD SEXO         TIPO ESTADO  \\\n0              BOGOTA D.C.  RECUPERADO    19    F    IMPORTADO   LEVE   \n1          VALLE DEL CAUCA  RECUPERADO    34    M    IMPORTADO   LEVE   \n2                ANTIOQUIA  RECUPERADO    50    F    IMPORTADO   LEVE   \n3                ANTIOQUIA  RECUPERADO    55    M  RELACIONADO   LEVE   \n4                ANTIOQUIA  RECUPERADO    25    M  RELACIONADO   LEVE   \n\n  PAÍS DE PROCEDENCIA        FIS FECHA DE MUERTE FECHA DIAGNOSTICO  \\\n0              ITALIA 2020-02-27             NaT        2020-03-06   \n1              ESPANA 2020-03-04             NaT        2020-03-09   \n2              ESPANA 2020-02-29             NaT        2020-03-09   \n3             NO INFO 2020-03-06             NaT        2020-03-11   \n4             NO INFO 2020-03-08             NaT        2020-03-11   \n\n  FECHA RECUPERADO FECHA REPORTE WEB TIPO RECUPERACIÓN  CODIGO DEPARTAMENTO  \\\n0       2020-03-13        2020-03-06               PCR                   11   \n1       2020-03-19        2020-03-09               PCR                   76   \n2       2020-03-15        2020-03-09               PCR                    5   \n3       2020-03-26        2020-03-11               PCR                    5   \n4       2020-03-23        2020-03-11               PCR                    5   \n\n   CODIGO PAIS PERTENENCIA ETNICA NOMBRE GRUPO ETNICO  \n0        380.0               OTRO             NO INFO  \n1        724.0              NEGRO             NO INFO  \n2        724.0               OTRO             NO INFO  \n3          NaN               OTRO             NO INFO  \n4          NaN               OTRO             NO INFO  ",
      "text/html": "<div>\n<style scoped>\n    .dataframe tbody tr th:only-of-type {\n        vertical-align: middle;\n    }\n\n    .dataframe tbody tr th {\n        vertical-align: top;\n    }\n\n    .dataframe thead th {\n        text-align: right;\n    }\n</style>\n<table border=\"1\" class=\"dataframe\">\n  <thead>\n    <tr style=\"text-align: right;\">\n      <th></th>\n      <th>ID DE CASO</th>\n      <th>FECHA DE NOTIFICACIÓN</th>\n      <th>CÓDIGO DIVIPOLA</th>\n      <th>CIUDAD DE UBICACIÓN</th>\n      <th>DEPARTAMENTO O DISTRITO</th>\n      <th>ATENCIÓN</th>\n      <th>EDAD</th>\n      <th>SEXO</th>\n      <th>TIPO</th>\n      <th>ESTADO</th>\n      <th>PAÍS DE PROCEDENCIA</th>\n      <th>FIS</th>\n      <th>FECHA DE MUERTE</th>\n      <th>FECHA DIAGNOSTICO</th>\n      <th>FECHA RECUPERADO</th>\n      <th>FECHA REPORTE WEB</th>\n      <th>TIPO RECUPERACIÓN</th>\n      <th>CODIGO DEPARTAMENTO</th>\n      <th>CODIGO PAIS</th>\n      <th>PERTENENCIA ETNICA</th>\n      <th>NOMBRE GRUPO ETNICO</th>\n    </tr>\n  </thead>\n  <tbody>\n    <tr>\n      <th>0</th>\n      <td>1</td>\n      <td>2020-03-02</td>\n      <td>11001</td>\n      <td>BOGOTA D.C.</td>\n      <td>BOGOTA D.C.</td>\n      <td>RECUPERADO</td>\n      <td>19</td>\n      <td>F</td>\n      <td>IMPORTADO</td>\n      <td>LEVE</td>\n      <td>ITALIA</td>\n      <td>2020-02-27</td>\n      <td>NaT</td>\n      <td>2020-03-06</td>\n      <td>2020-03-13</td>\n      <td>2020-03-06</td>\n      <td>PCR</td>\n      <td>11</td>\n      <td>380.0</td>\n      <td>OTRO</td>\n      <td>NO INFO</td>\n    </tr>\n    <tr>\n      <th>1</th>\n      <td>2</td>\n      <td>2020-03-06</td>\n      <td>76111</td>\n      <td>GUADALAJARA DE BUGA</td>\n      <td>VALLE DEL CAUCA</td>\n      <td>RECUPERADO</td>\n      <td>34</td>\n      <td>M</td>\n      <td>IMPORTADO</td>\n      <td>LEVE</td>\n      <td>ESPANA</td>\n      <td>2020-03-04</td>\n      <td>NaT</td>\n      <td>2020-03-09</td>\n      <td>2020-03-19</td>\n      <td>2020-03-09</td>\n      <td>PCR</td>\n      <td>76</td>\n      <td>724.0</td>\n      <td>NEGRO</td>\n      <td>NO INFO</td>\n    </tr>\n    <tr>\n      <th>2</th>\n      <td>3</td>\n      <td>2020-03-07</td>\n      <td>5001</td>\n      <td>MEDELLIN</td>\n      <td>ANTIOQUIA</td>\n      <td>RECUPERADO</td>\n      <td>50</td>\n      <td>F</td>\n      <td>IMPORTADO</td>\n      <td>LEVE</td>\n      <td>ESPANA</td>\n      <td>2020-02-29</td>\n      <td>NaT</td>\n      <td>2020-03-09</td>\n      <td>2020-03-15</td>\n      <td>2020-03-09</td>\n      <td>PCR</td>\n      <td>5</td>\n      <td>724.0</td>\n      <td>OTRO</td>\n      <td>NO INFO</td>\n    </tr>\n    <tr>\n      <th>3</th>\n      <td>4</td>\n      <td>2020-03-09</td>\n      <td>5001</td>\n      <td>MEDELLIN</td>\n      <td>ANTIOQUIA</td>\n      <td>RECUPERADO</td>\n      <td>55</td>\n      <td>M</td>\n      <td>RELACIONADO</td>\n      <td>LEVE</td>\n      <td>NO INFO</td>\n      <td>2020-03-06</td>\n      <td>NaT</td>\n      <td>2020-03-11</td>\n      <td>2020-03-26</td>\n      <td>2020-03-11</td>\n      <td>PCR</td>\n      <td>5</td>\n      <td>NaN</td>\n      <td>OTRO</td>\n      <td>NO INFO</td>\n    </tr>\n    <tr>\n      <th>4</th>\n      <td>5</td>\n      <td>2020-03-09</td>\n      <td>5001</td>\n      <td>MEDELLIN</td>\n      <td>ANTIOQUIA</td>\n      <td>RECUPERADO</td>\n      <td>25</td>\n      <td>M</td>\n      <td>RELACIONADO</td>\n      <td>LEVE</td>\n      <td>NO INFO</td>\n      <td>2020-03-08</td>\n      <td>NaT</td>\n      <td>2020-03-11</td>\n      <td>2020-03-23</td>\n      <td>2020-03-11</td>\n      <td>PCR</td>\n      <td>5</td>\n      <td>NaN</td>\n      <td>OTRO</td>\n      <td>NO INFO</td>\n    </tr>\n  </tbody>\n</table>\n</div>"
     },
     "metadata": {},
     "execution_count": 39
    }
   ],
   "source": [
    "s=(df['FECHA REPORTE WEB']-df['FECHA DE NOTIFICACIÓN'])\n",
    "print((s<dt.timedelta(0)).value_counts())\n",
    "#Updating the df with the values that met the condition\n",
    "df=df.loc[s[(s>=dt.timedelta(0))].index]\n",
    "print(df.shape)\n",
    "df.head()"
   ]
  },
  {
   "cell_type": "markdown",
   "metadata": {},
   "source": [
    "We have 205 values where Fecha reporte web  is prior to fecha de notificación."
   ]
  },
  {
   "cell_type": "markdown",
   "metadata": {},
   "source": [
    "Next the following condution must be met:\n",
    "\n",
    "* 'FIS'<'Fecha diagnostico'<'Fecha recuperado'\n",
    "\n",
    "* 'FIS'<'Fecha diagnostico'<'Fecha de muerte'"
   ]
  },
  {
   "cell_type": "code",
   "execution_count": 40,
   "metadata": {
    "tags": []
   },
   "outputs": [],
   "source": [
    "# # Bad approach as we comparing items with missing values\n",
    "# s2=(df['FIS']<df['Fecha diagnostico'])\n",
    "# print(s2.value_counts())\n",
    "# s2[~s2].index"
   ]
  },
  {
   "cell_type": "code",
   "execution_count": 41,
   "metadata": {
    "tags": []
   },
   "outputs": [
    {
     "output_type": "stream",
     "name": "stderr",
     "text": "100%|██████████| 743069/743069 [21:57<00:00, 563.96it/s]\n"
    }
   ],
   "source": [
    "# Because we dont have every value, we just focus in those who are NaT. Compare only if both series have a value. otherwise skip\n",
    "idx_met=[]\n",
    "idx_nmet=[]\n",
    "idx_null=[]\n",
    "for x in tqdm(df.index):\n",
    "    if pd.notna(df['FIS'][x]) and pd.notna(df['FECHA DIAGNOSTICO'][x]):\n",
    "        if df['FIS'][x]<df['FECHA DIAGNOSTICO'][x]:\n",
    "            idx_met.append(x)\n",
    "        else:\n",
    "            idx_nmet.append(x)\n",
    "    else:\n",
    "        idx_null.append(x)"
   ]
  },
  {
   "source": [
    "### Checking why we ahve NaT values in FECHA DIAGNOSTICO "
   ],
   "cell_type": "markdown",
   "metadata": {}
  },
  {
   "cell_type": "code",
   "execution_count": 42,
   "metadata": {},
   "outputs": [
    {
     "output_type": "execute_result",
     "data": {
      "text/plain": "       FECHA DIAGNOSTICO FECHA DE NOTIFICACIÓN        FIS\n4778          2020-03-23            2020-03-24 2020-03-15\n6604          2020-04-30            2020-05-01        NaT\n6605          2020-04-30            2020-05-01        NaT\n6606          2020-04-30            2020-05-01        NaT\n6607          2020-04-30            2020-05-01        NaT\n...                  ...                   ...        ...\n731107        2020-09-03            2020-09-15 2020-08-20\n731145        2020-08-28            2020-09-15 2020-08-16\n731184        2020-08-25            2020-09-10 2020-08-11\n731226        2020-08-09            2020-08-27 2020-08-03\n731327        2020-08-16            2020-09-15 2020-08-02\n\n[19109 rows x 3 columns]",
      "text/html": "<div>\n<style scoped>\n    .dataframe tbody tr th:only-of-type {\n        vertical-align: middle;\n    }\n\n    .dataframe tbody tr th {\n        vertical-align: top;\n    }\n\n    .dataframe thead th {\n        text-align: right;\n    }\n</style>\n<table border=\"1\" class=\"dataframe\">\n  <thead>\n    <tr style=\"text-align: right;\">\n      <th></th>\n      <th>FECHA DIAGNOSTICO</th>\n      <th>FECHA DE NOTIFICACIÓN</th>\n      <th>FIS</th>\n    </tr>\n  </thead>\n  <tbody>\n    <tr>\n      <th>4778</th>\n      <td>2020-03-23</td>\n      <td>2020-03-24</td>\n      <td>2020-03-15</td>\n    </tr>\n    <tr>\n      <th>6604</th>\n      <td>2020-04-30</td>\n      <td>2020-05-01</td>\n      <td>NaT</td>\n    </tr>\n    <tr>\n      <th>6605</th>\n      <td>2020-04-30</td>\n      <td>2020-05-01</td>\n      <td>NaT</td>\n    </tr>\n    <tr>\n      <th>6606</th>\n      <td>2020-04-30</td>\n      <td>2020-05-01</td>\n      <td>NaT</td>\n    </tr>\n    <tr>\n      <th>6607</th>\n      <td>2020-04-30</td>\n      <td>2020-05-01</td>\n      <td>NaT</td>\n    </tr>\n    <tr>\n      <th>...</th>\n      <td>...</td>\n      <td>...</td>\n      <td>...</td>\n    </tr>\n    <tr>\n      <th>731107</th>\n      <td>2020-09-03</td>\n      <td>2020-09-15</td>\n      <td>2020-08-20</td>\n    </tr>\n    <tr>\n      <th>731145</th>\n      <td>2020-08-28</td>\n      <td>2020-09-15</td>\n      <td>2020-08-16</td>\n    </tr>\n    <tr>\n      <th>731184</th>\n      <td>2020-08-25</td>\n      <td>2020-09-10</td>\n      <td>2020-08-11</td>\n    </tr>\n    <tr>\n      <th>731226</th>\n      <td>2020-08-09</td>\n      <td>2020-08-27</td>\n      <td>2020-08-03</td>\n    </tr>\n    <tr>\n      <th>731327</th>\n      <td>2020-08-16</td>\n      <td>2020-09-15</td>\n      <td>2020-08-02</td>\n    </tr>\n  </tbody>\n</table>\n<p>19109 rows × 3 columns</p>\n</div>"
     },
     "metadata": {},
     "execution_count": 42
    }
   ],
   "source": [
    "df[df['FECHA DIAGNOSTICO']<df['FECHA DE NOTIFICACIÓN']][['FECHA DIAGNOSTICO','FECHA DE NOTIFICACIÓN','FIS']]"
   ]
  },
  {
   "source": [
    "the majority of Dates of FECHA DIAGNOSTICO are post FECHA DE NOTIFICACIÓN, so what is the diference between those ?"
   ],
   "cell_type": "markdown",
   "metadata": {}
  },
  {
   "cell_type": "code",
   "execution_count": 43,
   "metadata": {},
   "outputs": [
    {
     "output_type": "execute_result",
     "data": {
      "text/plain": "Empty DataFrame\nColumns: [ID DE CASO, FECHA DE NOTIFICACIÓN, CÓDIGO DIVIPOLA, CIUDAD DE UBICACIÓN, DEPARTAMENTO O DISTRITO , ATENCIÓN, EDAD, SEXO, TIPO, ESTADO, PAÍS DE PROCEDENCIA, FIS, FECHA DE MUERTE, FECHA DIAGNOSTICO, FECHA RECUPERADO, FECHA REPORTE WEB, TIPO RECUPERACIÓN, CODIGO DEPARTAMENTO, CODIGO PAIS, PERTENENCIA ETNICA, NOMBRE GRUPO ETNICO]\nIndex: []",
      "text/html": "<div>\n<style scoped>\n    .dataframe tbody tr th:only-of-type {\n        vertical-align: middle;\n    }\n\n    .dataframe tbody tr th {\n        vertical-align: top;\n    }\n\n    .dataframe thead th {\n        text-align: right;\n    }\n</style>\n<table border=\"1\" class=\"dataframe\">\n  <thead>\n    <tr style=\"text-align: right;\">\n      <th></th>\n      <th>ID DE CASO</th>\n      <th>FECHA DE NOTIFICACIÓN</th>\n      <th>CÓDIGO DIVIPOLA</th>\n      <th>CIUDAD DE UBICACIÓN</th>\n      <th>DEPARTAMENTO O DISTRITO</th>\n      <th>ATENCIÓN</th>\n      <th>EDAD</th>\n      <th>SEXO</th>\n      <th>TIPO</th>\n      <th>ESTADO</th>\n      <th>PAÍS DE PROCEDENCIA</th>\n      <th>FIS</th>\n      <th>FECHA DE MUERTE</th>\n      <th>FECHA DIAGNOSTICO</th>\n      <th>FECHA RECUPERADO</th>\n      <th>FECHA REPORTE WEB</th>\n      <th>TIPO RECUPERACIÓN</th>\n      <th>CODIGO DEPARTAMENTO</th>\n      <th>CODIGO PAIS</th>\n      <th>PERTENENCIA ETNICA</th>\n      <th>NOMBRE GRUPO ETNICO</th>\n    </tr>\n  </thead>\n  <tbody>\n  </tbody>\n</table>\n</div>"
     },
     "metadata": {},
     "execution_count": 43
    }
   ],
   "source": [
    "df[df['FECHA DE NOTIFICACIÓN']<df['FIS']]"
   ]
  },
  {
   "source": [
    "It is a good sign that  we do not have dates FECHA DE NOTIFICACIÓN post FIS.\n",
    "\n",
    "But what happens insigts privide NaT values of FECHA DIAGNOSTICO?"
   ],
   "cell_type": "markdown",
   "metadata": {}
  },
  {
   "cell_type": "code",
   "execution_count": 44,
   "metadata": {},
   "outputs": [
    {
     "output_type": "execute_result",
     "data": {
      "text/plain": "LEVE            3537\nFALLECIDO        204\nASINTOMATICO      38\nMODERADO          36\nNO INFO           27\nGRAVE             10\nName: ESTADO, dtype: int64"
     },
     "metadata": {},
     "execution_count": 44
    }
   ],
   "source": [
    "df[df['FECHA DIAGNOSTICO'].isna()]['ESTADO'].value_counts()"
   ]
  },
  {
   "cell_type": "code",
   "execution_count": 45,
   "metadata": {
    "tags": []
   },
   "outputs": [
    {
     "output_type": "stream",
     "name": "stdout",
     "text": "Percentage 0.521% of missing FECHA DIAGNOSTICO dates in regard with the whole data  743069\n"
    }
   ],
   "source": [
    "print('Percentage {:2.3f}% of missing FECHA DIAGNOSTICO dates in regard with the whole data '.format(100*len(df[df['FECHA DIAGNOSTICO'].isna()])/len(df[pd.notnull(df['FECHA DIAGNOSTICO'])])),len(df))"
   ]
  },
  {
   "source": [
    "Two things that we can see is that the percentage of missing dates are not meaningful and we have different values for ESTADO.\n",
    "\n",
    "In order with that, I considered two actions to take:\n",
    "\n",
    "1. Drop every NaT value for FECHA DIAGNOSTICO\n",
    "2. Work with FECHA NOTIFICACÓN  instead of FECHA DIAGNOSTICO.\n",
    "\n",
    "I choose to the the first action (1.) because it make sense that only people that have been seem by a doctor or related are the ones with/without the virus and the amount of data with out the date is low compared with the whole data."
   ],
   "cell_type": "markdown",
   "metadata": {}
  },
  {
   "cell_type": "code",
   "execution_count": 103,
   "metadata": {},
   "outputs": [],
   "source": [
    "#Droping NaT row from FECHA DIAGNOSTICO in df\n",
    "df.drop(df[df['FECHA DIAGNOSTICO'].isna()].index,inplace=True)"
   ]
  },
  {
   "cell_type": "code",
   "execution_count": 47,
   "metadata": {},
   "outputs": [
    {
     "output_type": "execute_result",
     "data": {
      "text/plain": "ASINTOMATICO    92396\nName: ESTADO, dtype: int64"
     },
     "metadata": {},
     "execution_count": 47
    }
   ],
   "source": [
    "df[df['FIS'].isna()]['ESTADO'].value_counts()"
   ]
  },
  {
   "cell_type": "code",
   "execution_count": 48,
   "metadata": {},
   "outputs": [
    {
     "output_type": "execute_result",
     "data": {
      "text/plain": "LEVE         600653\nFALLECIDO     23640\nMODERADO      22416\nGRAVE          2194\nNO INFO        1770\nName: ESTADO, dtype: int64"
     },
     "metadata": {},
     "execution_count": 48
    }
   ],
   "source": [
    "df[pd.notnull(df['FIS'])]['ESTADO'].value_counts()"
   ]
  },
  {
   "cell_type": "code",
   "execution_count": null,
   "metadata": {},
   "outputs": [],
   "source": []
  },
  {
   "cell_type": "code",
   "execution_count": 49,
   "metadata": {
    "tags": []
   },
   "outputs": [
    {
     "output_type": "stream",
     "name": "stdout",
     "text": "[743935, 743936, 743937, 743938, 743939, 743940, 743941, 743942, 743943, 743944]\nLen of index that met the condition: 641738\nLen of index that NOT met the condition: 5121\nLen of Null index : 96210\n"
    }
   ],
   "source": [
    "print(idx_met[-10:])\n",
    "print('Len of index that met the condition: {}'.format(len(idx_met)))\n",
    "print('Len of index that NOT met the condition: {}'.format(len(idx_nmet)))\n",
    "print('Len of Null index : {}'.format(len(idx_null)))"
   ]
  },
  {
   "cell_type": "markdown",
   "metadata": {},
   "source": [
    "We have 1050 that not met the condition 'FIS'<'Fecha diagnostico', So we need to drop those index"
   ]
  },
  {
   "cell_type": "code",
   "execution_count": 50,
   "metadata": {
    "tags": []
   },
   "outputs": [
    {
     "output_type": "stream",
     "name": "stdout",
     "text": "(737948, 21)\n"
    },
    {
     "output_type": "execute_result",
     "data": {
      "text/plain": "   ID DE CASO FECHA DE NOTIFICACIÓN  CÓDIGO DIVIPOLA  CIUDAD DE UBICACIÓN  \\\n0           1            2020-03-02            11001          BOGOTA D.C.   \n1           2            2020-03-06            76111  GUADALAJARA DE BUGA   \n2           3            2020-03-07             5001             MEDELLIN   \n3           4            2020-03-09             5001             MEDELLIN   \n4           5            2020-03-09             5001             MEDELLIN   \n\n  DEPARTAMENTO O DISTRITO     ATENCIÓN  EDAD SEXO         TIPO ESTADO  \\\n0              BOGOTA D.C.  RECUPERADO    19    F    IMPORTADO   LEVE   \n1          VALLE DEL CAUCA  RECUPERADO    34    M    IMPORTADO   LEVE   \n2                ANTIOQUIA  RECUPERADO    50    F    IMPORTADO   LEVE   \n3                ANTIOQUIA  RECUPERADO    55    M  RELACIONADO   LEVE   \n4                ANTIOQUIA  RECUPERADO    25    M  RELACIONADO   LEVE   \n\n  PAÍS DE PROCEDENCIA        FIS FECHA DE MUERTE FECHA DIAGNOSTICO  \\\n0              ITALIA 2020-02-27             NaT        2020-03-06   \n1              ESPANA 2020-03-04             NaT        2020-03-09   \n2              ESPANA 2020-02-29             NaT        2020-03-09   \n3             NO INFO 2020-03-06             NaT        2020-03-11   \n4             NO INFO 2020-03-08             NaT        2020-03-11   \n\n  FECHA RECUPERADO FECHA REPORTE WEB TIPO RECUPERACIÓN  CODIGO DEPARTAMENTO  \\\n0       2020-03-13        2020-03-06               PCR                   11   \n1       2020-03-19        2020-03-09               PCR                   76   \n2       2020-03-15        2020-03-09               PCR                    5   \n3       2020-03-26        2020-03-11               PCR                    5   \n4       2020-03-23        2020-03-11               PCR                    5   \n\n   CODIGO PAIS PERTENENCIA ETNICA NOMBRE GRUPO ETNICO  \n0        380.0               OTRO             NO INFO  \n1        724.0              NEGRO             NO INFO  \n2        724.0               OTRO             NO INFO  \n3          NaN               OTRO             NO INFO  \n4          NaN               OTRO             NO INFO  ",
      "text/html": "<div>\n<style scoped>\n    .dataframe tbody tr th:only-of-type {\n        vertical-align: middle;\n    }\n\n    .dataframe tbody tr th {\n        vertical-align: top;\n    }\n\n    .dataframe thead th {\n        text-align: right;\n    }\n</style>\n<table border=\"1\" class=\"dataframe\">\n  <thead>\n    <tr style=\"text-align: right;\">\n      <th></th>\n      <th>ID DE CASO</th>\n      <th>FECHA DE NOTIFICACIÓN</th>\n      <th>CÓDIGO DIVIPOLA</th>\n      <th>CIUDAD DE UBICACIÓN</th>\n      <th>DEPARTAMENTO O DISTRITO</th>\n      <th>ATENCIÓN</th>\n      <th>EDAD</th>\n      <th>SEXO</th>\n      <th>TIPO</th>\n      <th>ESTADO</th>\n      <th>PAÍS DE PROCEDENCIA</th>\n      <th>FIS</th>\n      <th>FECHA DE MUERTE</th>\n      <th>FECHA DIAGNOSTICO</th>\n      <th>FECHA RECUPERADO</th>\n      <th>FECHA REPORTE WEB</th>\n      <th>TIPO RECUPERACIÓN</th>\n      <th>CODIGO DEPARTAMENTO</th>\n      <th>CODIGO PAIS</th>\n      <th>PERTENENCIA ETNICA</th>\n      <th>NOMBRE GRUPO ETNICO</th>\n    </tr>\n  </thead>\n  <tbody>\n    <tr>\n      <th>0</th>\n      <td>1</td>\n      <td>2020-03-02</td>\n      <td>11001</td>\n      <td>BOGOTA D.C.</td>\n      <td>BOGOTA D.C.</td>\n      <td>RECUPERADO</td>\n      <td>19</td>\n      <td>F</td>\n      <td>IMPORTADO</td>\n      <td>LEVE</td>\n      <td>ITALIA</td>\n      <td>2020-02-27</td>\n      <td>NaT</td>\n      <td>2020-03-06</td>\n      <td>2020-03-13</td>\n      <td>2020-03-06</td>\n      <td>PCR</td>\n      <td>11</td>\n      <td>380.0</td>\n      <td>OTRO</td>\n      <td>NO INFO</td>\n    </tr>\n    <tr>\n      <th>1</th>\n      <td>2</td>\n      <td>2020-03-06</td>\n      <td>76111</td>\n      <td>GUADALAJARA DE BUGA</td>\n      <td>VALLE DEL CAUCA</td>\n      <td>RECUPERADO</td>\n      <td>34</td>\n      <td>M</td>\n      <td>IMPORTADO</td>\n      <td>LEVE</td>\n      <td>ESPANA</td>\n      <td>2020-03-04</td>\n      <td>NaT</td>\n      <td>2020-03-09</td>\n      <td>2020-03-19</td>\n      <td>2020-03-09</td>\n      <td>PCR</td>\n      <td>76</td>\n      <td>724.0</td>\n      <td>NEGRO</td>\n      <td>NO INFO</td>\n    </tr>\n    <tr>\n      <th>2</th>\n      <td>3</td>\n      <td>2020-03-07</td>\n      <td>5001</td>\n      <td>MEDELLIN</td>\n      <td>ANTIOQUIA</td>\n      <td>RECUPERADO</td>\n      <td>50</td>\n      <td>F</td>\n      <td>IMPORTADO</td>\n      <td>LEVE</td>\n      <td>ESPANA</td>\n      <td>2020-02-29</td>\n      <td>NaT</td>\n      <td>2020-03-09</td>\n      <td>2020-03-15</td>\n      <td>2020-03-09</td>\n      <td>PCR</td>\n      <td>5</td>\n      <td>724.0</td>\n      <td>OTRO</td>\n      <td>NO INFO</td>\n    </tr>\n    <tr>\n      <th>3</th>\n      <td>4</td>\n      <td>2020-03-09</td>\n      <td>5001</td>\n      <td>MEDELLIN</td>\n      <td>ANTIOQUIA</td>\n      <td>RECUPERADO</td>\n      <td>55</td>\n      <td>M</td>\n      <td>RELACIONADO</td>\n      <td>LEVE</td>\n      <td>NO INFO</td>\n      <td>2020-03-06</td>\n      <td>NaT</td>\n      <td>2020-03-11</td>\n      <td>2020-03-26</td>\n      <td>2020-03-11</td>\n      <td>PCR</td>\n      <td>5</td>\n      <td>NaN</td>\n      <td>OTRO</td>\n      <td>NO INFO</td>\n    </tr>\n    <tr>\n      <th>4</th>\n      <td>5</td>\n      <td>2020-03-09</td>\n      <td>5001</td>\n      <td>MEDELLIN</td>\n      <td>ANTIOQUIA</td>\n      <td>RECUPERADO</td>\n      <td>25</td>\n      <td>M</td>\n      <td>RELACIONADO</td>\n      <td>LEVE</td>\n      <td>NO INFO</td>\n      <td>2020-03-08</td>\n      <td>NaT</td>\n      <td>2020-03-11</td>\n      <td>2020-03-23</td>\n      <td>2020-03-11</td>\n      <td>PCR</td>\n      <td>5</td>\n      <td>NaN</td>\n      <td>OTRO</td>\n      <td>NO INFO</td>\n    </tr>\n  </tbody>\n</table>\n</div>"
     },
     "metadata": {},
     "execution_count": 50
    }
   ],
   "source": [
    "#Droping index that not met\n",
    "df.drop(idx_nmet,inplace=True)\n",
    "print(df.shape)\n",
    "df.head()"
   ]
  },
  {
   "cell_type": "markdown",
   "metadata": {},
   "source": [
    "Now we need to check:\n",
    "\n",
    "* 'Fecha diagnostico'<'Fecha recuperado'"
   ]
  },
  {
   "cell_type": "code",
   "execution_count": 51,
   "metadata": {
    "tags": []
   },
   "outputs": [
    {
     "output_type": "stream",
     "name": "stderr",
     "text": "100%|██████████| 737948/737948 [05:44<00:00, 2139.71it/s]\n"
    }
   ],
   "source": [
    "idx_met=[]\n",
    "idx_nmet=[]\n",
    "idx_null=[]\n",
    "for x in tqdm(df.index):\n",
    "    if pd.notna(df['FECHA DIAGNOSTICO'][x]) and pd.notna(df['FECHA RECUPERADO'][x]):\n",
    "        if df['FECHA DIAGNOSTICO'][x]<df['FECHA RECUPERADO'][x]:\n",
    "            idx_met.append(x)\n",
    "        else:\n",
    "            idx_nmet.append(x)\n",
    "    else:\n",
    "        idx_null.append(x)"
   ]
  },
  {
   "cell_type": "code",
   "execution_count": 52,
   "metadata": {
    "tags": []
   },
   "outputs": [
    {
     "output_type": "stream",
     "name": "stdout",
     "text": "Len of index that met the condition: 608781\nLen of index that NOT met the condition: 127\nLen of Null index : 129040\n"
    }
   ],
   "source": [
    "print('Len of index that met the condition: {}'.format(len(idx_met)))\n",
    "print('Len of index that NOT met the condition: {}'.format(len(idx_nmet)))\n",
    "print('Len of Null index : {}'.format(len(idx_null)))"
   ]
  },
  {
   "cell_type": "code",
   "execution_count": 53,
   "metadata": {
    "tags": []
   },
   "outputs": [
    {
     "output_type": "stream",
     "name": "stdout",
     "text": "(737821, 21)\n"
    },
    {
     "output_type": "execute_result",
     "data": {
      "text/plain": "   ID DE CASO FECHA DE NOTIFICACIÓN  CÓDIGO DIVIPOLA  CIUDAD DE UBICACIÓN  \\\n0           1            2020-03-02            11001          BOGOTA D.C.   \n1           2            2020-03-06            76111  GUADALAJARA DE BUGA   \n2           3            2020-03-07             5001             MEDELLIN   \n3           4            2020-03-09             5001             MEDELLIN   \n4           5            2020-03-09             5001             MEDELLIN   \n\n  DEPARTAMENTO O DISTRITO     ATENCIÓN  EDAD SEXO         TIPO ESTADO  \\\n0              BOGOTA D.C.  RECUPERADO    19    F    IMPORTADO   LEVE   \n1          VALLE DEL CAUCA  RECUPERADO    34    M    IMPORTADO   LEVE   \n2                ANTIOQUIA  RECUPERADO    50    F    IMPORTADO   LEVE   \n3                ANTIOQUIA  RECUPERADO    55    M  RELACIONADO   LEVE   \n4                ANTIOQUIA  RECUPERADO    25    M  RELACIONADO   LEVE   \n\n  PAÍS DE PROCEDENCIA        FIS FECHA DE MUERTE FECHA DIAGNOSTICO  \\\n0              ITALIA 2020-02-27             NaT        2020-03-06   \n1              ESPANA 2020-03-04             NaT        2020-03-09   \n2              ESPANA 2020-02-29             NaT        2020-03-09   \n3             NO INFO 2020-03-06             NaT        2020-03-11   \n4             NO INFO 2020-03-08             NaT        2020-03-11   \n\n  FECHA RECUPERADO FECHA REPORTE WEB TIPO RECUPERACIÓN  CODIGO DEPARTAMENTO  \\\n0       2020-03-13        2020-03-06               PCR                   11   \n1       2020-03-19        2020-03-09               PCR                   76   \n2       2020-03-15        2020-03-09               PCR                    5   \n3       2020-03-26        2020-03-11               PCR                    5   \n4       2020-03-23        2020-03-11               PCR                    5   \n\n   CODIGO PAIS PERTENENCIA ETNICA NOMBRE GRUPO ETNICO  \n0        380.0               OTRO             NO INFO  \n1        724.0              NEGRO             NO INFO  \n2        724.0               OTRO             NO INFO  \n3          NaN               OTRO             NO INFO  \n4          NaN               OTRO             NO INFO  ",
      "text/html": "<div>\n<style scoped>\n    .dataframe tbody tr th:only-of-type {\n        vertical-align: middle;\n    }\n\n    .dataframe tbody tr th {\n        vertical-align: top;\n    }\n\n    .dataframe thead th {\n        text-align: right;\n    }\n</style>\n<table border=\"1\" class=\"dataframe\">\n  <thead>\n    <tr style=\"text-align: right;\">\n      <th></th>\n      <th>ID DE CASO</th>\n      <th>FECHA DE NOTIFICACIÓN</th>\n      <th>CÓDIGO DIVIPOLA</th>\n      <th>CIUDAD DE UBICACIÓN</th>\n      <th>DEPARTAMENTO O DISTRITO</th>\n      <th>ATENCIÓN</th>\n      <th>EDAD</th>\n      <th>SEXO</th>\n      <th>TIPO</th>\n      <th>ESTADO</th>\n      <th>PAÍS DE PROCEDENCIA</th>\n      <th>FIS</th>\n      <th>FECHA DE MUERTE</th>\n      <th>FECHA DIAGNOSTICO</th>\n      <th>FECHA RECUPERADO</th>\n      <th>FECHA REPORTE WEB</th>\n      <th>TIPO RECUPERACIÓN</th>\n      <th>CODIGO DEPARTAMENTO</th>\n      <th>CODIGO PAIS</th>\n      <th>PERTENENCIA ETNICA</th>\n      <th>NOMBRE GRUPO ETNICO</th>\n    </tr>\n  </thead>\n  <tbody>\n    <tr>\n      <th>0</th>\n      <td>1</td>\n      <td>2020-03-02</td>\n      <td>11001</td>\n      <td>BOGOTA D.C.</td>\n      <td>BOGOTA D.C.</td>\n      <td>RECUPERADO</td>\n      <td>19</td>\n      <td>F</td>\n      <td>IMPORTADO</td>\n      <td>LEVE</td>\n      <td>ITALIA</td>\n      <td>2020-02-27</td>\n      <td>NaT</td>\n      <td>2020-03-06</td>\n      <td>2020-03-13</td>\n      <td>2020-03-06</td>\n      <td>PCR</td>\n      <td>11</td>\n      <td>380.0</td>\n      <td>OTRO</td>\n      <td>NO INFO</td>\n    </tr>\n    <tr>\n      <th>1</th>\n      <td>2</td>\n      <td>2020-03-06</td>\n      <td>76111</td>\n      <td>GUADALAJARA DE BUGA</td>\n      <td>VALLE DEL CAUCA</td>\n      <td>RECUPERADO</td>\n      <td>34</td>\n      <td>M</td>\n      <td>IMPORTADO</td>\n      <td>LEVE</td>\n      <td>ESPANA</td>\n      <td>2020-03-04</td>\n      <td>NaT</td>\n      <td>2020-03-09</td>\n      <td>2020-03-19</td>\n      <td>2020-03-09</td>\n      <td>PCR</td>\n      <td>76</td>\n      <td>724.0</td>\n      <td>NEGRO</td>\n      <td>NO INFO</td>\n    </tr>\n    <tr>\n      <th>2</th>\n      <td>3</td>\n      <td>2020-03-07</td>\n      <td>5001</td>\n      <td>MEDELLIN</td>\n      <td>ANTIOQUIA</td>\n      <td>RECUPERADO</td>\n      <td>50</td>\n      <td>F</td>\n      <td>IMPORTADO</td>\n      <td>LEVE</td>\n      <td>ESPANA</td>\n      <td>2020-02-29</td>\n      <td>NaT</td>\n      <td>2020-03-09</td>\n      <td>2020-03-15</td>\n      <td>2020-03-09</td>\n      <td>PCR</td>\n      <td>5</td>\n      <td>724.0</td>\n      <td>OTRO</td>\n      <td>NO INFO</td>\n    </tr>\n    <tr>\n      <th>3</th>\n      <td>4</td>\n      <td>2020-03-09</td>\n      <td>5001</td>\n      <td>MEDELLIN</td>\n      <td>ANTIOQUIA</td>\n      <td>RECUPERADO</td>\n      <td>55</td>\n      <td>M</td>\n      <td>RELACIONADO</td>\n      <td>LEVE</td>\n      <td>NO INFO</td>\n      <td>2020-03-06</td>\n      <td>NaT</td>\n      <td>2020-03-11</td>\n      <td>2020-03-26</td>\n      <td>2020-03-11</td>\n      <td>PCR</td>\n      <td>5</td>\n      <td>NaN</td>\n      <td>OTRO</td>\n      <td>NO INFO</td>\n    </tr>\n    <tr>\n      <th>4</th>\n      <td>5</td>\n      <td>2020-03-09</td>\n      <td>5001</td>\n      <td>MEDELLIN</td>\n      <td>ANTIOQUIA</td>\n      <td>RECUPERADO</td>\n      <td>25</td>\n      <td>M</td>\n      <td>RELACIONADO</td>\n      <td>LEVE</td>\n      <td>NO INFO</td>\n      <td>2020-03-08</td>\n      <td>NaT</td>\n      <td>2020-03-11</td>\n      <td>2020-03-23</td>\n      <td>2020-03-11</td>\n      <td>PCR</td>\n      <td>5</td>\n      <td>NaN</td>\n      <td>OTRO</td>\n      <td>NO INFO</td>\n    </tr>\n  </tbody>\n</table>\n</div>"
     },
     "metadata": {},
     "execution_count": 53
    }
   ],
   "source": [
    "#Droping index that not met\n",
    "df.drop(idx_nmet,inplace=True)\n",
    "print(df.shape)\n",
    "df.head()"
   ]
  },
  {
   "cell_type": "markdown",
   "metadata": {},
   "source": [
    "Reviewing the people who were diagnosed with COVID after death:\n",
    "\n",
    "* 'Fecha diagnostico'<'Fecha de muerte'"
   ]
  },
  {
   "cell_type": "code",
   "execution_count": 61,
   "metadata": {
    "tags": []
   },
   "outputs": [
    {
     "output_type": "stream",
     "name": "stderr",
     "text": "100%|██████████| 737821/737821 [11:21<00:00, 1082.59it/s]\n"
    }
   ],
   "source": [
    "idx_met=[]\n",
    "idx_nmet=[]\n",
    "idx_null=[]\n",
    "for x in tqdm(df.index):\n",
    "    if pd.notna(df['FECHA DIAGNOSTICO'][x]) and pd.notna(df['FECHA DE MUERTE'][x]):\n",
    "        if df['FECHA DIAGNOSTICO'][x]<df['FECHA DE MUERTE'][x]:\n",
    "            idx_met.append(x)\n",
    "        else:\n",
    "            idx_nmet.append(x)\n",
    "    else:\n",
    "        idx_null.append(x)"
   ]
  },
  {
   "cell_type": "code",
   "execution_count": 62,
   "metadata": {
    "tags": []
   },
   "outputs": [
    {
     "output_type": "stream",
     "name": "stdout",
     "text": "10668 People diagnosed with COVID after death\n"
    }
   ],
   "source": [
    "print('{} People diagnosed with COVID after death'.format(len(idx_nmet)))"
   ]
  },
  {
   "cell_type": "markdown",
   "metadata": {},
   "source": [
    "We can not drop those index as that is a insight of the People who were diagnosed with COVID after death"
   ]
  },
  {
   "cell_type": "markdown",
   "metadata": {},
   "source": [
    "Checking that we have no values for both 'Fecha recuperado' and 'Fecha de muerte'"
   ]
  },
  {
   "cell_type": "code",
   "execution_count": 63,
   "metadata": {
    "tags": []
   },
   "outputs": [
    {
     "output_type": "stream",
     "name": "stdout",
     "text": "Null values in DF for Fecha recuperado : \t\n[False]\n"
    }
   ],
   "source": [
    "#filtering only not null values for Fecha recueprado in the df\n",
    "print('Null values in DF for Fecha recuperado : \\t')\n",
    "print(df[pd.notnull(df['FECHA RECUPERADO'])]['FECHA RECUPERADO'].isnull().unique())\n"
   ]
  },
  {
   "cell_type": "code",
   "execution_count": 64,
   "metadata": {},
   "outputs": [
    {
     "output_type": "execute_result",
     "data": {
      "text/plain": "array([ True, False])"
     },
     "metadata": {},
     "execution_count": 64
    }
   ],
   "source": [
    "#asking if there is a null value in each row, True is yes and False if there is a date\n",
    "df[pd.notnull(df['FECHA RECUPERADO'])]['FECHA DE MUERTE'].isnull().unique()"
   ]
  },
  {
   "cell_type": "markdown",
   "metadata": {},
   "source": [
    "We have dates in the same row for 'Fecha de mmuerte' and 'Fecha recueprado'.\n",
    "\n",
    "We must drop those values"
   ]
  },
  {
   "cell_type": "code",
   "execution_count": 65,
   "metadata": {},
   "outputs": [],
   "source": [
    "# #NO SE PEUDE HACER PORQUE NO ESOTY TENIENDO EN CUENTA OTROS VALARES NULOS, ESTARIA PERDIENDO INFORMACIÓN\n",
    "# #checking the values that have no Fecha de muerte\n",
    "# temp=df[pd.notnull(df['Fecha recuperado'])]\n",
    "# idx_frfd=temp[temp['Fecha de muerte'].isnull()].index\n",
    "# print(temp[temp['Fecha de muerte'].isnull()]['Fecha de muerte'].unique())\n",
    "# idx_frfd"
   ]
  },
  {
   "cell_type": "code",
   "execution_count": 66,
   "metadata": {},
   "outputs": [],
   "source": [
    "idx_met=[]\n",
    "for x in df.index:\n",
    "    if pd.notna(df['FECHA RECUPERADO'][x]) and pd.notna(df['FECHA DE MUERTE'][x]):\n",
    "        idx_met.append(x)"
   ]
  },
  {
   "cell_type": "code",
   "execution_count": 67,
   "metadata": {
    "tags": []
   },
   "outputs": [
    {
     "output_type": "stream",
     "name": "stdout",
     "text": "Len of index that met the condition: 287\n"
    }
   ],
   "source": [
    "print('Len of index that met the condition: {}'.format(len(idx_met)))"
   ]
  },
  {
   "cell_type": "markdown",
   "metadata": {},
   "source": [
    "We need to drop those values, because qe can not have a date for a recoverd people but also shows a date of death"
   ]
  },
  {
   "cell_type": "code",
   "execution_count": 68,
   "metadata": {
    "tags": []
   },
   "outputs": [
    {
     "output_type": "stream",
     "name": "stdout",
     "text": "(737534, 21)\n"
    },
    {
     "output_type": "execute_result",
     "data": {
      "text/plain": "   ID DE CASO FECHA DE NOTIFICACIÓN  CÓDIGO DIVIPOLA  CIUDAD DE UBICACIÓN  \\\n0           1            2020-03-02            11001          BOGOTA D.C.   \n1           2            2020-03-06            76111  GUADALAJARA DE BUGA   \n2           3            2020-03-07             5001             MEDELLIN   \n3           4            2020-03-09             5001             MEDELLIN   \n4           5            2020-03-09             5001             MEDELLIN   \n\n  DEPARTAMENTO O DISTRITO     ATENCIÓN  EDAD SEXO         TIPO ESTADO  \\\n0              BOGOTA D.C.  RECUPERADO    19    F    IMPORTADO   LEVE   \n1          VALLE DEL CAUCA  RECUPERADO    34    M    IMPORTADO   LEVE   \n2                ANTIOQUIA  RECUPERADO    50    F    IMPORTADO   LEVE   \n3                ANTIOQUIA  RECUPERADO    55    M  RELACIONADO   LEVE   \n4                ANTIOQUIA  RECUPERADO    25    M  RELACIONADO   LEVE   \n\n  PAÍS DE PROCEDENCIA        FIS FECHA DE MUERTE FECHA DIAGNOSTICO  \\\n0              ITALIA 2020-02-27             NaT        2020-03-06   \n1              ESPANA 2020-03-04             NaT        2020-03-09   \n2              ESPANA 2020-02-29             NaT        2020-03-09   \n3             NO INFO 2020-03-06             NaT        2020-03-11   \n4             NO INFO 2020-03-08             NaT        2020-03-11   \n\n  FECHA RECUPERADO FECHA REPORTE WEB TIPO RECUPERACIÓN  CODIGO DEPARTAMENTO  \\\n0       2020-03-13        2020-03-06               PCR                   11   \n1       2020-03-19        2020-03-09               PCR                   76   \n2       2020-03-15        2020-03-09               PCR                    5   \n3       2020-03-26        2020-03-11               PCR                    5   \n4       2020-03-23        2020-03-11               PCR                    5   \n\n   CODIGO PAIS PERTENENCIA ETNICA NOMBRE GRUPO ETNICO  \n0        380.0               OTRO             NO INFO  \n1        724.0              NEGRO             NO INFO  \n2        724.0               OTRO             NO INFO  \n3          NaN               OTRO             NO INFO  \n4          NaN               OTRO             NO INFO  ",
      "text/html": "<div>\n<style scoped>\n    .dataframe tbody tr th:only-of-type {\n        vertical-align: middle;\n    }\n\n    .dataframe tbody tr th {\n        vertical-align: top;\n    }\n\n    .dataframe thead th {\n        text-align: right;\n    }\n</style>\n<table border=\"1\" class=\"dataframe\">\n  <thead>\n    <tr style=\"text-align: right;\">\n      <th></th>\n      <th>ID DE CASO</th>\n      <th>FECHA DE NOTIFICACIÓN</th>\n      <th>CÓDIGO DIVIPOLA</th>\n      <th>CIUDAD DE UBICACIÓN</th>\n      <th>DEPARTAMENTO O DISTRITO</th>\n      <th>ATENCIÓN</th>\n      <th>EDAD</th>\n      <th>SEXO</th>\n      <th>TIPO</th>\n      <th>ESTADO</th>\n      <th>PAÍS DE PROCEDENCIA</th>\n      <th>FIS</th>\n      <th>FECHA DE MUERTE</th>\n      <th>FECHA DIAGNOSTICO</th>\n      <th>FECHA RECUPERADO</th>\n      <th>FECHA REPORTE WEB</th>\n      <th>TIPO RECUPERACIÓN</th>\n      <th>CODIGO DEPARTAMENTO</th>\n      <th>CODIGO PAIS</th>\n      <th>PERTENENCIA ETNICA</th>\n      <th>NOMBRE GRUPO ETNICO</th>\n    </tr>\n  </thead>\n  <tbody>\n    <tr>\n      <th>0</th>\n      <td>1</td>\n      <td>2020-03-02</td>\n      <td>11001</td>\n      <td>BOGOTA D.C.</td>\n      <td>BOGOTA D.C.</td>\n      <td>RECUPERADO</td>\n      <td>19</td>\n      <td>F</td>\n      <td>IMPORTADO</td>\n      <td>LEVE</td>\n      <td>ITALIA</td>\n      <td>2020-02-27</td>\n      <td>NaT</td>\n      <td>2020-03-06</td>\n      <td>2020-03-13</td>\n      <td>2020-03-06</td>\n      <td>PCR</td>\n      <td>11</td>\n      <td>380.0</td>\n      <td>OTRO</td>\n      <td>NO INFO</td>\n    </tr>\n    <tr>\n      <th>1</th>\n      <td>2</td>\n      <td>2020-03-06</td>\n      <td>76111</td>\n      <td>GUADALAJARA DE BUGA</td>\n      <td>VALLE DEL CAUCA</td>\n      <td>RECUPERADO</td>\n      <td>34</td>\n      <td>M</td>\n      <td>IMPORTADO</td>\n      <td>LEVE</td>\n      <td>ESPANA</td>\n      <td>2020-03-04</td>\n      <td>NaT</td>\n      <td>2020-03-09</td>\n      <td>2020-03-19</td>\n      <td>2020-03-09</td>\n      <td>PCR</td>\n      <td>76</td>\n      <td>724.0</td>\n      <td>NEGRO</td>\n      <td>NO INFO</td>\n    </tr>\n    <tr>\n      <th>2</th>\n      <td>3</td>\n      <td>2020-03-07</td>\n      <td>5001</td>\n      <td>MEDELLIN</td>\n      <td>ANTIOQUIA</td>\n      <td>RECUPERADO</td>\n      <td>50</td>\n      <td>F</td>\n      <td>IMPORTADO</td>\n      <td>LEVE</td>\n      <td>ESPANA</td>\n      <td>2020-02-29</td>\n      <td>NaT</td>\n      <td>2020-03-09</td>\n      <td>2020-03-15</td>\n      <td>2020-03-09</td>\n      <td>PCR</td>\n      <td>5</td>\n      <td>724.0</td>\n      <td>OTRO</td>\n      <td>NO INFO</td>\n    </tr>\n    <tr>\n      <th>3</th>\n      <td>4</td>\n      <td>2020-03-09</td>\n      <td>5001</td>\n      <td>MEDELLIN</td>\n      <td>ANTIOQUIA</td>\n      <td>RECUPERADO</td>\n      <td>55</td>\n      <td>M</td>\n      <td>RELACIONADO</td>\n      <td>LEVE</td>\n      <td>NO INFO</td>\n      <td>2020-03-06</td>\n      <td>NaT</td>\n      <td>2020-03-11</td>\n      <td>2020-03-26</td>\n      <td>2020-03-11</td>\n      <td>PCR</td>\n      <td>5</td>\n      <td>NaN</td>\n      <td>OTRO</td>\n      <td>NO INFO</td>\n    </tr>\n    <tr>\n      <th>4</th>\n      <td>5</td>\n      <td>2020-03-09</td>\n      <td>5001</td>\n      <td>MEDELLIN</td>\n      <td>ANTIOQUIA</td>\n      <td>RECUPERADO</td>\n      <td>25</td>\n      <td>M</td>\n      <td>RELACIONADO</td>\n      <td>LEVE</td>\n      <td>NO INFO</td>\n      <td>2020-03-08</td>\n      <td>NaT</td>\n      <td>2020-03-11</td>\n      <td>2020-03-23</td>\n      <td>2020-03-11</td>\n      <td>PCR</td>\n      <td>5</td>\n      <td>NaN</td>\n      <td>OTRO</td>\n      <td>NO INFO</td>\n    </tr>\n  </tbody>\n</table>\n</div>"
     },
     "metadata": {},
     "execution_count": 68
    }
   ],
   "source": [
    "#droping the values that present in both Fecha recuperado and Fecha de muerte \n",
    "df.drop(idx_met,inplace=True)\n",
    "print(df.shape)\n",
    "df.head()"
   ]
  },
  {
   "cell_type": "markdown",
   "metadata": {},
   "source": [
    "-----------------"
   ]
  },
  {
   "cell_type": "markdown",
   "metadata": {},
   "source": [
    "### Cheking numerical data"
   ]
  },
  {
   "cell_type": "code",
   "execution_count": 69,
   "metadata": {
    "tags": []
   },
   "outputs": [
    {
     "output_type": "stream",
     "name": "stdout",
     "text": "<class 'pandas.core.frame.DataFrame'>\nInt64Index: 737534 entries, 0 to 743944\nData columns (total 5 columns):\n #   Column               Non-Null Count   Dtype  \n---  ------               --------------   -----  \n 0   ID DE CASO           737534 non-null  int64  \n 1   CÓDIGO DIVIPOLA      737534 non-null  int64  \n 2   EDAD                 737534 non-null  int64  \n 3   CODIGO DEPARTAMENTO  737534 non-null  int64  \n 4   CODIGO PAIS          961 non-null     float64\ndtypes: float64(1), int64(4)\nmemory usage: 33.8 MB\n"
    }
   ],
   "source": [
    "df.select_dtypes(include=np.number).info()"
   ]
  },
  {
   "cell_type": "markdown",
   "metadata": {},
   "source": [
    "We only have missing values in Codigo pais"
   ]
  },
  {
   "cell_type": "code",
   "execution_count": 72,
   "metadata": {
    "tags": []
   },
   "outputs": [
    {
     "output_type": "execute_result",
     "data": {
      "text/plain": "array([1])"
     },
     "metadata": {},
     "execution_count": 72
    }
   ],
   "source": [
    "#cheking if we have no duplicates in ID de caso\n",
    "df['ID DE CASO'].value_counts().unique()"
   ]
  },
  {
   "cell_type": "code",
   "execution_count": 74,
   "metadata": {},
   "outputs": [
    {
     "output_type": "execute_result",
     "data": {
      "text/plain": "737534"
     },
     "metadata": {},
     "execution_count": 74
    }
   ],
   "source": [
    "df['ID DE CASO'].nunique()"
   ]
  },
  {
   "cell_type": "code",
   "execution_count": 71,
   "metadata": {},
   "outputs": [],
   "source": [
    "#df['Código DIVIPOLA'].unique()"
   ]
  },
  {
   "cell_type": "code",
   "execution_count": 75,
   "metadata": {
    "tags": []
   },
   "outputs": [
    {
     "output_type": "stream",
     "name": "stdout",
     "text": "[1, 2, 3, 4, 5, 6, 7, 8, 9, 10, 11, 12, 13, 14, 15, 16, 17, 18, 19, 20, 21, 22, 23, 24, 25, 26, 27, 28, 29, 30, 31, 32, 33, 34, 35, 36, 37, 38, 39, 40, 41, 42, 43, 44, 45, 46, 47, 48, 49, 50, 51, 52, 53, 54, 55, 56, 57, 58, 59, 60, 61, 62, 63, 64, 65, 66, 67, 68, 69, 70, 71, 72, 73, 74, 75, 76, 77, 78, 79, 80, 81, 82, 83, 84, 85, 86, 87, 88, 89, 90, 91, 92, 93, 94, 95, 96, 97, 98, 99, 100, 101, 102, 103, 104, 105, 106, 107, 108, 110, 112, 115, 123]\n"
    }
   ],
   "source": [
    "#cheking unique values in Edad\n",
    "print(sorted(df['EDAD'].unique()))"
   ]
  },
  {
   "cell_type": "markdown",
   "metadata": {},
   "source": [
    "It is worth noting look the people over 100 years old"
   ]
  },
  {
   "cell_type": "code",
   "execution_count": 76,
   "metadata": {
    "tags": []
   },
   "outputs": [
    {
     "output_type": "stream",
     "name": "stdout",
     "text": "[5, 8, 11, 13, 15, 17, 18, 19, 20, 23, 25, 27, 41, 44, 47, 50, 52, 54, 63, 66, 68, 70, 73, 76, 81, 85, 86, 88, 91, 94, 95, 97, 99]\n"
    }
   ],
   "source": [
    "#cheking unique values in Codigo departamento\n",
    "print(sorted(df['CODIGO DEPARTAMENTO'].unique()))"
   ]
  },
  {
   "cell_type": "code",
   "execution_count": 78,
   "metadata": {
    "tags": []
   },
   "outputs": [
    {
     "output_type": "stream",
     "name": "stdout",
     "text": "[56.0, 380.0, 724.0, nan, 32.0, 36.0, 50.0, 70.0, 76.0, 124.0, 152.0, 188.0, 191.0, 192.0, 214.0, 218.0, 250.0, 276.0, 300.0, 320.0, 340.0, 372.0, 376.0, 388.0, 404.0, 484.0, 504.0, 530.0, 531.0, 533.0, 558.0, 591.0, 604.0, 620.0, 630.0, 682.0, 752.0, 756.0, 760.0, 784.0, 792.0, 818.0, 826.0, 840.0, 858.0, 862.0]\n"
    }
   ],
   "source": [
    "#cheking unique values in Codigo pais\n",
    "print(sorted(df['CODIGO PAIS'].unique()))"
   ]
  },
  {
   "cell_type": "code",
   "execution_count": 79,
   "metadata": {},
   "outputs": [
    {
     "output_type": "execute_result",
     "data": {
      "text/plain": "        ID DE CASO FECHA DE NOTIFICACIÓN  CÓDIGO DIVIPOLA  \\\n3757          3758            2020-04-12            11001   \n8246          8287            2020-05-02             8001   \n26612        26653            2020-05-26            11001   \n28881        28922            2020-05-20            13001   \n38660        38701            2020-05-28            76364   \n...            ...                   ...              ...   \n731371      731412            2020-09-04             5001   \n734461      734502            2020-09-04             5001   \n736462      736503            2020-08-31            20001   \n737682      737723            2020-09-12             8001   \n742197      742238            2020-09-07            11001   \n\n        CIUDAD DE UBICACIÓN DEPARTAMENTO O DISTRITO     ATENCIÓN  EDAD SEXO  \\\n3757            BOGOTA D.C.              BOGOTA D.C.  RECUPERADO   103    F   \n8246           BARRANQUILLA        BARRANQUILLA D.E.   FALLECIDO   100    F   \n26612           BOGOTA D.C.              BOGOTA D.C.   FALLECIDO   100    F   \n28881   CARTAGENA DE INDIAS      CARTAGENA D.T. Y C.   FALLECIDO   103    F   \n38660               JAMUNDI          VALLE DEL CAUCA   FALLECIDO   102    F   \n...                     ...                      ...         ...   ...  ...   \n731371             MEDELLIN                ANTIOQUIA        CASA   123    M   \n734461             MEDELLIN                ANTIOQUIA   FALLECIDO   100    F   \n736462           VALLEDUPAR                    CESAR    HOSPITAL   101    F   \n737682         BARRANQUILLA        BARRANQUILLA D.E.        CASA   101    F   \n742197          BOGOTA D.C.              BOGOTA D.C.        CASA   100    M   \n\n              TIPO     ESTADO PAÍS DE PROCEDENCIA        FIS FECHA DE MUERTE  \\\n3757    EN ESTUDIO       LEVE             NO INFO 2020-04-11             NaT   \n8246    EN ESTUDIO  FALLECIDO             NO INFO 2020-05-01      2020-05-01   \n26612   EN ESTUDIO  FALLECIDO             NO INFO 2020-05-26      2020-05-30   \n28881   EN ESTUDIO  FALLECIDO             NO INFO 2020-05-16      2020-05-28   \n38660   EN ESTUDIO  FALLECIDO             NO INFO 2020-05-25      2020-05-28   \n...            ...        ...                 ...        ...             ...   \n731371  EN ESTUDIO       LEVE             NO INFO 2020-08-31             NaT   \n734461  EN ESTUDIO  FALLECIDO             NO INFO 2020-08-31      2020-09-12   \n736462  EN ESTUDIO   MODERADO             NO INFO 2020-08-26             NaT   \n737682  EN ESTUDIO       LEVE             NO INFO 2020-09-12             NaT   \n742197  EN ESTUDIO       LEVE             NO INFO 2020-08-31             NaT   \n\n       FECHA DIAGNOSTICO FECHA RECUPERADO FECHA REPORTE WEB TIPO RECUPERACIÓN  \\\n3757          2020-04-19       2020-04-24        2020-04-19               PCR   \n8246          2020-05-05              NaT        2020-05-05           NO INFO   \n26612         2020-05-29              NaT        2020-05-29           NO INFO   \n28881         2020-05-31              NaT        2020-05-31           NO INFO   \n38660         2020-06-07              NaT        2020-06-07           NO INFO   \n...                  ...              ...               ...               ...   \n731371        2020-09-15              NaT        2020-09-16           NO INFO   \n734461        2020-09-15              NaT        2020-09-16           NO INFO   \n736462        2020-08-31              NaT        2020-09-17           NO INFO   \n737682        2020-09-16              NaT        2020-09-17           NO INFO   \n742197        2020-09-16              NaT        2020-09-17           NO INFO   \n\n        CODIGO DEPARTAMENTO  CODIGO PAIS PERTENENCIA ETNICA  \\\n3757                     11          NaN               OTRO   \n8246                      8          NaN               OTRO   \n26612                    11          NaN               OTRO   \n28881                    13          NaN               OTRO   \n38660                    76          NaN              NEGRO   \n...                     ...          ...                ...   \n731371                    5          NaN            NO INFO   \n734461                    5          NaN            NO INFO   \n736462                   20          NaN            NO INFO   \n737682                    8          NaN            NO INFO   \n742197                   11          NaN            NO INFO   \n\n       NOMBRE GRUPO ETNICO  \n3757               NO INFO  \n8246               NO INFO  \n26612              NO INFO  \n28881              NO INFO  \n38660              NO INFO  \n...                    ...  \n731371             NO INFO  \n734461             NO INFO  \n736462             NO INFO  \n737682             NO INFO  \n742197             NO INFO  \n\n[142 rows x 21 columns]",
      "text/html": "<div>\n<style scoped>\n    .dataframe tbody tr th:only-of-type {\n        vertical-align: middle;\n    }\n\n    .dataframe tbody tr th {\n        vertical-align: top;\n    }\n\n    .dataframe thead th {\n        text-align: right;\n    }\n</style>\n<table border=\"1\" class=\"dataframe\">\n  <thead>\n    <tr style=\"text-align: right;\">\n      <th></th>\n      <th>ID DE CASO</th>\n      <th>FECHA DE NOTIFICACIÓN</th>\n      <th>CÓDIGO DIVIPOLA</th>\n      <th>CIUDAD DE UBICACIÓN</th>\n      <th>DEPARTAMENTO O DISTRITO</th>\n      <th>ATENCIÓN</th>\n      <th>EDAD</th>\n      <th>SEXO</th>\n      <th>TIPO</th>\n      <th>ESTADO</th>\n      <th>PAÍS DE PROCEDENCIA</th>\n      <th>FIS</th>\n      <th>FECHA DE MUERTE</th>\n      <th>FECHA DIAGNOSTICO</th>\n      <th>FECHA RECUPERADO</th>\n      <th>FECHA REPORTE WEB</th>\n      <th>TIPO RECUPERACIÓN</th>\n      <th>CODIGO DEPARTAMENTO</th>\n      <th>CODIGO PAIS</th>\n      <th>PERTENENCIA ETNICA</th>\n      <th>NOMBRE GRUPO ETNICO</th>\n    </tr>\n  </thead>\n  <tbody>\n    <tr>\n      <th>3757</th>\n      <td>3758</td>\n      <td>2020-04-12</td>\n      <td>11001</td>\n      <td>BOGOTA D.C.</td>\n      <td>BOGOTA D.C.</td>\n      <td>RECUPERADO</td>\n      <td>103</td>\n      <td>F</td>\n      <td>EN ESTUDIO</td>\n      <td>LEVE</td>\n      <td>NO INFO</td>\n      <td>2020-04-11</td>\n      <td>NaT</td>\n      <td>2020-04-19</td>\n      <td>2020-04-24</td>\n      <td>2020-04-19</td>\n      <td>PCR</td>\n      <td>11</td>\n      <td>NaN</td>\n      <td>OTRO</td>\n      <td>NO INFO</td>\n    </tr>\n    <tr>\n      <th>8246</th>\n      <td>8287</td>\n      <td>2020-05-02</td>\n      <td>8001</td>\n      <td>BARRANQUILLA</td>\n      <td>BARRANQUILLA D.E.</td>\n      <td>FALLECIDO</td>\n      <td>100</td>\n      <td>F</td>\n      <td>EN ESTUDIO</td>\n      <td>FALLECIDO</td>\n      <td>NO INFO</td>\n      <td>2020-05-01</td>\n      <td>2020-05-01</td>\n      <td>2020-05-05</td>\n      <td>NaT</td>\n      <td>2020-05-05</td>\n      <td>NO INFO</td>\n      <td>8</td>\n      <td>NaN</td>\n      <td>OTRO</td>\n      <td>NO INFO</td>\n    </tr>\n    <tr>\n      <th>26612</th>\n      <td>26653</td>\n      <td>2020-05-26</td>\n      <td>11001</td>\n      <td>BOGOTA D.C.</td>\n      <td>BOGOTA D.C.</td>\n      <td>FALLECIDO</td>\n      <td>100</td>\n      <td>F</td>\n      <td>EN ESTUDIO</td>\n      <td>FALLECIDO</td>\n      <td>NO INFO</td>\n      <td>2020-05-26</td>\n      <td>2020-05-30</td>\n      <td>2020-05-29</td>\n      <td>NaT</td>\n      <td>2020-05-29</td>\n      <td>NO INFO</td>\n      <td>11</td>\n      <td>NaN</td>\n      <td>OTRO</td>\n      <td>NO INFO</td>\n    </tr>\n    <tr>\n      <th>28881</th>\n      <td>28922</td>\n      <td>2020-05-20</td>\n      <td>13001</td>\n      <td>CARTAGENA DE INDIAS</td>\n      <td>CARTAGENA D.T. Y C.</td>\n      <td>FALLECIDO</td>\n      <td>103</td>\n      <td>F</td>\n      <td>EN ESTUDIO</td>\n      <td>FALLECIDO</td>\n      <td>NO INFO</td>\n      <td>2020-05-16</td>\n      <td>2020-05-28</td>\n      <td>2020-05-31</td>\n      <td>NaT</td>\n      <td>2020-05-31</td>\n      <td>NO INFO</td>\n      <td>13</td>\n      <td>NaN</td>\n      <td>OTRO</td>\n      <td>NO INFO</td>\n    </tr>\n    <tr>\n      <th>38660</th>\n      <td>38701</td>\n      <td>2020-05-28</td>\n      <td>76364</td>\n      <td>JAMUNDI</td>\n      <td>VALLE DEL CAUCA</td>\n      <td>FALLECIDO</td>\n      <td>102</td>\n      <td>F</td>\n      <td>EN ESTUDIO</td>\n      <td>FALLECIDO</td>\n      <td>NO INFO</td>\n      <td>2020-05-25</td>\n      <td>2020-05-28</td>\n      <td>2020-06-07</td>\n      <td>NaT</td>\n      <td>2020-06-07</td>\n      <td>NO INFO</td>\n      <td>76</td>\n      <td>NaN</td>\n      <td>NEGRO</td>\n      <td>NO INFO</td>\n    </tr>\n    <tr>\n      <th>...</th>\n      <td>...</td>\n      <td>...</td>\n      <td>...</td>\n      <td>...</td>\n      <td>...</td>\n      <td>...</td>\n      <td>...</td>\n      <td>...</td>\n      <td>...</td>\n      <td>...</td>\n      <td>...</td>\n      <td>...</td>\n      <td>...</td>\n      <td>...</td>\n      <td>...</td>\n      <td>...</td>\n      <td>...</td>\n      <td>...</td>\n      <td>...</td>\n      <td>...</td>\n      <td>...</td>\n    </tr>\n    <tr>\n      <th>731371</th>\n      <td>731412</td>\n      <td>2020-09-04</td>\n      <td>5001</td>\n      <td>MEDELLIN</td>\n      <td>ANTIOQUIA</td>\n      <td>CASA</td>\n      <td>123</td>\n      <td>M</td>\n      <td>EN ESTUDIO</td>\n      <td>LEVE</td>\n      <td>NO INFO</td>\n      <td>2020-08-31</td>\n      <td>NaT</td>\n      <td>2020-09-15</td>\n      <td>NaT</td>\n      <td>2020-09-16</td>\n      <td>NO INFO</td>\n      <td>5</td>\n      <td>NaN</td>\n      <td>NO INFO</td>\n      <td>NO INFO</td>\n    </tr>\n    <tr>\n      <th>734461</th>\n      <td>734502</td>\n      <td>2020-09-04</td>\n      <td>5001</td>\n      <td>MEDELLIN</td>\n      <td>ANTIOQUIA</td>\n      <td>FALLECIDO</td>\n      <td>100</td>\n      <td>F</td>\n      <td>EN ESTUDIO</td>\n      <td>FALLECIDO</td>\n      <td>NO INFO</td>\n      <td>2020-08-31</td>\n      <td>2020-09-12</td>\n      <td>2020-09-15</td>\n      <td>NaT</td>\n      <td>2020-09-16</td>\n      <td>NO INFO</td>\n      <td>5</td>\n      <td>NaN</td>\n      <td>NO INFO</td>\n      <td>NO INFO</td>\n    </tr>\n    <tr>\n      <th>736462</th>\n      <td>736503</td>\n      <td>2020-08-31</td>\n      <td>20001</td>\n      <td>VALLEDUPAR</td>\n      <td>CESAR</td>\n      <td>HOSPITAL</td>\n      <td>101</td>\n      <td>F</td>\n      <td>EN ESTUDIO</td>\n      <td>MODERADO</td>\n      <td>NO INFO</td>\n      <td>2020-08-26</td>\n      <td>NaT</td>\n      <td>2020-08-31</td>\n      <td>NaT</td>\n      <td>2020-09-17</td>\n      <td>NO INFO</td>\n      <td>20</td>\n      <td>NaN</td>\n      <td>NO INFO</td>\n      <td>NO INFO</td>\n    </tr>\n    <tr>\n      <th>737682</th>\n      <td>737723</td>\n      <td>2020-09-12</td>\n      <td>8001</td>\n      <td>BARRANQUILLA</td>\n      <td>BARRANQUILLA D.E.</td>\n      <td>CASA</td>\n      <td>101</td>\n      <td>F</td>\n      <td>EN ESTUDIO</td>\n      <td>LEVE</td>\n      <td>NO INFO</td>\n      <td>2020-09-12</td>\n      <td>NaT</td>\n      <td>2020-09-16</td>\n      <td>NaT</td>\n      <td>2020-09-17</td>\n      <td>NO INFO</td>\n      <td>8</td>\n      <td>NaN</td>\n      <td>NO INFO</td>\n      <td>NO INFO</td>\n    </tr>\n    <tr>\n      <th>742197</th>\n      <td>742238</td>\n      <td>2020-09-07</td>\n      <td>11001</td>\n      <td>BOGOTA D.C.</td>\n      <td>BOGOTA D.C.</td>\n      <td>CASA</td>\n      <td>100</td>\n      <td>M</td>\n      <td>EN ESTUDIO</td>\n      <td>LEVE</td>\n      <td>NO INFO</td>\n      <td>2020-08-31</td>\n      <td>NaT</td>\n      <td>2020-09-16</td>\n      <td>NaT</td>\n      <td>2020-09-17</td>\n      <td>NO INFO</td>\n      <td>11</td>\n      <td>NaN</td>\n      <td>NO INFO</td>\n      <td>NO INFO</td>\n    </tr>\n  </tbody>\n</table>\n<p>142 rows × 21 columns</p>\n</div>"
     },
     "metadata": {},
     "execution_count": 79
    }
   ],
   "source": [
    "#Checking the ages over 99 years old\n",
    "df[df['EDAD']>99]#.select_dtypes(exclude='datetime')"
   ]
  },
  {
   "source": [
    "print('There are {} people over 99 years old, and the maximum age is:'.format(len(df[df['EDAD']>99])),df['EDAD'].max())"
   ],
   "cell_type": "code",
   "metadata": {
    "tags": []
   },
   "execution_count": 88,
   "outputs": [
    {
     "output_type": "stream",
     "name": "stdout",
     "text": "There are 142 people over 99 years old, and the maximum age is: 123\n"
    }
   ]
  },
  {
   "cell_type": "code",
   "execution_count": 90,
   "metadata": {},
   "outputs": [],
   "source": [
    "df[df['EDAD']>99].to_excel('personas_mayores_99.xlsx')"
   ]
  },
  {
   "cell_type": "markdown",
   "metadata": {},
   "source": [
    "Droping those people"
   ]
  },
  {
   "cell_type": "code",
   "execution_count": 91,
   "metadata": {},
   "outputs": [],
   "source": [
    "df.drop(df[df['EDAD']>99].index,inplace=True)"
   ]
  },
  {
   "cell_type": "markdown",
   "metadata": {},
   "source": [
    "Check that for Estado=ASINTOMATICO have no Fecha de muerte"
   ]
  },
  {
   "cell_type": "code",
   "execution_count": 93,
   "metadata": {},
   "outputs": [],
   "source": [
    "temp=df[df['ESTADO']=='ASINTOMATICO']\n",
    "temp2=temp[temp['FECHA DE MUERTE'].notnull()]\n",
    "temp2['M<D']=df['FECHA DIAGNOSTICO']>df['FECHA DE MUERTE']"
   ]
  },
  {
   "cell_type": "markdown",
   "metadata": {},
   "source": [
    "Since we have asymptomatic people with a date of death, we must review their date of diagnosis, because possibly these people died and after they died they were diagnosed with COVID, however they did not die from COVID"
   ]
  },
  {
   "cell_type": "code",
   "execution_count": 94,
   "metadata": {},
   "outputs": [],
   "source": [
    "def highlight_max(s):\n",
    "    '''\n",
    "    highlight the maximum in a Series yellow.\n",
    "    '''\n",
    "    is_max = s == True\n",
    "    return ['background-color: yellow' if v else '' for v in is_max]"
   ]
  },
  {
   "cell_type": "code",
   "execution_count": 97,
   "metadata": {
    "scrolled": true
   },
   "outputs": [
    {
     "output_type": "execute_result",
     "data": {
      "text/plain": "<pandas.io.formats.style.Styler at 0x7fbf3b4b2400>",
      "text/html": "<style  type=\"text/css\" >\n#T_4d8ec0a6_fc38_11ea_8fa8_93c98c80411frow2_col4,#T_4d8ec0a6_fc38_11ea_8fa8_93c98c80411frow10_col4,#T_4d8ec0a6_fc38_11ea_8fa8_93c98c80411frow12_col4,#T_4d8ec0a6_fc38_11ea_8fa8_93c98c80411frow20_col4,#T_4d8ec0a6_fc38_11ea_8fa8_93c98c80411frow22_col4,#T_4d8ec0a6_fc38_11ea_8fa8_93c98c80411frow24_col4,#T_4d8ec0a6_fc38_11ea_8fa8_93c98c80411frow34_col4,#T_4d8ec0a6_fc38_11ea_8fa8_93c98c80411frow35_col4,#T_4d8ec0a6_fc38_11ea_8fa8_93c98c80411frow36_col4,#T_4d8ec0a6_fc38_11ea_8fa8_93c98c80411frow37_col4,#T_4d8ec0a6_fc38_11ea_8fa8_93c98c80411frow38_col4,#T_4d8ec0a6_fc38_11ea_8fa8_93c98c80411frow47_col4,#T_4d8ec0a6_fc38_11ea_8fa8_93c98c80411frow51_col4,#T_4d8ec0a6_fc38_11ea_8fa8_93c98c80411frow54_col4{\n            background-color:  yellow;\n        }</style><table id=\"T_4d8ec0a6_fc38_11ea_8fa8_93c98c80411f\" ><thead>    <tr>        <th class=\"blank level0\" ></th>        <th class=\"col_heading level0 col0\" >ESTADO</th>        <th class=\"col_heading level0 col1\" >FECHA RECUPERADO</th>        <th class=\"col_heading level0 col2\" >FECHA DIAGNOSTICO</th>        <th class=\"col_heading level0 col3\" >FECHA DE MUERTE</th>        <th class=\"col_heading level0 col4\" >M<D</th>    </tr></thead><tbody>\n                <tr>\n                        <th id=\"T_4d8ec0a6_fc38_11ea_8fa8_93c98c80411flevel0_row0\" class=\"row_heading level0 row0\" >790</th>\n                        <td id=\"T_4d8ec0a6_fc38_11ea_8fa8_93c98c80411frow0_col0\" class=\"data row0 col0\" >ASINTOMATICO</td>\n                        <td id=\"T_4d8ec0a6_fc38_11ea_8fa8_93c98c80411frow0_col1\" class=\"data row0 col1\" >NaT</td>\n                        <td id=\"T_4d8ec0a6_fc38_11ea_8fa8_93c98c80411frow0_col2\" class=\"data row0 col2\" >2020-03-30 00:00:00</td>\n                        <td id=\"T_4d8ec0a6_fc38_11ea_8fa8_93c98c80411frow0_col3\" class=\"data row0 col3\" >2020-06-10 00:00:00</td>\n                        <td id=\"T_4d8ec0a6_fc38_11ea_8fa8_93c98c80411frow0_col4\" class=\"data row0 col4\" >False</td>\n            </tr>\n            <tr>\n                        <th id=\"T_4d8ec0a6_fc38_11ea_8fa8_93c98c80411flevel0_row1\" class=\"row_heading level0 row1\" >11106</th>\n                        <td id=\"T_4d8ec0a6_fc38_11ea_8fa8_93c98c80411frow1_col0\" class=\"data row1 col0\" >ASINTOMATICO</td>\n                        <td id=\"T_4d8ec0a6_fc38_11ea_8fa8_93c98c80411frow1_col1\" class=\"data row1 col1\" >NaT</td>\n                        <td id=\"T_4d8ec0a6_fc38_11ea_8fa8_93c98c80411frow1_col2\" class=\"data row1 col2\" >2020-05-11 00:00:00</td>\n                        <td id=\"T_4d8ec0a6_fc38_11ea_8fa8_93c98c80411frow1_col3\" class=\"data row1 col3\" >2020-05-16 00:00:00</td>\n                        <td id=\"T_4d8ec0a6_fc38_11ea_8fa8_93c98c80411frow1_col4\" class=\"data row1 col4\" >False</td>\n            </tr>\n            <tr>\n                        <th id=\"T_4d8ec0a6_fc38_11ea_8fa8_93c98c80411flevel0_row2\" class=\"row_heading level0 row2\" >40737</th>\n                        <td id=\"T_4d8ec0a6_fc38_11ea_8fa8_93c98c80411frow2_col0\" class=\"data row2 col0\" >ASINTOMATICO</td>\n                        <td id=\"T_4d8ec0a6_fc38_11ea_8fa8_93c98c80411frow2_col1\" class=\"data row2 col1\" >NaT</td>\n                        <td id=\"T_4d8ec0a6_fc38_11ea_8fa8_93c98c80411frow2_col2\" class=\"data row2 col2\" >2020-06-09 00:00:00</td>\n                        <td id=\"T_4d8ec0a6_fc38_11ea_8fa8_93c98c80411frow2_col3\" class=\"data row2 col3\" >2020-06-06 00:00:00</td>\n                        <td id=\"T_4d8ec0a6_fc38_11ea_8fa8_93c98c80411frow2_col4\" class=\"data row2 col4\" >True</td>\n            </tr>\n            <tr>\n                        <th id=\"T_4d8ec0a6_fc38_11ea_8fa8_93c98c80411flevel0_row3\" class=\"row_heading level0 row3\" >49158</th>\n                        <td id=\"T_4d8ec0a6_fc38_11ea_8fa8_93c98c80411frow3_col0\" class=\"data row3 col0\" >ASINTOMATICO</td>\n                        <td id=\"T_4d8ec0a6_fc38_11ea_8fa8_93c98c80411frow3_col1\" class=\"data row3 col1\" >NaT</td>\n                        <td id=\"T_4d8ec0a6_fc38_11ea_8fa8_93c98c80411frow3_col2\" class=\"data row3 col2\" >2020-06-14 00:00:00</td>\n                        <td id=\"T_4d8ec0a6_fc38_11ea_8fa8_93c98c80411frow3_col3\" class=\"data row3 col3\" >2020-06-19 00:00:00</td>\n                        <td id=\"T_4d8ec0a6_fc38_11ea_8fa8_93c98c80411frow3_col4\" class=\"data row3 col4\" >False</td>\n            </tr>\n            <tr>\n                        <th id=\"T_4d8ec0a6_fc38_11ea_8fa8_93c98c80411flevel0_row4\" class=\"row_heading level0 row4\" >63176</th>\n                        <td id=\"T_4d8ec0a6_fc38_11ea_8fa8_93c98c80411frow4_col0\" class=\"data row4 col0\" >ASINTOMATICO</td>\n                        <td id=\"T_4d8ec0a6_fc38_11ea_8fa8_93c98c80411frow4_col1\" class=\"data row4 col1\" >NaT</td>\n                        <td id=\"T_4d8ec0a6_fc38_11ea_8fa8_93c98c80411frow4_col2\" class=\"data row4 col2\" >2020-06-19 00:00:00</td>\n                        <td id=\"T_4d8ec0a6_fc38_11ea_8fa8_93c98c80411frow4_col3\" class=\"data row4 col3\" >2020-07-13 00:00:00</td>\n                        <td id=\"T_4d8ec0a6_fc38_11ea_8fa8_93c98c80411frow4_col4\" class=\"data row4 col4\" >False</td>\n            </tr>\n            <tr>\n                        <th id=\"T_4d8ec0a6_fc38_11ea_8fa8_93c98c80411flevel0_row5\" class=\"row_heading level0 row5\" >79972</th>\n                        <td id=\"T_4d8ec0a6_fc38_11ea_8fa8_93c98c80411frow5_col0\" class=\"data row5 col0\" >ASINTOMATICO</td>\n                        <td id=\"T_4d8ec0a6_fc38_11ea_8fa8_93c98c80411frow5_col1\" class=\"data row5 col1\" >NaT</td>\n                        <td id=\"T_4d8ec0a6_fc38_11ea_8fa8_93c98c80411frow5_col2\" class=\"data row5 col2\" >2020-06-25 00:00:00</td>\n                        <td id=\"T_4d8ec0a6_fc38_11ea_8fa8_93c98c80411frow5_col3\" class=\"data row5 col3\" >2020-07-18 00:00:00</td>\n                        <td id=\"T_4d8ec0a6_fc38_11ea_8fa8_93c98c80411frow5_col4\" class=\"data row5 col4\" >False</td>\n            </tr>\n            <tr>\n                        <th id=\"T_4d8ec0a6_fc38_11ea_8fa8_93c98c80411flevel0_row6\" class=\"row_heading level0 row6\" >94248</th>\n                        <td id=\"T_4d8ec0a6_fc38_11ea_8fa8_93c98c80411frow6_col0\" class=\"data row6 col0\" >ASINTOMATICO</td>\n                        <td id=\"T_4d8ec0a6_fc38_11ea_8fa8_93c98c80411frow6_col1\" class=\"data row6 col1\" >NaT</td>\n                        <td id=\"T_4d8ec0a6_fc38_11ea_8fa8_93c98c80411frow6_col2\" class=\"data row6 col2\" >2020-06-28 00:00:00</td>\n                        <td id=\"T_4d8ec0a6_fc38_11ea_8fa8_93c98c80411frow6_col3\" class=\"data row6 col3\" >2020-08-06 00:00:00</td>\n                        <td id=\"T_4d8ec0a6_fc38_11ea_8fa8_93c98c80411frow6_col4\" class=\"data row6 col4\" >False</td>\n            </tr>\n            <tr>\n                        <th id=\"T_4d8ec0a6_fc38_11ea_8fa8_93c98c80411flevel0_row7\" class=\"row_heading level0 row7\" >105698</th>\n                        <td id=\"T_4d8ec0a6_fc38_11ea_8fa8_93c98c80411frow7_col0\" class=\"data row7 col0\" >ASINTOMATICO</td>\n                        <td id=\"T_4d8ec0a6_fc38_11ea_8fa8_93c98c80411frow7_col1\" class=\"data row7 col1\" >NaT</td>\n                        <td id=\"T_4d8ec0a6_fc38_11ea_8fa8_93c98c80411frow7_col2\" class=\"data row7 col2\" >2020-07-02 00:00:00</td>\n                        <td id=\"T_4d8ec0a6_fc38_11ea_8fa8_93c98c80411frow7_col3\" class=\"data row7 col3\" >2020-07-15 00:00:00</td>\n                        <td id=\"T_4d8ec0a6_fc38_11ea_8fa8_93c98c80411frow7_col4\" class=\"data row7 col4\" >False</td>\n            </tr>\n            <tr>\n                        <th id=\"T_4d8ec0a6_fc38_11ea_8fa8_93c98c80411flevel0_row8\" class=\"row_heading level0 row8\" >113223</th>\n                        <td id=\"T_4d8ec0a6_fc38_11ea_8fa8_93c98c80411frow8_col0\" class=\"data row8 col0\" >ASINTOMATICO</td>\n                        <td id=\"T_4d8ec0a6_fc38_11ea_8fa8_93c98c80411frow8_col1\" class=\"data row8 col1\" >NaT</td>\n                        <td id=\"T_4d8ec0a6_fc38_11ea_8fa8_93c98c80411frow8_col2\" class=\"data row8 col2\" >2020-07-04 00:00:00</td>\n                        <td id=\"T_4d8ec0a6_fc38_11ea_8fa8_93c98c80411frow8_col3\" class=\"data row8 col3\" >2020-07-11 00:00:00</td>\n                        <td id=\"T_4d8ec0a6_fc38_11ea_8fa8_93c98c80411frow8_col4\" class=\"data row8 col4\" >False</td>\n            </tr>\n            <tr>\n                        <th id=\"T_4d8ec0a6_fc38_11ea_8fa8_93c98c80411flevel0_row9\" class=\"row_heading level0 row9\" >115869</th>\n                        <td id=\"T_4d8ec0a6_fc38_11ea_8fa8_93c98c80411frow9_col0\" class=\"data row9 col0\" >ASINTOMATICO</td>\n                        <td id=\"T_4d8ec0a6_fc38_11ea_8fa8_93c98c80411frow9_col1\" class=\"data row9 col1\" >NaT</td>\n                        <td id=\"T_4d8ec0a6_fc38_11ea_8fa8_93c98c80411frow9_col2\" class=\"data row9 col2\" >2020-07-05 00:00:00</td>\n                        <td id=\"T_4d8ec0a6_fc38_11ea_8fa8_93c98c80411frow9_col3\" class=\"data row9 col3\" >2020-07-13 00:00:00</td>\n                        <td id=\"T_4d8ec0a6_fc38_11ea_8fa8_93c98c80411frow9_col4\" class=\"data row9 col4\" >False</td>\n            </tr>\n            <tr>\n                        <th id=\"T_4d8ec0a6_fc38_11ea_8fa8_93c98c80411flevel0_row10\" class=\"row_heading level0 row10\" >127899</th>\n                        <td id=\"T_4d8ec0a6_fc38_11ea_8fa8_93c98c80411frow10_col0\" class=\"data row10 col0\" >ASINTOMATICO</td>\n                        <td id=\"T_4d8ec0a6_fc38_11ea_8fa8_93c98c80411frow10_col1\" class=\"data row10 col1\" >NaT</td>\n                        <td id=\"T_4d8ec0a6_fc38_11ea_8fa8_93c98c80411frow10_col2\" class=\"data row10 col2\" >2020-07-08 00:00:00</td>\n                        <td id=\"T_4d8ec0a6_fc38_11ea_8fa8_93c98c80411frow10_col3\" class=\"data row10 col3\" >2020-07-03 00:00:00</td>\n                        <td id=\"T_4d8ec0a6_fc38_11ea_8fa8_93c98c80411frow10_col4\" class=\"data row10 col4\" >True</td>\n            </tr>\n            <tr>\n                        <th id=\"T_4d8ec0a6_fc38_11ea_8fa8_93c98c80411flevel0_row11\" class=\"row_heading level0 row11\" >128228</th>\n                        <td id=\"T_4d8ec0a6_fc38_11ea_8fa8_93c98c80411frow11_col0\" class=\"data row11 col0\" >ASINTOMATICO</td>\n                        <td id=\"T_4d8ec0a6_fc38_11ea_8fa8_93c98c80411frow11_col1\" class=\"data row11 col1\" >NaT</td>\n                        <td id=\"T_4d8ec0a6_fc38_11ea_8fa8_93c98c80411frow11_col2\" class=\"data row11 col2\" >2020-07-08 00:00:00</td>\n                        <td id=\"T_4d8ec0a6_fc38_11ea_8fa8_93c98c80411frow11_col3\" class=\"data row11 col3\" >2020-07-21 00:00:00</td>\n                        <td id=\"T_4d8ec0a6_fc38_11ea_8fa8_93c98c80411frow11_col4\" class=\"data row11 col4\" >False</td>\n            </tr>\n            <tr>\n                        <th id=\"T_4d8ec0a6_fc38_11ea_8fa8_93c98c80411flevel0_row12\" class=\"row_heading level0 row12\" >128240</th>\n                        <td id=\"T_4d8ec0a6_fc38_11ea_8fa8_93c98c80411frow12_col0\" class=\"data row12 col0\" >ASINTOMATICO</td>\n                        <td id=\"T_4d8ec0a6_fc38_11ea_8fa8_93c98c80411frow12_col1\" class=\"data row12 col1\" >NaT</td>\n                        <td id=\"T_4d8ec0a6_fc38_11ea_8fa8_93c98c80411frow12_col2\" class=\"data row12 col2\" >2020-07-08 00:00:00</td>\n                        <td id=\"T_4d8ec0a6_fc38_11ea_8fa8_93c98c80411frow12_col3\" class=\"data row12 col3\" >2020-07-06 00:00:00</td>\n                        <td id=\"T_4d8ec0a6_fc38_11ea_8fa8_93c98c80411frow12_col4\" class=\"data row12 col4\" >True</td>\n            </tr>\n            <tr>\n                        <th id=\"T_4d8ec0a6_fc38_11ea_8fa8_93c98c80411flevel0_row13\" class=\"row_heading level0 row13\" >133868</th>\n                        <td id=\"T_4d8ec0a6_fc38_11ea_8fa8_93c98c80411frow13_col0\" class=\"data row13 col0\" >ASINTOMATICO</td>\n                        <td id=\"T_4d8ec0a6_fc38_11ea_8fa8_93c98c80411frow13_col1\" class=\"data row13 col1\" >NaT</td>\n                        <td id=\"T_4d8ec0a6_fc38_11ea_8fa8_93c98c80411frow13_col2\" class=\"data row13 col2\" >2020-07-09 00:00:00</td>\n                        <td id=\"T_4d8ec0a6_fc38_11ea_8fa8_93c98c80411frow13_col3\" class=\"data row13 col3\" >2020-07-14 00:00:00</td>\n                        <td id=\"T_4d8ec0a6_fc38_11ea_8fa8_93c98c80411frow13_col4\" class=\"data row13 col4\" >False</td>\n            </tr>\n            <tr>\n                        <th id=\"T_4d8ec0a6_fc38_11ea_8fa8_93c98c80411flevel0_row14\" class=\"row_heading level0 row14\" >139047</th>\n                        <td id=\"T_4d8ec0a6_fc38_11ea_8fa8_93c98c80411frow14_col0\" class=\"data row14 col0\" >ASINTOMATICO</td>\n                        <td id=\"T_4d8ec0a6_fc38_11ea_8fa8_93c98c80411frow14_col1\" class=\"data row14 col1\" >NaT</td>\n                        <td id=\"T_4d8ec0a6_fc38_11ea_8fa8_93c98c80411frow14_col2\" class=\"data row14 col2\" >2020-07-10 00:00:00</td>\n                        <td id=\"T_4d8ec0a6_fc38_11ea_8fa8_93c98c80411frow14_col3\" class=\"data row14 col3\" >2020-08-15 00:00:00</td>\n                        <td id=\"T_4d8ec0a6_fc38_11ea_8fa8_93c98c80411frow14_col4\" class=\"data row14 col4\" >False</td>\n            </tr>\n            <tr>\n                        <th id=\"T_4d8ec0a6_fc38_11ea_8fa8_93c98c80411flevel0_row15\" class=\"row_heading level0 row15\" >139659</th>\n                        <td id=\"T_4d8ec0a6_fc38_11ea_8fa8_93c98c80411frow15_col0\" class=\"data row15 col0\" >ASINTOMATICO</td>\n                        <td id=\"T_4d8ec0a6_fc38_11ea_8fa8_93c98c80411frow15_col1\" class=\"data row15 col1\" >NaT</td>\n                        <td id=\"T_4d8ec0a6_fc38_11ea_8fa8_93c98c80411frow15_col2\" class=\"data row15 col2\" >2020-07-10 00:00:00</td>\n                        <td id=\"T_4d8ec0a6_fc38_11ea_8fa8_93c98c80411frow15_col3\" class=\"data row15 col3\" >2020-08-02 00:00:00</td>\n                        <td id=\"T_4d8ec0a6_fc38_11ea_8fa8_93c98c80411frow15_col4\" class=\"data row15 col4\" >False</td>\n            </tr>\n            <tr>\n                        <th id=\"T_4d8ec0a6_fc38_11ea_8fa8_93c98c80411flevel0_row16\" class=\"row_heading level0 row16\" >140622</th>\n                        <td id=\"T_4d8ec0a6_fc38_11ea_8fa8_93c98c80411frow16_col0\" class=\"data row16 col0\" >ASINTOMATICO</td>\n                        <td id=\"T_4d8ec0a6_fc38_11ea_8fa8_93c98c80411frow16_col1\" class=\"data row16 col1\" >NaT</td>\n                        <td id=\"T_4d8ec0a6_fc38_11ea_8fa8_93c98c80411frow16_col2\" class=\"data row16 col2\" >2020-07-04 00:00:00</td>\n                        <td id=\"T_4d8ec0a6_fc38_11ea_8fa8_93c98c80411frow16_col3\" class=\"data row16 col3\" >2020-07-27 00:00:00</td>\n                        <td id=\"T_4d8ec0a6_fc38_11ea_8fa8_93c98c80411frow16_col4\" class=\"data row16 col4\" >False</td>\n            </tr>\n            <tr>\n                        <th id=\"T_4d8ec0a6_fc38_11ea_8fa8_93c98c80411flevel0_row17\" class=\"row_heading level0 row17\" >153911</th>\n                        <td id=\"T_4d8ec0a6_fc38_11ea_8fa8_93c98c80411frow17_col0\" class=\"data row17 col0\" >ASINTOMATICO</td>\n                        <td id=\"T_4d8ec0a6_fc38_11ea_8fa8_93c98c80411frow17_col1\" class=\"data row17 col1\" >NaT</td>\n                        <td id=\"T_4d8ec0a6_fc38_11ea_8fa8_93c98c80411frow17_col2\" class=\"data row17 col2\" >2020-07-13 00:00:00</td>\n                        <td id=\"T_4d8ec0a6_fc38_11ea_8fa8_93c98c80411frow17_col3\" class=\"data row17 col3\" >2020-08-02 00:00:00</td>\n                        <td id=\"T_4d8ec0a6_fc38_11ea_8fa8_93c98c80411frow17_col4\" class=\"data row17 col4\" >False</td>\n            </tr>\n            <tr>\n                        <th id=\"T_4d8ec0a6_fc38_11ea_8fa8_93c98c80411flevel0_row18\" class=\"row_heading level0 row18\" >159616</th>\n                        <td id=\"T_4d8ec0a6_fc38_11ea_8fa8_93c98c80411frow18_col0\" class=\"data row18 col0\" >ASINTOMATICO</td>\n                        <td id=\"T_4d8ec0a6_fc38_11ea_8fa8_93c98c80411frow18_col1\" class=\"data row18 col1\" >NaT</td>\n                        <td id=\"T_4d8ec0a6_fc38_11ea_8fa8_93c98c80411frow18_col2\" class=\"data row18 col2\" >2020-07-14 00:00:00</td>\n                        <td id=\"T_4d8ec0a6_fc38_11ea_8fa8_93c98c80411frow18_col3\" class=\"data row18 col3\" >2020-07-14 00:00:00</td>\n                        <td id=\"T_4d8ec0a6_fc38_11ea_8fa8_93c98c80411frow18_col4\" class=\"data row18 col4\" >False</td>\n            </tr>\n            <tr>\n                        <th id=\"T_4d8ec0a6_fc38_11ea_8fa8_93c98c80411flevel0_row19\" class=\"row_heading level0 row19\" >167141</th>\n                        <td id=\"T_4d8ec0a6_fc38_11ea_8fa8_93c98c80411frow19_col0\" class=\"data row19 col0\" >ASINTOMATICO</td>\n                        <td id=\"T_4d8ec0a6_fc38_11ea_8fa8_93c98c80411frow19_col1\" class=\"data row19 col1\" >NaT</td>\n                        <td id=\"T_4d8ec0a6_fc38_11ea_8fa8_93c98c80411frow19_col2\" class=\"data row19 col2\" >2020-07-13 00:00:00</td>\n                        <td id=\"T_4d8ec0a6_fc38_11ea_8fa8_93c98c80411frow19_col3\" class=\"data row19 col3\" >2020-07-16 00:00:00</td>\n                        <td id=\"T_4d8ec0a6_fc38_11ea_8fa8_93c98c80411frow19_col4\" class=\"data row19 col4\" >False</td>\n            </tr>\n            <tr>\n                        <th id=\"T_4d8ec0a6_fc38_11ea_8fa8_93c98c80411flevel0_row20\" class=\"row_heading level0 row20\" >167192</th>\n                        <td id=\"T_4d8ec0a6_fc38_11ea_8fa8_93c98c80411frow20_col0\" class=\"data row20 col0\" >ASINTOMATICO</td>\n                        <td id=\"T_4d8ec0a6_fc38_11ea_8fa8_93c98c80411frow20_col1\" class=\"data row20 col1\" >NaT</td>\n                        <td id=\"T_4d8ec0a6_fc38_11ea_8fa8_93c98c80411frow20_col2\" class=\"data row20 col2\" >2020-07-13 00:00:00</td>\n                        <td id=\"T_4d8ec0a6_fc38_11ea_8fa8_93c98c80411frow20_col3\" class=\"data row20 col3\" >2020-07-01 00:00:00</td>\n                        <td id=\"T_4d8ec0a6_fc38_11ea_8fa8_93c98c80411frow20_col4\" class=\"data row20 col4\" >True</td>\n            </tr>\n            <tr>\n                        <th id=\"T_4d8ec0a6_fc38_11ea_8fa8_93c98c80411flevel0_row21\" class=\"row_heading level0 row21\" >185817</th>\n                        <td id=\"T_4d8ec0a6_fc38_11ea_8fa8_93c98c80411frow21_col0\" class=\"data row21 col0\" >ASINTOMATICO</td>\n                        <td id=\"T_4d8ec0a6_fc38_11ea_8fa8_93c98c80411frow21_col1\" class=\"data row21 col1\" >NaT</td>\n                        <td id=\"T_4d8ec0a6_fc38_11ea_8fa8_93c98c80411frow21_col2\" class=\"data row21 col2\" >2020-07-18 00:00:00</td>\n                        <td id=\"T_4d8ec0a6_fc38_11ea_8fa8_93c98c80411frow21_col3\" class=\"data row21 col3\" >2020-07-28 00:00:00</td>\n                        <td id=\"T_4d8ec0a6_fc38_11ea_8fa8_93c98c80411frow21_col4\" class=\"data row21 col4\" >False</td>\n            </tr>\n            <tr>\n                        <th id=\"T_4d8ec0a6_fc38_11ea_8fa8_93c98c80411flevel0_row22\" class=\"row_heading level0 row22\" >194256</th>\n                        <td id=\"T_4d8ec0a6_fc38_11ea_8fa8_93c98c80411frow22_col0\" class=\"data row22 col0\" >ASINTOMATICO</td>\n                        <td id=\"T_4d8ec0a6_fc38_11ea_8fa8_93c98c80411frow22_col1\" class=\"data row22 col1\" >NaT</td>\n                        <td id=\"T_4d8ec0a6_fc38_11ea_8fa8_93c98c80411frow22_col2\" class=\"data row22 col2\" >2020-07-19 00:00:00</td>\n                        <td id=\"T_4d8ec0a6_fc38_11ea_8fa8_93c98c80411frow22_col3\" class=\"data row22 col3\" >2020-07-17 00:00:00</td>\n                        <td id=\"T_4d8ec0a6_fc38_11ea_8fa8_93c98c80411frow22_col4\" class=\"data row22 col4\" >True</td>\n            </tr>\n            <tr>\n                        <th id=\"T_4d8ec0a6_fc38_11ea_8fa8_93c98c80411flevel0_row23\" class=\"row_heading level0 row23\" >207086</th>\n                        <td id=\"T_4d8ec0a6_fc38_11ea_8fa8_93c98c80411frow23_col0\" class=\"data row23 col0\" >ASINTOMATICO</td>\n                        <td id=\"T_4d8ec0a6_fc38_11ea_8fa8_93c98c80411frow23_col1\" class=\"data row23 col1\" >NaT</td>\n                        <td id=\"T_4d8ec0a6_fc38_11ea_8fa8_93c98c80411frow23_col2\" class=\"data row23 col2\" >2020-07-20 00:00:00</td>\n                        <td id=\"T_4d8ec0a6_fc38_11ea_8fa8_93c98c80411frow23_col3\" class=\"data row23 col3\" >2020-08-03 00:00:00</td>\n                        <td id=\"T_4d8ec0a6_fc38_11ea_8fa8_93c98c80411frow23_col4\" class=\"data row23 col4\" >False</td>\n            </tr>\n            <tr>\n                        <th id=\"T_4d8ec0a6_fc38_11ea_8fa8_93c98c80411flevel0_row24\" class=\"row_heading level0 row24\" >215927</th>\n                        <td id=\"T_4d8ec0a6_fc38_11ea_8fa8_93c98c80411frow24_col0\" class=\"data row24 col0\" >ASINTOMATICO</td>\n                        <td id=\"T_4d8ec0a6_fc38_11ea_8fa8_93c98c80411frow24_col1\" class=\"data row24 col1\" >NaT</td>\n                        <td id=\"T_4d8ec0a6_fc38_11ea_8fa8_93c98c80411frow24_col2\" class=\"data row24 col2\" >2020-07-20 00:00:00</td>\n                        <td id=\"T_4d8ec0a6_fc38_11ea_8fa8_93c98c80411frow24_col3\" class=\"data row24 col3\" >2020-07-15 00:00:00</td>\n                        <td id=\"T_4d8ec0a6_fc38_11ea_8fa8_93c98c80411frow24_col4\" class=\"data row24 col4\" >True</td>\n            </tr>\n            <tr>\n                        <th id=\"T_4d8ec0a6_fc38_11ea_8fa8_93c98c80411flevel0_row25\" class=\"row_heading level0 row25\" >217066</th>\n                        <td id=\"T_4d8ec0a6_fc38_11ea_8fa8_93c98c80411frow25_col0\" class=\"data row25 col0\" >ASINTOMATICO</td>\n                        <td id=\"T_4d8ec0a6_fc38_11ea_8fa8_93c98c80411frow25_col1\" class=\"data row25 col1\" >NaT</td>\n                        <td id=\"T_4d8ec0a6_fc38_11ea_8fa8_93c98c80411frow25_col2\" class=\"data row25 col2\" >2020-07-21 00:00:00</td>\n                        <td id=\"T_4d8ec0a6_fc38_11ea_8fa8_93c98c80411frow25_col3\" class=\"data row25 col3\" >2020-08-06 00:00:00</td>\n                        <td id=\"T_4d8ec0a6_fc38_11ea_8fa8_93c98c80411frow25_col4\" class=\"data row25 col4\" >False</td>\n            </tr>\n            <tr>\n                        <th id=\"T_4d8ec0a6_fc38_11ea_8fa8_93c98c80411flevel0_row26\" class=\"row_heading level0 row26\" >222893</th>\n                        <td id=\"T_4d8ec0a6_fc38_11ea_8fa8_93c98c80411frow26_col0\" class=\"data row26 col0\" >ASINTOMATICO</td>\n                        <td id=\"T_4d8ec0a6_fc38_11ea_8fa8_93c98c80411frow26_col1\" class=\"data row26 col1\" >NaT</td>\n                        <td id=\"T_4d8ec0a6_fc38_11ea_8fa8_93c98c80411frow26_col2\" class=\"data row26 col2\" >2020-07-21 00:00:00</td>\n                        <td id=\"T_4d8ec0a6_fc38_11ea_8fa8_93c98c80411frow26_col3\" class=\"data row26 col3\" >2020-09-08 00:00:00</td>\n                        <td id=\"T_4d8ec0a6_fc38_11ea_8fa8_93c98c80411frow26_col4\" class=\"data row26 col4\" >False</td>\n            </tr>\n            <tr>\n                        <th id=\"T_4d8ec0a6_fc38_11ea_8fa8_93c98c80411flevel0_row27\" class=\"row_heading level0 row27\" >231003</th>\n                        <td id=\"T_4d8ec0a6_fc38_11ea_8fa8_93c98c80411frow27_col0\" class=\"data row27 col0\" >ASINTOMATICO</td>\n                        <td id=\"T_4d8ec0a6_fc38_11ea_8fa8_93c98c80411frow27_col1\" class=\"data row27 col1\" >NaT</td>\n                        <td id=\"T_4d8ec0a6_fc38_11ea_8fa8_93c98c80411frow27_col2\" class=\"data row27 col2\" >2020-07-23 00:00:00</td>\n                        <td id=\"T_4d8ec0a6_fc38_11ea_8fa8_93c98c80411frow27_col3\" class=\"data row27 col3\" >2020-09-03 00:00:00</td>\n                        <td id=\"T_4d8ec0a6_fc38_11ea_8fa8_93c98c80411frow27_col4\" class=\"data row27 col4\" >False</td>\n            </tr>\n            <tr>\n                        <th id=\"T_4d8ec0a6_fc38_11ea_8fa8_93c98c80411flevel0_row28\" class=\"row_heading level0 row28\" >244752</th>\n                        <td id=\"T_4d8ec0a6_fc38_11ea_8fa8_93c98c80411frow28_col0\" class=\"data row28 col0\" >ASINTOMATICO</td>\n                        <td id=\"T_4d8ec0a6_fc38_11ea_8fa8_93c98c80411frow28_col1\" class=\"data row28 col1\" >NaT</td>\n                        <td id=\"T_4d8ec0a6_fc38_11ea_8fa8_93c98c80411frow28_col2\" class=\"data row28 col2\" >2020-07-25 00:00:00</td>\n                        <td id=\"T_4d8ec0a6_fc38_11ea_8fa8_93c98c80411frow28_col3\" class=\"data row28 col3\" >2020-08-25 00:00:00</td>\n                        <td id=\"T_4d8ec0a6_fc38_11ea_8fa8_93c98c80411frow28_col4\" class=\"data row28 col4\" >False</td>\n            </tr>\n            <tr>\n                        <th id=\"T_4d8ec0a6_fc38_11ea_8fa8_93c98c80411flevel0_row29\" class=\"row_heading level0 row29\" >245264</th>\n                        <td id=\"T_4d8ec0a6_fc38_11ea_8fa8_93c98c80411frow29_col0\" class=\"data row29 col0\" >ASINTOMATICO</td>\n                        <td id=\"T_4d8ec0a6_fc38_11ea_8fa8_93c98c80411frow29_col1\" class=\"data row29 col1\" >NaT</td>\n                        <td id=\"T_4d8ec0a6_fc38_11ea_8fa8_93c98c80411frow29_col2\" class=\"data row29 col2\" >2020-07-24 00:00:00</td>\n                        <td id=\"T_4d8ec0a6_fc38_11ea_8fa8_93c98c80411frow29_col3\" class=\"data row29 col3\" >2020-08-09 00:00:00</td>\n                        <td id=\"T_4d8ec0a6_fc38_11ea_8fa8_93c98c80411frow29_col4\" class=\"data row29 col4\" >False</td>\n            </tr>\n            <tr>\n                        <th id=\"T_4d8ec0a6_fc38_11ea_8fa8_93c98c80411flevel0_row30\" class=\"row_heading level0 row30\" >247059</th>\n                        <td id=\"T_4d8ec0a6_fc38_11ea_8fa8_93c98c80411frow30_col0\" class=\"data row30 col0\" >ASINTOMATICO</td>\n                        <td id=\"T_4d8ec0a6_fc38_11ea_8fa8_93c98c80411frow30_col1\" class=\"data row30 col1\" >NaT</td>\n                        <td id=\"T_4d8ec0a6_fc38_11ea_8fa8_93c98c80411frow30_col2\" class=\"data row30 col2\" >2020-07-24 00:00:00</td>\n                        <td id=\"T_4d8ec0a6_fc38_11ea_8fa8_93c98c80411frow30_col3\" class=\"data row30 col3\" >2020-08-02 00:00:00</td>\n                        <td id=\"T_4d8ec0a6_fc38_11ea_8fa8_93c98c80411frow30_col4\" class=\"data row30 col4\" >False</td>\n            </tr>\n            <tr>\n                        <th id=\"T_4d8ec0a6_fc38_11ea_8fa8_93c98c80411flevel0_row31\" class=\"row_heading level0 row31\" >280174</th>\n                        <td id=\"T_4d8ec0a6_fc38_11ea_8fa8_93c98c80411frow31_col0\" class=\"data row31 col0\" >ASINTOMATICO</td>\n                        <td id=\"T_4d8ec0a6_fc38_11ea_8fa8_93c98c80411frow31_col1\" class=\"data row31 col1\" >NaT</td>\n                        <td id=\"T_4d8ec0a6_fc38_11ea_8fa8_93c98c80411frow31_col2\" class=\"data row31 col2\" >2020-07-25 00:00:00</td>\n                        <td id=\"T_4d8ec0a6_fc38_11ea_8fa8_93c98c80411frow31_col3\" class=\"data row31 col3\" >2020-08-18 00:00:00</td>\n                        <td id=\"T_4d8ec0a6_fc38_11ea_8fa8_93c98c80411frow31_col4\" class=\"data row31 col4\" >False</td>\n            </tr>\n            <tr>\n                        <th id=\"T_4d8ec0a6_fc38_11ea_8fa8_93c98c80411flevel0_row32\" class=\"row_heading level0 row32\" >303622</th>\n                        <td id=\"T_4d8ec0a6_fc38_11ea_8fa8_93c98c80411frow32_col0\" class=\"data row32 col0\" >ASINTOMATICO</td>\n                        <td id=\"T_4d8ec0a6_fc38_11ea_8fa8_93c98c80411frow32_col1\" class=\"data row32 col1\" >NaT</td>\n                        <td id=\"T_4d8ec0a6_fc38_11ea_8fa8_93c98c80411frow32_col2\" class=\"data row32 col2\" >2020-08-01 00:00:00</td>\n                        <td id=\"T_4d8ec0a6_fc38_11ea_8fa8_93c98c80411frow32_col3\" class=\"data row32 col3\" >2020-08-16 00:00:00</td>\n                        <td id=\"T_4d8ec0a6_fc38_11ea_8fa8_93c98c80411frow32_col4\" class=\"data row32 col4\" >False</td>\n            </tr>\n            <tr>\n                        <th id=\"T_4d8ec0a6_fc38_11ea_8fa8_93c98c80411flevel0_row33\" class=\"row_heading level0 row33\" >303931</th>\n                        <td id=\"T_4d8ec0a6_fc38_11ea_8fa8_93c98c80411frow33_col0\" class=\"data row33 col0\" >ASINTOMATICO</td>\n                        <td id=\"T_4d8ec0a6_fc38_11ea_8fa8_93c98c80411frow33_col1\" class=\"data row33 col1\" >NaT</td>\n                        <td id=\"T_4d8ec0a6_fc38_11ea_8fa8_93c98c80411frow33_col2\" class=\"data row33 col2\" >2020-08-01 00:00:00</td>\n                        <td id=\"T_4d8ec0a6_fc38_11ea_8fa8_93c98c80411frow33_col3\" class=\"data row33 col3\" >2020-08-01 00:00:00</td>\n                        <td id=\"T_4d8ec0a6_fc38_11ea_8fa8_93c98c80411frow33_col4\" class=\"data row33 col4\" >False</td>\n            </tr>\n            <tr>\n                        <th id=\"T_4d8ec0a6_fc38_11ea_8fa8_93c98c80411flevel0_row34\" class=\"row_heading level0 row34\" >316805</th>\n                        <td id=\"T_4d8ec0a6_fc38_11ea_8fa8_93c98c80411frow34_col0\" class=\"data row34 col0\" >ASINTOMATICO</td>\n                        <td id=\"T_4d8ec0a6_fc38_11ea_8fa8_93c98c80411frow34_col1\" class=\"data row34 col1\" >NaT</td>\n                        <td id=\"T_4d8ec0a6_fc38_11ea_8fa8_93c98c80411frow34_col2\" class=\"data row34 col2\" >2020-08-02 00:00:00</td>\n                        <td id=\"T_4d8ec0a6_fc38_11ea_8fa8_93c98c80411frow34_col3\" class=\"data row34 col3\" >2020-07-19 00:00:00</td>\n                        <td id=\"T_4d8ec0a6_fc38_11ea_8fa8_93c98c80411frow34_col4\" class=\"data row34 col4\" >True</td>\n            </tr>\n            <tr>\n                        <th id=\"T_4d8ec0a6_fc38_11ea_8fa8_93c98c80411flevel0_row35\" class=\"row_heading level0 row35\" >316868</th>\n                        <td id=\"T_4d8ec0a6_fc38_11ea_8fa8_93c98c80411frow35_col0\" class=\"data row35 col0\" >ASINTOMATICO</td>\n                        <td id=\"T_4d8ec0a6_fc38_11ea_8fa8_93c98c80411frow35_col1\" class=\"data row35 col1\" >NaT</td>\n                        <td id=\"T_4d8ec0a6_fc38_11ea_8fa8_93c98c80411frow35_col2\" class=\"data row35 col2\" >2020-08-02 00:00:00</td>\n                        <td id=\"T_4d8ec0a6_fc38_11ea_8fa8_93c98c80411frow35_col3\" class=\"data row35 col3\" >2020-08-01 00:00:00</td>\n                        <td id=\"T_4d8ec0a6_fc38_11ea_8fa8_93c98c80411frow35_col4\" class=\"data row35 col4\" >True</td>\n            </tr>\n            <tr>\n                        <th id=\"T_4d8ec0a6_fc38_11ea_8fa8_93c98c80411flevel0_row36\" class=\"row_heading level0 row36\" >317071</th>\n                        <td id=\"T_4d8ec0a6_fc38_11ea_8fa8_93c98c80411frow36_col0\" class=\"data row36 col0\" >ASINTOMATICO</td>\n                        <td id=\"T_4d8ec0a6_fc38_11ea_8fa8_93c98c80411frow36_col1\" class=\"data row36 col1\" >NaT</td>\n                        <td id=\"T_4d8ec0a6_fc38_11ea_8fa8_93c98c80411frow36_col2\" class=\"data row36 col2\" >2020-08-02 00:00:00</td>\n                        <td id=\"T_4d8ec0a6_fc38_11ea_8fa8_93c98c80411frow36_col3\" class=\"data row36 col3\" >2020-07-29 00:00:00</td>\n                        <td id=\"T_4d8ec0a6_fc38_11ea_8fa8_93c98c80411frow36_col4\" class=\"data row36 col4\" >True</td>\n            </tr>\n            <tr>\n                        <th id=\"T_4d8ec0a6_fc38_11ea_8fa8_93c98c80411flevel0_row37\" class=\"row_heading level0 row37\" >322404</th>\n                        <td id=\"T_4d8ec0a6_fc38_11ea_8fa8_93c98c80411frow37_col0\" class=\"data row37 col0\" >ASINTOMATICO</td>\n                        <td id=\"T_4d8ec0a6_fc38_11ea_8fa8_93c98c80411frow37_col1\" class=\"data row37 col1\" >NaT</td>\n                        <td id=\"T_4d8ec0a6_fc38_11ea_8fa8_93c98c80411frow37_col2\" class=\"data row37 col2\" >2020-08-01 00:00:00</td>\n                        <td id=\"T_4d8ec0a6_fc38_11ea_8fa8_93c98c80411frow37_col3\" class=\"data row37 col3\" >2020-07-31 00:00:00</td>\n                        <td id=\"T_4d8ec0a6_fc38_11ea_8fa8_93c98c80411frow37_col4\" class=\"data row37 col4\" >True</td>\n            </tr>\n            <tr>\n                        <th id=\"T_4d8ec0a6_fc38_11ea_8fa8_93c98c80411flevel0_row38\" class=\"row_heading level0 row38\" >333066</th>\n                        <td id=\"T_4d8ec0a6_fc38_11ea_8fa8_93c98c80411frow38_col0\" class=\"data row38 col0\" >ASINTOMATICO</td>\n                        <td id=\"T_4d8ec0a6_fc38_11ea_8fa8_93c98c80411frow38_col1\" class=\"data row38 col1\" >NaT</td>\n                        <td id=\"T_4d8ec0a6_fc38_11ea_8fa8_93c98c80411frow38_col2\" class=\"data row38 col2\" >2020-08-03 00:00:00</td>\n                        <td id=\"T_4d8ec0a6_fc38_11ea_8fa8_93c98c80411frow38_col3\" class=\"data row38 col3\" >2020-07-31 00:00:00</td>\n                        <td id=\"T_4d8ec0a6_fc38_11ea_8fa8_93c98c80411frow38_col4\" class=\"data row38 col4\" >True</td>\n            </tr>\n            <tr>\n                        <th id=\"T_4d8ec0a6_fc38_11ea_8fa8_93c98c80411flevel0_row39\" class=\"row_heading level0 row39\" >351848</th>\n                        <td id=\"T_4d8ec0a6_fc38_11ea_8fa8_93c98c80411frow39_col0\" class=\"data row39 col0\" >ASINTOMATICO</td>\n                        <td id=\"T_4d8ec0a6_fc38_11ea_8fa8_93c98c80411frow39_col1\" class=\"data row39 col1\" >NaT</td>\n                        <td id=\"T_4d8ec0a6_fc38_11ea_8fa8_93c98c80411frow39_col2\" class=\"data row39 col2\" >2020-08-04 00:00:00</td>\n                        <td id=\"T_4d8ec0a6_fc38_11ea_8fa8_93c98c80411frow39_col3\" class=\"data row39 col3\" >2020-08-17 00:00:00</td>\n                        <td id=\"T_4d8ec0a6_fc38_11ea_8fa8_93c98c80411frow39_col4\" class=\"data row39 col4\" >False</td>\n            </tr>\n            <tr>\n                        <th id=\"T_4d8ec0a6_fc38_11ea_8fa8_93c98c80411flevel0_row40\" class=\"row_heading level0 row40\" >352023</th>\n                        <td id=\"T_4d8ec0a6_fc38_11ea_8fa8_93c98c80411frow40_col0\" class=\"data row40 col0\" >ASINTOMATICO</td>\n                        <td id=\"T_4d8ec0a6_fc38_11ea_8fa8_93c98c80411frow40_col1\" class=\"data row40 col1\" >NaT</td>\n                        <td id=\"T_4d8ec0a6_fc38_11ea_8fa8_93c98c80411frow40_col2\" class=\"data row40 col2\" >2020-08-05 00:00:00</td>\n                        <td id=\"T_4d8ec0a6_fc38_11ea_8fa8_93c98c80411frow40_col3\" class=\"data row40 col3\" >2020-08-06 00:00:00</td>\n                        <td id=\"T_4d8ec0a6_fc38_11ea_8fa8_93c98c80411frow40_col4\" class=\"data row40 col4\" >False</td>\n            </tr>\n            <tr>\n                        <th id=\"T_4d8ec0a6_fc38_11ea_8fa8_93c98c80411flevel0_row41\" class=\"row_heading level0 row41\" >357092</th>\n                        <td id=\"T_4d8ec0a6_fc38_11ea_8fa8_93c98c80411frow41_col0\" class=\"data row41 col0\" >ASINTOMATICO</td>\n                        <td id=\"T_4d8ec0a6_fc38_11ea_8fa8_93c98c80411frow41_col1\" class=\"data row41 col1\" >NaT</td>\n                        <td id=\"T_4d8ec0a6_fc38_11ea_8fa8_93c98c80411frow41_col2\" class=\"data row41 col2\" >2020-08-03 00:00:00</td>\n                        <td id=\"T_4d8ec0a6_fc38_11ea_8fa8_93c98c80411frow41_col3\" class=\"data row41 col3\" >2020-08-24 00:00:00</td>\n                        <td id=\"T_4d8ec0a6_fc38_11ea_8fa8_93c98c80411frow41_col4\" class=\"data row41 col4\" >False</td>\n            </tr>\n            <tr>\n                        <th id=\"T_4d8ec0a6_fc38_11ea_8fa8_93c98c80411flevel0_row42\" class=\"row_heading level0 row42\" >357172</th>\n                        <td id=\"T_4d8ec0a6_fc38_11ea_8fa8_93c98c80411frow42_col0\" class=\"data row42 col0\" >ASINTOMATICO</td>\n                        <td id=\"T_4d8ec0a6_fc38_11ea_8fa8_93c98c80411frow42_col1\" class=\"data row42 col1\" >NaT</td>\n                        <td id=\"T_4d8ec0a6_fc38_11ea_8fa8_93c98c80411frow42_col2\" class=\"data row42 col2\" >2020-08-05 00:00:00</td>\n                        <td id=\"T_4d8ec0a6_fc38_11ea_8fa8_93c98c80411frow42_col3\" class=\"data row42 col3\" >2020-08-17 00:00:00</td>\n                        <td id=\"T_4d8ec0a6_fc38_11ea_8fa8_93c98c80411frow42_col4\" class=\"data row42 col4\" >False</td>\n            </tr>\n            <tr>\n                        <th id=\"T_4d8ec0a6_fc38_11ea_8fa8_93c98c80411flevel0_row43\" class=\"row_heading level0 row43\" >363581</th>\n                        <td id=\"T_4d8ec0a6_fc38_11ea_8fa8_93c98c80411frow43_col0\" class=\"data row43 col0\" >ASINTOMATICO</td>\n                        <td id=\"T_4d8ec0a6_fc38_11ea_8fa8_93c98c80411frow43_col1\" class=\"data row43 col1\" >NaT</td>\n                        <td id=\"T_4d8ec0a6_fc38_11ea_8fa8_93c98c80411frow43_col2\" class=\"data row43 col2\" >2020-08-06 00:00:00</td>\n                        <td id=\"T_4d8ec0a6_fc38_11ea_8fa8_93c98c80411frow43_col3\" class=\"data row43 col3\" >2020-08-20 00:00:00</td>\n                        <td id=\"T_4d8ec0a6_fc38_11ea_8fa8_93c98c80411frow43_col4\" class=\"data row43 col4\" >False</td>\n            </tr>\n            <tr>\n                        <th id=\"T_4d8ec0a6_fc38_11ea_8fa8_93c98c80411flevel0_row44\" class=\"row_heading level0 row44\" >364993</th>\n                        <td id=\"T_4d8ec0a6_fc38_11ea_8fa8_93c98c80411frow44_col0\" class=\"data row44 col0\" >ASINTOMATICO</td>\n                        <td id=\"T_4d8ec0a6_fc38_11ea_8fa8_93c98c80411frow44_col1\" class=\"data row44 col1\" >NaT</td>\n                        <td id=\"T_4d8ec0a6_fc38_11ea_8fa8_93c98c80411frow44_col2\" class=\"data row44 col2\" >2020-08-06 00:00:00</td>\n                        <td id=\"T_4d8ec0a6_fc38_11ea_8fa8_93c98c80411frow44_col3\" class=\"data row44 col3\" >2020-08-17 00:00:00</td>\n                        <td id=\"T_4d8ec0a6_fc38_11ea_8fa8_93c98c80411frow44_col4\" class=\"data row44 col4\" >False</td>\n            </tr>\n            <tr>\n                        <th id=\"T_4d8ec0a6_fc38_11ea_8fa8_93c98c80411flevel0_row45\" class=\"row_heading level0 row45\" >463146</th>\n                        <td id=\"T_4d8ec0a6_fc38_11ea_8fa8_93c98c80411frow45_col0\" class=\"data row45 col0\" >ASINTOMATICO</td>\n                        <td id=\"T_4d8ec0a6_fc38_11ea_8fa8_93c98c80411frow45_col1\" class=\"data row45 col1\" >NaT</td>\n                        <td id=\"T_4d8ec0a6_fc38_11ea_8fa8_93c98c80411frow45_col2\" class=\"data row45 col2\" >2020-08-16 00:00:00</td>\n                        <td id=\"T_4d8ec0a6_fc38_11ea_8fa8_93c98c80411frow45_col3\" class=\"data row45 col3\" >2020-09-09 00:00:00</td>\n                        <td id=\"T_4d8ec0a6_fc38_11ea_8fa8_93c98c80411frow45_col4\" class=\"data row45 col4\" >False</td>\n            </tr>\n            <tr>\n                        <th id=\"T_4d8ec0a6_fc38_11ea_8fa8_93c98c80411flevel0_row46\" class=\"row_heading level0 row46\" >484724</th>\n                        <td id=\"T_4d8ec0a6_fc38_11ea_8fa8_93c98c80411frow46_col0\" class=\"data row46 col0\" >ASINTOMATICO</td>\n                        <td id=\"T_4d8ec0a6_fc38_11ea_8fa8_93c98c80411frow46_col1\" class=\"data row46 col1\" >NaT</td>\n                        <td id=\"T_4d8ec0a6_fc38_11ea_8fa8_93c98c80411frow46_col2\" class=\"data row46 col2\" >2020-08-17 00:00:00</td>\n                        <td id=\"T_4d8ec0a6_fc38_11ea_8fa8_93c98c80411frow46_col3\" class=\"data row46 col3\" >2020-09-05 00:00:00</td>\n                        <td id=\"T_4d8ec0a6_fc38_11ea_8fa8_93c98c80411frow46_col4\" class=\"data row46 col4\" >False</td>\n            </tr>\n            <tr>\n                        <th id=\"T_4d8ec0a6_fc38_11ea_8fa8_93c98c80411flevel0_row47\" class=\"row_heading level0 row47\" >495706</th>\n                        <td id=\"T_4d8ec0a6_fc38_11ea_8fa8_93c98c80411frow47_col0\" class=\"data row47 col0\" >ASINTOMATICO</td>\n                        <td id=\"T_4d8ec0a6_fc38_11ea_8fa8_93c98c80411frow47_col1\" class=\"data row47 col1\" >NaT</td>\n                        <td id=\"T_4d8ec0a6_fc38_11ea_8fa8_93c98c80411frow47_col2\" class=\"data row47 col2\" >2020-08-19 00:00:00</td>\n                        <td id=\"T_4d8ec0a6_fc38_11ea_8fa8_93c98c80411frow47_col3\" class=\"data row47 col3\" >2020-08-14 00:00:00</td>\n                        <td id=\"T_4d8ec0a6_fc38_11ea_8fa8_93c98c80411frow47_col4\" class=\"data row47 col4\" >True</td>\n            </tr>\n            <tr>\n                        <th id=\"T_4d8ec0a6_fc38_11ea_8fa8_93c98c80411flevel0_row48\" class=\"row_heading level0 row48\" >496523</th>\n                        <td id=\"T_4d8ec0a6_fc38_11ea_8fa8_93c98c80411frow48_col0\" class=\"data row48 col0\" >ASINTOMATICO</td>\n                        <td id=\"T_4d8ec0a6_fc38_11ea_8fa8_93c98c80411frow48_col1\" class=\"data row48 col1\" >NaT</td>\n                        <td id=\"T_4d8ec0a6_fc38_11ea_8fa8_93c98c80411frow48_col2\" class=\"data row48 col2\" >2020-08-19 00:00:00</td>\n                        <td id=\"T_4d8ec0a6_fc38_11ea_8fa8_93c98c80411frow48_col3\" class=\"data row48 col3\" >2020-08-23 00:00:00</td>\n                        <td id=\"T_4d8ec0a6_fc38_11ea_8fa8_93c98c80411frow48_col4\" class=\"data row48 col4\" >False</td>\n            </tr>\n            <tr>\n                        <th id=\"T_4d8ec0a6_fc38_11ea_8fa8_93c98c80411flevel0_row49\" class=\"row_heading level0 row49\" >496928</th>\n                        <td id=\"T_4d8ec0a6_fc38_11ea_8fa8_93c98c80411frow49_col0\" class=\"data row49 col0\" >ASINTOMATICO</td>\n                        <td id=\"T_4d8ec0a6_fc38_11ea_8fa8_93c98c80411frow49_col1\" class=\"data row49 col1\" >NaT</td>\n                        <td id=\"T_4d8ec0a6_fc38_11ea_8fa8_93c98c80411frow49_col2\" class=\"data row49 col2\" >2020-08-19 00:00:00</td>\n                        <td id=\"T_4d8ec0a6_fc38_11ea_8fa8_93c98c80411frow49_col3\" class=\"data row49 col3\" >2020-08-26 00:00:00</td>\n                        <td id=\"T_4d8ec0a6_fc38_11ea_8fa8_93c98c80411frow49_col4\" class=\"data row49 col4\" >False</td>\n            </tr>\n            <tr>\n                        <th id=\"T_4d8ec0a6_fc38_11ea_8fa8_93c98c80411flevel0_row50\" class=\"row_heading level0 row50\" >499322</th>\n                        <td id=\"T_4d8ec0a6_fc38_11ea_8fa8_93c98c80411frow50_col0\" class=\"data row50 col0\" >ASINTOMATICO</td>\n                        <td id=\"T_4d8ec0a6_fc38_11ea_8fa8_93c98c80411frow50_col1\" class=\"data row50 col1\" >NaT</td>\n                        <td id=\"T_4d8ec0a6_fc38_11ea_8fa8_93c98c80411frow50_col2\" class=\"data row50 col2\" >2020-08-19 00:00:00</td>\n                        <td id=\"T_4d8ec0a6_fc38_11ea_8fa8_93c98c80411frow50_col3\" class=\"data row50 col3\" >2020-09-03 00:00:00</td>\n                        <td id=\"T_4d8ec0a6_fc38_11ea_8fa8_93c98c80411frow50_col4\" class=\"data row50 col4\" >False</td>\n            </tr>\n            <tr>\n                        <th id=\"T_4d8ec0a6_fc38_11ea_8fa8_93c98c80411flevel0_row51\" class=\"row_heading level0 row51\" >509239</th>\n                        <td id=\"T_4d8ec0a6_fc38_11ea_8fa8_93c98c80411frow51_col0\" class=\"data row51 col0\" >ASINTOMATICO</td>\n                        <td id=\"T_4d8ec0a6_fc38_11ea_8fa8_93c98c80411frow51_col1\" class=\"data row51 col1\" >NaT</td>\n                        <td id=\"T_4d8ec0a6_fc38_11ea_8fa8_93c98c80411frow51_col2\" class=\"data row51 col2\" >2020-08-19 00:00:00</td>\n                        <td id=\"T_4d8ec0a6_fc38_11ea_8fa8_93c98c80411frow51_col3\" class=\"data row51 col3\" >2020-08-17 00:00:00</td>\n                        <td id=\"T_4d8ec0a6_fc38_11ea_8fa8_93c98c80411frow51_col4\" class=\"data row51 col4\" >True</td>\n            </tr>\n            <tr>\n                        <th id=\"T_4d8ec0a6_fc38_11ea_8fa8_93c98c80411flevel0_row52\" class=\"row_heading level0 row52\" >511467</th>\n                        <td id=\"T_4d8ec0a6_fc38_11ea_8fa8_93c98c80411frow52_col0\" class=\"data row52 col0\" >ASINTOMATICO</td>\n                        <td id=\"T_4d8ec0a6_fc38_11ea_8fa8_93c98c80411frow52_col1\" class=\"data row52 col1\" >NaT</td>\n                        <td id=\"T_4d8ec0a6_fc38_11ea_8fa8_93c98c80411frow52_col2\" class=\"data row52 col2\" >2020-08-19 00:00:00</td>\n                        <td id=\"T_4d8ec0a6_fc38_11ea_8fa8_93c98c80411frow52_col3\" class=\"data row52 col3\" >2020-08-22 00:00:00</td>\n                        <td id=\"T_4d8ec0a6_fc38_11ea_8fa8_93c98c80411frow52_col4\" class=\"data row52 col4\" >False</td>\n            </tr>\n            <tr>\n                        <th id=\"T_4d8ec0a6_fc38_11ea_8fa8_93c98c80411flevel0_row53\" class=\"row_heading level0 row53\" >521218</th>\n                        <td id=\"T_4d8ec0a6_fc38_11ea_8fa8_93c98c80411frow53_col0\" class=\"data row53 col0\" >ASINTOMATICO</td>\n                        <td id=\"T_4d8ec0a6_fc38_11ea_8fa8_93c98c80411frow53_col1\" class=\"data row53 col1\" >NaT</td>\n                        <td id=\"T_4d8ec0a6_fc38_11ea_8fa8_93c98c80411frow53_col2\" class=\"data row53 col2\" >2020-08-20 00:00:00</td>\n                        <td id=\"T_4d8ec0a6_fc38_11ea_8fa8_93c98c80411frow53_col3\" class=\"data row53 col3\" >2020-09-05 00:00:00</td>\n                        <td id=\"T_4d8ec0a6_fc38_11ea_8fa8_93c98c80411frow53_col4\" class=\"data row53 col4\" >False</td>\n            </tr>\n            <tr>\n                        <th id=\"T_4d8ec0a6_fc38_11ea_8fa8_93c98c80411flevel0_row54\" class=\"row_heading level0 row54\" >558047</th>\n                        <td id=\"T_4d8ec0a6_fc38_11ea_8fa8_93c98c80411frow54_col0\" class=\"data row54 col0\" >ASINTOMATICO</td>\n                        <td id=\"T_4d8ec0a6_fc38_11ea_8fa8_93c98c80411frow54_col1\" class=\"data row54 col1\" >NaT</td>\n                        <td id=\"T_4d8ec0a6_fc38_11ea_8fa8_93c98c80411frow54_col2\" class=\"data row54 col2\" >2020-08-24 00:00:00</td>\n                        <td id=\"T_4d8ec0a6_fc38_11ea_8fa8_93c98c80411frow54_col3\" class=\"data row54 col3\" >2020-08-23 00:00:00</td>\n                        <td id=\"T_4d8ec0a6_fc38_11ea_8fa8_93c98c80411frow54_col4\" class=\"data row54 col4\" >True</td>\n            </tr>\n            <tr>\n                        <th id=\"T_4d8ec0a6_fc38_11ea_8fa8_93c98c80411flevel0_row55\" class=\"row_heading level0 row55\" >567497</th>\n                        <td id=\"T_4d8ec0a6_fc38_11ea_8fa8_93c98c80411frow55_col0\" class=\"data row55 col0\" >ASINTOMATICO</td>\n                        <td id=\"T_4d8ec0a6_fc38_11ea_8fa8_93c98c80411frow55_col1\" class=\"data row55 col1\" >NaT</td>\n                        <td id=\"T_4d8ec0a6_fc38_11ea_8fa8_93c98c80411frow55_col2\" class=\"data row55 col2\" >2020-08-24 00:00:00</td>\n                        <td id=\"T_4d8ec0a6_fc38_11ea_8fa8_93c98c80411frow55_col3\" class=\"data row55 col3\" >2020-08-24 00:00:00</td>\n                        <td id=\"T_4d8ec0a6_fc38_11ea_8fa8_93c98c80411frow55_col4\" class=\"data row55 col4\" >False</td>\n            </tr>\n            <tr>\n                        <th id=\"T_4d8ec0a6_fc38_11ea_8fa8_93c98c80411flevel0_row56\" class=\"row_heading level0 row56\" >567533</th>\n                        <td id=\"T_4d8ec0a6_fc38_11ea_8fa8_93c98c80411frow56_col0\" class=\"data row56 col0\" >ASINTOMATICO</td>\n                        <td id=\"T_4d8ec0a6_fc38_11ea_8fa8_93c98c80411frow56_col1\" class=\"data row56 col1\" >NaT</td>\n                        <td id=\"T_4d8ec0a6_fc38_11ea_8fa8_93c98c80411frow56_col2\" class=\"data row56 col2\" >2020-08-25 00:00:00</td>\n                        <td id=\"T_4d8ec0a6_fc38_11ea_8fa8_93c98c80411frow56_col3\" class=\"data row56 col3\" >2020-09-04 00:00:00</td>\n                        <td id=\"T_4d8ec0a6_fc38_11ea_8fa8_93c98c80411frow56_col4\" class=\"data row56 col4\" >False</td>\n            </tr>\n            <tr>\n                        <th id=\"T_4d8ec0a6_fc38_11ea_8fa8_93c98c80411flevel0_row57\" class=\"row_heading level0 row57\" >567934</th>\n                        <td id=\"T_4d8ec0a6_fc38_11ea_8fa8_93c98c80411frow57_col0\" class=\"data row57 col0\" >ASINTOMATICO</td>\n                        <td id=\"T_4d8ec0a6_fc38_11ea_8fa8_93c98c80411frow57_col1\" class=\"data row57 col1\" >NaT</td>\n                        <td id=\"T_4d8ec0a6_fc38_11ea_8fa8_93c98c80411frow57_col2\" class=\"data row57 col2\" >2020-08-25 00:00:00</td>\n                        <td id=\"T_4d8ec0a6_fc38_11ea_8fa8_93c98c80411frow57_col3\" class=\"data row57 col3\" >2020-09-02 00:00:00</td>\n                        <td id=\"T_4d8ec0a6_fc38_11ea_8fa8_93c98c80411frow57_col4\" class=\"data row57 col4\" >False</td>\n            </tr>\n            <tr>\n                        <th id=\"T_4d8ec0a6_fc38_11ea_8fa8_93c98c80411flevel0_row58\" class=\"row_heading level0 row58\" >580081</th>\n                        <td id=\"T_4d8ec0a6_fc38_11ea_8fa8_93c98c80411frow58_col0\" class=\"data row58 col0\" >ASINTOMATICO</td>\n                        <td id=\"T_4d8ec0a6_fc38_11ea_8fa8_93c98c80411frow58_col1\" class=\"data row58 col1\" >NaT</td>\n                        <td id=\"T_4d8ec0a6_fc38_11ea_8fa8_93c98c80411frow58_col2\" class=\"data row58 col2\" >2020-07-24 00:00:00</td>\n                        <td id=\"T_4d8ec0a6_fc38_11ea_8fa8_93c98c80411frow58_col3\" class=\"data row58 col3\" >2020-09-07 00:00:00</td>\n                        <td id=\"T_4d8ec0a6_fc38_11ea_8fa8_93c98c80411frow58_col4\" class=\"data row58 col4\" >False</td>\n            </tr>\n            <tr>\n                        <th id=\"T_4d8ec0a6_fc38_11ea_8fa8_93c98c80411flevel0_row59\" class=\"row_heading level0 row59\" >607409</th>\n                        <td id=\"T_4d8ec0a6_fc38_11ea_8fa8_93c98c80411frow59_col0\" class=\"data row59 col0\" >ASINTOMATICO</td>\n                        <td id=\"T_4d8ec0a6_fc38_11ea_8fa8_93c98c80411frow59_col1\" class=\"data row59 col1\" >NaT</td>\n                        <td id=\"T_4d8ec0a6_fc38_11ea_8fa8_93c98c80411frow59_col2\" class=\"data row59 col2\" >2020-08-28 00:00:00</td>\n                        <td id=\"T_4d8ec0a6_fc38_11ea_8fa8_93c98c80411frow59_col3\" class=\"data row59 col3\" >2020-08-30 00:00:00</td>\n                        <td id=\"T_4d8ec0a6_fc38_11ea_8fa8_93c98c80411frow59_col4\" class=\"data row59 col4\" >False</td>\n            </tr>\n            <tr>\n                        <th id=\"T_4d8ec0a6_fc38_11ea_8fa8_93c98c80411flevel0_row60\" class=\"row_heading level0 row60\" >613144</th>\n                        <td id=\"T_4d8ec0a6_fc38_11ea_8fa8_93c98c80411frow60_col0\" class=\"data row60 col0\" >ASINTOMATICO</td>\n                        <td id=\"T_4d8ec0a6_fc38_11ea_8fa8_93c98c80411frow60_col1\" class=\"data row60 col1\" >NaT</td>\n                        <td id=\"T_4d8ec0a6_fc38_11ea_8fa8_93c98c80411frow60_col2\" class=\"data row60 col2\" >2020-08-30 00:00:00</td>\n                        <td id=\"T_4d8ec0a6_fc38_11ea_8fa8_93c98c80411frow60_col3\" class=\"data row60 col3\" >2020-09-07 00:00:00</td>\n                        <td id=\"T_4d8ec0a6_fc38_11ea_8fa8_93c98c80411frow60_col4\" class=\"data row60 col4\" >False</td>\n            </tr>\n            <tr>\n                        <th id=\"T_4d8ec0a6_fc38_11ea_8fa8_93c98c80411flevel0_row61\" class=\"row_heading level0 row61\" >630684</th>\n                        <td id=\"T_4d8ec0a6_fc38_11ea_8fa8_93c98c80411frow61_col0\" class=\"data row61 col0\" >ASINTOMATICO</td>\n                        <td id=\"T_4d8ec0a6_fc38_11ea_8fa8_93c98c80411frow61_col1\" class=\"data row61 col1\" >NaT</td>\n                        <td id=\"T_4d8ec0a6_fc38_11ea_8fa8_93c98c80411frow61_col2\" class=\"data row61 col2\" >2020-09-01 00:00:00</td>\n                        <td id=\"T_4d8ec0a6_fc38_11ea_8fa8_93c98c80411frow61_col3\" class=\"data row61 col3\" >2020-09-07 00:00:00</td>\n                        <td id=\"T_4d8ec0a6_fc38_11ea_8fa8_93c98c80411frow61_col4\" class=\"data row61 col4\" >False</td>\n            </tr>\n            <tr>\n                        <th id=\"T_4d8ec0a6_fc38_11ea_8fa8_93c98c80411flevel0_row62\" class=\"row_heading level0 row62\" >632663</th>\n                        <td id=\"T_4d8ec0a6_fc38_11ea_8fa8_93c98c80411frow62_col0\" class=\"data row62 col0\" >ASINTOMATICO</td>\n                        <td id=\"T_4d8ec0a6_fc38_11ea_8fa8_93c98c80411frow62_col1\" class=\"data row62 col1\" >NaT</td>\n                        <td id=\"T_4d8ec0a6_fc38_11ea_8fa8_93c98c80411frow62_col2\" class=\"data row62 col2\" >2020-08-31 00:00:00</td>\n                        <td id=\"T_4d8ec0a6_fc38_11ea_8fa8_93c98c80411frow62_col3\" class=\"data row62 col3\" >2020-09-12 00:00:00</td>\n                        <td id=\"T_4d8ec0a6_fc38_11ea_8fa8_93c98c80411frow62_col4\" class=\"data row62 col4\" >False</td>\n            </tr>\n            <tr>\n                        <th id=\"T_4d8ec0a6_fc38_11ea_8fa8_93c98c80411flevel0_row63\" class=\"row_heading level0 row63\" >647851</th>\n                        <td id=\"T_4d8ec0a6_fc38_11ea_8fa8_93c98c80411frow63_col0\" class=\"data row63 col0\" >ASINTOMATICO</td>\n                        <td id=\"T_4d8ec0a6_fc38_11ea_8fa8_93c98c80411frow63_col1\" class=\"data row63 col1\" >NaT</td>\n                        <td id=\"T_4d8ec0a6_fc38_11ea_8fa8_93c98c80411frow63_col2\" class=\"data row63 col2\" >2020-09-02 00:00:00</td>\n                        <td id=\"T_4d8ec0a6_fc38_11ea_8fa8_93c98c80411frow63_col3\" class=\"data row63 col3\" >2020-09-03 00:00:00</td>\n                        <td id=\"T_4d8ec0a6_fc38_11ea_8fa8_93c98c80411frow63_col4\" class=\"data row63 col4\" >False</td>\n            </tr>\n    </tbody></table>"
     },
     "metadata": {},
     "execution_count": 97
    }
   ],
   "source": [
    "temp2[['ESTADO','FECHA RECUPERADO','FECHA DIAGNOSTICO','FECHA DE MUERTE','M<D']].style.apply(highlight_max)"
   ]
  },
  {
   "cell_type": "markdown",
   "metadata": {},
   "source": [
    "In fact, the highlighted values shows the people that died before diagnosed with COVID"
   ]
  },
  {
   "cell_type": "code",
   "execution_count": 98,
   "metadata": {
    "tags": []
   },
   "outputs": [
    {
     "output_type": "stream",
     "name": "stdout",
     "text": "We have 64 \"ASINTOMATICO\" people that have dates of Fecha de dianostico and fecha de muerte\n"
    }
   ],
   "source": [
    "print('We have {} \"ASINTOMATICO\" people that have dates of Fecha de dianostico and fecha de muerte'.format(len(temp2)))"
   ]
  },
  {
   "cell_type": "markdown",
   "metadata": {},
   "source": [
    "Last check,we must not have values for Tipo de recuperacion when there is a date Fecha de muerte"
   ]
  },
  {
   "cell_type": "code",
   "execution_count": 101,
   "metadata": {},
   "outputs": [
    {
     "output_type": "execute_result",
     "data": {
      "text/plain": "array(['NO INFO'], dtype=object)"
     },
     "metadata": {},
     "execution_count": 101
    }
   ],
   "source": [
    "df[pd.notnull(df['FECHA DE MUERTE'])]['TIPO RECUPERACIÓN'].unique()"
   ]
  },
  {
   "cell_type": "markdown",
   "metadata": {},
   "source": [
    "* Division politica administrativa DIVIPOLA\n",
    "* FECHA Inicio sintomas FIS"
   ]
  },
  {
   "cell_type": "code",
   "execution_count": 104,
   "metadata": {},
   "outputs": [],
   "source": [
    "df.to_pickle('pre_cleaned_dataset.pkl')"
   ]
  },
  {
   "cell_type": "markdown",
   "metadata": {},
   "source": [
    "---------------------------------"
   ]
  },
  {
   "cell_type": "markdown",
   "metadata": {},
   "source": [
    "###  Vamos a ver los casos activos por cada municipio, para ello iimportamos la polacion que el DANE proporciona"
   ]
  },
  {
   "cell_type": "code",
   "execution_count": null,
   "metadata": {},
   "outputs": [],
   "source": [
    "df2=pd.read_excel('Datos municipios 2020.xlsx')\n",
    "df2.head()"
   ]
  },
  {
   "cell_type": "code",
   "execution_count": null,
   "metadata": {},
   "outputs": [],
   "source": [
    "#droping duplicate columns\n",
    "df2.drop(columns=['Departamento','Nombre_Departamento','Misión_Rural'],inplace=True)"
   ]
  },
  {
   "cell_type": "markdown",
   "metadata": {},
   "source": [
    "Cambiamos el nombre de Municipio a cod DIVIPOLA y 2020 a Población"
   ]
  },
  {
   "cell_type": "code",
   "execution_count": null,
   "metadata": {},
   "outputs": [],
   "source": [
    "df2.rename(columns={'Municipio':'Código DIVIPOLA',2020:'Población'},inplace=True)"
   ]
  },
  {
   "cell_type": "markdown",
   "metadata": {},
   "source": [
    "##### hicimos un merge tipo left de los dos dataframes"
   ]
  },
  {
   "cell_type": "code",
   "execution_count": null,
   "metadata": {},
   "outputs": [],
   "source": [
    "mergedf=pd.merge(df,df2,how='left',on='Código DIVIPOLA')\n",
    "mergedf.head()"
   ]
  },
  {
   "cell_type": "code",
   "execution_count": null,
   "metadata": {},
   "outputs": [],
   "source": [
    "mergedf.atención.unique()"
   ]
  },
  {
   "cell_type": "code",
   "execution_count": null,
   "metadata": {
    "scrolled": true
   },
   "outputs": [],
   "source": [
    "#looking the atention values different than Fallecido, Recuperado and nan, the resulting df (temp_m1) contains only active cases\n",
    "temp_m1=mergedf[~mergedf['atención'].isin(['Fallecido','Recuperado','NO INFO'])]#np.nan])]\n",
    "temp_m1.tail()"
   ]
  },
  {
   "cell_type": "code",
   "execution_count": null,
   "metadata": {},
   "outputs": [],
   "source": []
  },
  {
   "cell_type": "code",
   "execution_count": null,
   "metadata": {
    "tags": []
   },
   "outputs": [],
   "source": [
    "#grouping active COVID cases\n",
    "casos_activos=temp_m1.groupby('Código DIVIPOLA')['ID de caso'].count().reset_index(name='total_casos_activos')\n",
    "print(type(casos_activos))\n",
    "casos_activos"
   ]
  },
  {
   "cell_type": "code",
   "execution_count": null,
   "metadata": {},
   "outputs": [],
   "source": [
    "#Merged casos_activos with df2\n",
    "casos_activos_poblacion=casos_activos.merge(df2,how='left', on='Código DIVIPOLA').rename(columns={2020:'poblacion'})\n",
    "casos_activos_poblacion"
   ]
  },
  {
   "cell_type": "code",
   "execution_count": null,
   "metadata": {},
   "outputs": [],
   "source": [
    "casos_activos_poblacion[casos_activos_poblacion['Nombre_Municipio']=='Chía']"
   ]
  },
  {
   "cell_type": "code",
   "execution_count": null,
   "metadata": {},
   "outputs": [],
   "source": [
    "#Casos activos millon de habitantes\n",
    "casos_activos_poblacion['casosxmillon']=1000000*casos_activos_poblacion['total_casos_activos']/casos_activos_poblacion['Población'] \n",
    "\n",
    "#sorting by casos por millon (casosxmillon)\n",
    "casos_activos_poblacion.sort_values(by=['casosxmillon'],ascending=False,inplace=True)\n",
    "\n",
    "casos_activos_poblacion"
   ]
  },
  {
   "cell_type": "code",
   "execution_count": null,
   "metadata": {},
   "outputs": [],
   "source": [
    "casos_activos_poblacion.to_excel('tabla.xlsx')"
   ]
  },
  {
   "cell_type": "code",
   "execution_count": null,
   "metadata": {
    "scrolled": false
   },
   "outputs": [],
   "source": [
    "#casos_activos_poblacion['casosxmillon'].sort_values(ascending=False).head(10).plot(kind='bar')\n",
    "casos_activos_poblacion.sort_values(by='casosxmillon',ascending=False).head(10).plot(x='Nombre_Municipio',y='casosxmillon',kind='bar')"
   ]
  },
  {
   "cell_type": "code",
   "execution_count": null,
   "metadata": {},
   "outputs": [],
   "source": [
    "casos_activos_poblacion.groupby('Clima')['casosxmillon'].sum().reset_index()"
   ]
  },
  {
   "cell_type": "markdown",
   "metadata": {},
   "source": [
    "---------------------"
   ]
  },
  {
   "cell_type": "markdown",
   "metadata": {},
   "source": [
    "### Geo locations of Colombia"
   ]
  },
  {
   "cell_type": "code",
   "execution_count": null,
   "metadata": {},
   "outputs": [],
   "source": [
    "geo=pd.read_csv('geo_municipios.csv')\n",
    "geo.head(3)"
   ]
  },
  {
   "cell_type": "code",
   "execution_count": null,
   "metadata": {},
   "outputs": [],
   "source": [
    "#adding values to latitud \n",
    "geo.latitud=geo.nombre_tipo_ctro_pbdo"
   ]
  },
  {
   "cell_type": "code",
   "execution_count": null,
   "metadata": {},
   "outputs": [],
   "source": [
    "#removing the index because we have dupplicated index\n",
    "geo.reset_index(drop=True,inplace=True)"
   ]
  },
  {
   "cell_type": "code",
   "execution_count": null,
   "metadata": {},
   "outputs": [],
   "source": [
    "geo[geo['codigo_departamento']==99773]"
   ]
  },
  {
   "cell_type": "markdown",
   "metadata": {},
   "source": [
    "Notice we have different names for nombre_departamento and nombre_municipio, we're only interested on those who match"
   ]
  },
  {
   "cell_type": "code",
   "execution_count": null,
   "metadata": {
    "tags": []
   },
   "outputs": [],
   "source": [
    "# #looking for the index that match on 'nombre_departamento' and'nombre_municipio'\n",
    "# geo_idx=[]\n",
    "# for nombre in geo.index:\n",
    "#     if geo['nombre_departamento'][nombre]==geo['nombre_municipio'][nombre]:\n",
    "#         geo_idx.append(nombre)\n",
    "\n",
    "print(geo[geo['nombre_centro_poblado']=='CABECERA MUNICIPAL'].isnull().any())\n",
    "geo[geo['nombre_centro_poblado']=='CABECERA MUNICIPAL']"
   ]
  },
  {
   "cell_type": "code",
   "execution_count": null,
   "metadata": {},
   "outputs": [],
   "source": [
    "geo[geo['nombre_centro_poblado']=='CABECERA MUNICIPAL']['codigo_departamento'].value_counts().unique()"
   ]
  },
  {
   "cell_type": "code",
   "execution_count": null,
   "metadata": {},
   "outputs": [],
   "source": [
    "#Updating geo DataFrame\n",
    "geo_idx=geo[geo['nombre_centro_poblado']=='CABECERA MUNICIPAL'].index\n",
    "geo=geo.loc[geo_idx]"
   ]
  },
  {
   "cell_type": "code",
   "execution_count": null,
   "metadata": {},
   "outputs": [],
   "source": [
    "#Renaming codigo_departamento to Código DIVIPOLA, for future merge with casos_activos_poblacion DataFrame\n",
    "geo.rename(columns={'codigo_departamento':'Código DIVIPOLA'}, inplace=True)"
   ]
  },
  {
   "cell_type": "code",
   "execution_count": null,
   "metadata": {},
   "outputs": [],
   "source": [
    "#We are keeping codigo_departamento(Código DIVIPOLA) nombre_departamento longitud and latitud\n",
    "geo=geo[['Código DIVIPOLA','nombre_departamento', 'longitud', 'latitud']]\n",
    "geo.head()"
   ]
  },
  {
   "cell_type": "code",
   "execution_count": null,
   "metadata": {},
   "outputs": [],
   "source": [
    "geo.isnull().any()"
   ]
  },
  {
   "cell_type": "code",
   "execution_count": null,
   "metadata": {},
   "outputs": [],
   "source": [
    "geo[geo['Código DIVIPOLA']==11001]"
   ]
  },
  {
   "cell_type": "markdown",
   "metadata": {},
   "source": [
    "Merging geo with casos_activos_poblacion"
   ]
  },
  {
   "cell_type": "code",
   "execution_count": null,
   "metadata": {},
   "outputs": [],
   "source": [
    "geo_casos_activos=casos_activos_poblacion.merge(geo,how='left',on='Código DIVIPOLA')\n",
    "geo_casos_activos.head()"
   ]
  },
  {
   "cell_type": "code",
   "execution_count": null,
   "metadata": {},
   "outputs": [],
   "source": [
    "geo_casos_activos.isnull().any()"
   ]
  },
  {
   "cell_type": "code",
   "execution_count": null,
   "metadata": {},
   "outputs": [],
   "source": [
    "temp=geo_casos_activos[(geo_casos_activos['longitud'].isnull())|(geo_casos_activos['latitud'].isnull())]\n",
    "\n",
    "temp"
   ]
  },
  {
   "cell_type": "code",
   "execution_count": null,
   "metadata": {
    "tags": []
   },
   "outputs": [],
   "source": [
    "print('We have {} values without longitud or latitud'.format(len(temp)))"
   ]
  },
  {
   "cell_type": "code",
   "execution_count": null,
   "metadata": {},
   "outputs": [],
   "source": [
    "temp['Nombre_Municipio'].unique()\n",
    "#Create a DataFrame that contains "
   ]
  },
  {
   "cell_type": "code",
   "execution_count": null,
   "metadata": {
    "tags": []
   },
   "outputs": [],
   "source": [
    "geo_casos_activos['nombre_departamento']=geo_casos_activos['Nombre_Municipio'].progress_apply(lambda x: x.upper()+' COLOMBIA')"
   ]
  },
  {
   "cell_type": "code",
   "execution_count": null,
   "metadata": {
    "tags": []
   },
   "outputs": [],
   "source": [
    "#Testing adding latitude and logitude if there is a nan in those columns\n",
    "\n",
    "#uncomment for check example\n",
    "# print(geolocator.geocode(\"Barranquilla Colombia\")[1])\n",
    "# (geolocator.geocode(\"Barranquilla Colombia\").latitude,geolocator.geocode(\"Bogotá Colombia\").longitude)\n",
    "\n",
    "# uncomment for look in the DataFrame\n",
    "# geo_casos_activos.progress_apply(lambda x: (geolocator.geocode(x.nombre_departamento))[1] if (pd.isna(x.longitud))|(pd.isna(x.latitud)) else (x.longitud,x.latitud),axis=1)\n",
    "\n",
    "geo_casos_activos['latitud2']=geo_casos_activos.progress_apply(lambda x: (geolocator.geocode(x.nombre_departamento)).latitude if (pd.isna(x.longitud)) else x.longitud, axis=1)\n",
    "geo_casos_activos['longitud2']=geo_casos_activos.progress_apply(lambda x: (geolocator.geocode(x.nombre_departamento)).longitude if (pd.isna(x.latitud)) else x.latitud, axis=1)"
   ]
  },
  {
   "cell_type": "code",
   "execution_count": null,
   "metadata": {
    "tags": []
   },
   "outputs": [],
   "source": [
    "geo_casos_activos"
   ]
  },
  {
   "cell_type": "code",
   "execution_count": null,
   "metadata": {},
   "outputs": [],
   "source": [
    "geo_casos_activos['Nombre_Municipio'].isnull().any()"
   ]
  },
  {
   "cell_type": "markdown",
   "metadata": {},
   "source": [
    "Aternate aproaches to look for the longitude and latitude"
   ]
  },
  {
   "cell_type": "code",
   "execution_count": null,
   "metadata": {
    "tags": []
   },
   "outputs": [],
   "source": [
    "#geo_casos_activos['latitud2']=geo_casos_activos['nombre_departamento'].progress_apply(lambda x: geolocator.geocode(x).latitude if geolocator.geocode(x) != None else 'NF')\n",
    "#geo_casos_activos['longitud2']=geo_casos_activos['nombre_departamento'].progress_apply(lambda x: geolocator.geocode(x).longitude if geolocator.geocode(x) != None else 'NF')\n",
    "\n",
    "#geo_casos_activos[geo_casos_activos['latitud2']=='NF']"
   ]
  },
  {
   "cell_type": "code",
   "execution_count": null,
   "metadata": {},
   "outputs": [],
   "source": [
    "# a=np.where((geo_casos_activos.longitud.isna())|(geo_casos_activos.latitud.isna()),geo_casos_activos.Nombre_Municipio,(geo_casos_activos.longitud,geo_casos_activos.latitud))\n",
    "# pd.DataFrame(a)"
   ]
  },
  {
   "cell_type": "markdown",
   "metadata": {},
   "source": [
    "---------------------------"
   ]
  },
  {
   "cell_type": "markdown",
   "metadata": {},
   "source": [
    "### Ploting on map"
   ]
  },
  {
   "cell_type": "code",
   "execution_count": null,
   "metadata": {},
   "outputs": [],
   "source": [
    "geo_casos_activos.plot(kind=\"scatter\", x=\"latitud2\", y=\"longitud2\")"
   ]
  },
  {
   "cell_type": "code",
   "execution_count": null,
   "metadata": {},
   "outputs": [],
   "source": [
    "# c is the attribute we'll map onto colors, s is the attribute we'll represent with circle size.\n",
    "geo_casos_activos.plot(kind=\"scatter\", x=\"latitud2\", y=\"longitud2\",\n",
    "    s=geo_casos_activos['casosxmillon']/100, label=\"CasosxMillon\",\n",
    "    c='Población', cmap=plt.get_cmap(\"jet\"),\n",
    "    colorbar=True, alpha=0.4, figsize=(10,7),\n",
    ")\n",
    "plt.legend()\n",
    "#save_fig(\"housing_prices_scatterplot\")\n",
    "plt.show()"
   ]
  },
  {
   "cell_type": "code",
   "execution_count": null,
   "metadata": {},
   "outputs": [],
   "source": [
    "def generateBaseMap(default_location=[4.00,-72.00], default_zoom_start=6.4):\n",
    "    base_map = folium.Map(location=default_location,tiles='cartodbdark_matter', control_scale=True, zoom_start=default_zoom_start)\n",
    "    return base_map"
   ]
  },
  {
   "cell_type": "code",
   "execution_count": null,
   "metadata": {},
   "outputs": [],
   "source": [
    "base_map=generateBaseMap()"
   ]
  },
  {
   "cell_type": "code",
   "execution_count": null,
   "metadata": {},
   "outputs": [],
   "source": [
    "from folium.plugins import HeatMap\n",
    "\n",
    "#HeatMap(data=df[['longitud', 'latitud', 'casosxmillon']].groupby(['longitud', 'latitud']).sum().reset_index().values.tolist(), radius=8, max_zoom=13).add_to(base_map)\n",
    "\n",
    "HeatMap(data=geo_casos_activos[['latitud2','longitud2', 'casosxmillon']].values.tolist(),radius=8, max_zoom=13).add_to(base_map)\n",
    "\n",
    "# for i in range(0,len(geo_casos_activos)):\n",
    "#     HeatMap(\n",
    "#         data=[geo_casos_activos.iloc[i]['longitud2'], geo_casos_activos.iloc[i]['latitud2']],\n",
    "#         popup=geo_casos_activos.iloc[i]['Nombre_Municipio'],\n",
    "#         radius=geo_casos_activos.iloc[i]['casosxmillon']).add_to(base_map)"
   ]
  },
  {
   "cell_type": "code",
   "execution_count": null,
   "metadata": {
    "scrolled": false
   },
   "outputs": [],
   "source": [
    "base_map"
   ]
  },
  {
   "cell_type": "code",
   "execution_count": null,
   "metadata": {},
   "outputs": [],
   "source": [
    "geo_casos_activos.reset_index(drop=True,inplace=True)"
   ]
  },
  {
   "cell_type": "code",
   "execution_count": null,
   "metadata": {},
   "outputs": [],
   "source": [
    "colombia = folium.Map(location=[4.00,-72.00],zoom_start=6.4)\n",
    "\n",
    "for i in range(0,len(geo_casos_activos)):\n",
    "    folium.Circle(\n",
    "        location=[geo_casos_activos.iloc[i]['latitud2'], geo_casos_activos.iloc[i]['longitud2']],\n",
    "        popup=(unidecode.unidecode(geo_casos_activos.iloc[i]['Nombre_Municipio']),\n",
    "               int(geo_casos_activos.iloc[i]['casosxmillon']),\n",
    "               unidecode.unidecode('Clima: '+geo_casos_activos.iloc[i]['Clima']),\n",
    "               'Altitud: '+ str(geo_casos_activos.iloc[i]['Altitud'])+'m'),\n",
    "        radius=geo_casos_activos.iloc[i]['casosxmillon'],\n",
    "        color='crimson',\n",
    "        fill=True,\n",
    "        fill_color='crimson').add_to(colombia)\n",
    "\n",
    "colombia.save(outfile='casos_activos.html')\n",
    "colombia"
   ]
  },
  {
   "cell_type": "code",
   "execution_count": null,
   "metadata": {},
   "outputs": [],
   "source": [
    "geo_casos_activos.iloc[[6,121,183,265,401,619,789]]"
   ]
  },
  {
   "cell_type": "code",
   "execution_count": null,
   "metadata": {},
   "outputs": [],
   "source": [
    "#Example adding radius to heatmap using folium\n",
    "\n",
    "# import random\n",
    "# from folium import plugins\n",
    "\n",
    "# data = [[41.895278,12.482222,2873494.0,20.243001,20414,7.104243],\n",
    "#         [41.883850,12.333330,3916.0,0.835251,4,1.021450],\n",
    "#         [41.854241,12.567000,22263.0,1.132390,35,1.572115],\n",
    "#         [41.902147,12.590388,19505.0,0.839181,37,1.896950],\n",
    "#         [41.994240,12.48520,16239.0,1.383981,25,1.539504]]\n",
    "\n",
    "# dfdfdf = pd.DataFrame(columns=['latitude','longitude','population','radius','count','normalized'],data=data)\n",
    "\n",
    "# middle_lat = dfdfdf['latitude'].median()\n",
    "# middle_lon = dfdfdf['longitude'].median()\n",
    "# m = folium.Map(location=[middle_lat, middle_lon],tiles = \"Stamen Terrain\",zoom_start=11)\n",
    "\n",
    "# # convert to (n, 2) nd-array format for heatmap\n",
    "# points = dfdfdf[['latitude', 'longitude', 'normalized']].dropna().values\n",
    "\n",
    "# # plot heatmap\n",
    "# #plugins.HeatMap(points, radius=15).add_to(m)\n",
    "\n",
    "# pointArrays = np.split(points, len(points))\n",
    "# radii = [5, 10, 15, 20, 25]\n",
    "\n",
    "# for point, radius in zip(pointArrays, radii):\n",
    "#     plugins.HeatMap(point, radius=radius).add_to(m)"
   ]
  },
  {
   "cell_type": "code",
   "execution_count": null,
   "metadata": {},
   "outputs": [],
   "source": [
    "# mp = folium.Map(location=[middle_lat, middle_lon],tiles = \"Stamen Terrain\",zoom_start=11)\n",
    "mp = folium.Map(location=[4.00,-72.00],zoom_start=6.4,tiles='cartodbdark_matter')\n",
    "\n",
    "points = geo_casos_activos[['longitud','latitud','casosxmillon']].dropna().values\n",
    "\n",
    "pointArrays = np.split(points, len(points))\n",
    "radio=(geo_casos_activos['casosxmillon']/1000).tolist()\n",
    "\n",
    "for point, radius in zip(pointArrays, radio):\n",
    "    HeatMap(point,radius=radius).add_to(mp)\n",
    "    \n",
    "mp.save(outfile='casos_activos_heatmap.html')"
   ]
  },
  {
   "cell_type": "code",
   "execution_count": null,
   "metadata": {
    "tags": []
   },
   "outputs": [],
   "source": [
    "#print(tuple(zip(pointArrays, radio)))"
   ]
  },
  {
   "cell_type": "code",
   "execution_count": null,
   "metadata": {},
   "outputs": [],
   "source": []
  }
 ],
 "metadata": {
  "kernelspec": {
   "display_name": "Python 3",
   "language": "python",
   "name": "python3"
  },
  "language_info": {
   "codemirror_mode": {
    "name": "ipython",
    "version": 3
   },
   "file_extension": ".py",
   "mimetype": "text/x-python",
   "name": "python",
   "nbconvert_exporter": "python",
   "pygments_lexer": "ipython3",
   "version": "3.8.2-final"
  }
 },
 "nbformat": 4,
 "nbformat_minor": 4
}