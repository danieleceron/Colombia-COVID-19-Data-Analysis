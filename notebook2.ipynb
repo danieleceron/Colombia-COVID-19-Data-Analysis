{
 "metadata": {
  "language_info": {
   "codemirror_mode": {
    "name": "ipython",
    "version": 3
   },
   "file_extension": ".py",
   "mimetype": "text/x-python",
   "name": "python",
   "nbconvert_exporter": "python",
   "pygments_lexer": "ipython3",
   "version": "3.8.5-final"
  },
  "orig_nbformat": 2,
  "kernelspec": {
   "name": "python38532bit9e5e32337ff14b56a04c2e22421a3277",
   "display_name": "Python 3.8.5 32-bit"
  }
 },
 "nbformat": 4,
 "nbformat_minor": 2,
 "cells": [
  {
   "cell_type": "code",
   "execution_count": 2,
   "metadata": {},
   "outputs": [
    {
     "output_type": "display_data",
     "data": {
      "text/plain": "HBox(children=(FloatProgress(value=1.0, bar_style='info', layout=Layout(width='20px'), max=1.0), HTML(value=''…",
      "application/vnd.jupyter.widget-view+json": {
       "version_major": 2,
       "version_minor": 0,
       "model_id": "94bde942bdaf4099afab84840bec892e"
      }
     },
     "metadata": {}
    }
   ],
   "source": [
    "import pandas as pd\n",
    "import numpy as np\n",
    "from matplotlib import pyplot as plt\n",
    "import seaborn as sns\n",
    "import datetime as dt\n",
    "import unidecode\n",
    "\n",
    "import folium\n",
    "from folium import plugins\n",
    "\n",
    "import geopy\n",
    "from geopy.geocoders import Nominatim\n",
    "#geolocator = Nominatim(user_agent=\"https://nominatim.openstreetmap.org/\")\n",
    "geolocator = Nominatim(user_agent=\"https://maps.googleapis.com/\")\n",
    "\n",
    "from tqdm import tqdm, tqdm_notebook\n",
    "tqdm_notebook().pandas()\n",
    "\n",
    "pd.options.plotting.backend = \"plotly\"\n",
    "pd.set_option('max_columns', None)"
   ]
  },
  {
   "source": [
    "The following data frame is a cleaned version of orginal data of COVID in Colombia, some of the clean done is:\n",
    "\n",
    "* Formated headders upper \n",
    "* 'Fechas' formated in datetime\n",
    "* Added 'Asintomático FIS' feature, extracted from 'FIS'\n",
    "* Remove puntuation upper for categorical features\n",
    "* Upper case for categorical features\n",
    "* Fill NaN with 'No Info' in categorical features\n",
    "* Drop rows where 'Estado'= ASINTOMATICO where 'atención'= HOSPITAL\n",
    "* Drop rows where 'Estado'= ASINTOMATICO where 'atención'=HOSPITAL UCI\n",
    "* Remove rows where 'FIS'<'Fecha diagnostico' does not meet.\n",
    "* Remove rows where 'Fecha diagnostico'<'Fecha recuperado' does not meet.\n",
    "* Remove rows where two values are contain in the same row for 'Fecha de mmuerte' and 'Fecha recueprado'\n",
    "* Drop people above 99 year's old\n",
    "\n",
    "\n",
    "Remarks:\n",
    "* Checked that 'Asintomático FIS' match with 'Estado'=ASINTOMATICO\n",
    "* Validated that we have not different values for atentción feature when Estado = 'FALLECIDO'\n",
    "* We have people who were diagnosed with COVID after death\n",
    "* We have missing values in 'Codigo pais'\n",
    "* Checked that Estado=ASINTOMATICO have no Fecha de muerte, the people that died before diagnosed with COVID, seems that they not die becasueof the COVID\n",
    "* Checked that we have no 'Tipo recuperación' values when 'Fecha de Muerte' is not null."
   ],
   "cell_type": "markdown",
   "metadata": {}
  },
  {
   "cell_type": "code",
   "execution_count": 4,
   "metadata": {},
   "outputs": [],
   "source": [
    "df=pd.read_pickle('pre_cleaned_dataset.pkl')"
   ]
  },
  {
   "cell_type": "code",
   "execution_count": 34,
   "metadata": {
    "tags": []
   },
   "outputs": [
    {
     "output_type": "stream",
     "name": "stdout",
     "text": "(356068, 22)\n"
    },
    {
     "output_type": "execute_result",
     "data": {
      "text/plain": "   ID de caso Fecha de notificación  Código DIVIPOLA  Ciudad de ubicación  \\\n0           1            2020-03-02            11001          BOGOTA D.C.   \n1           2            2020-03-06            76111  GUADALAJARA DE BUGA   \n\n  Departamento o Distrito     atención  Edad Sexo       Tipo Estado  \\\n0              BOGOTA D.C.  RECUPERADO    19    F  IMPORTADO   LEVE   \n1          VALLE DEL CAUCA  RECUPERADO    34    M  IMPORTADO   LEVE   \n\n  País de procedencia        FIS Fecha de muerte Fecha diagnostico  \\\n0              ITALIA 2020-02-27             NaT        2020-03-06   \n1              ESPANA 2020-03-04             NaT        2020-03-09   \n\n  Fecha recuperado fecha reporte web Tipo recuperación  Codigo departamento  \\\n0       2020-03-13        2020-03-06               PCR                   11   \n1       2020-03-19        2020-03-09               PCR                   76   \n\n   Codigo pais Pertenencia etnica Nombre grupo etnico Asintomático FIS  \n0        380.0               OTRO             NO INFO          NO INFO  \n1        724.0               OTRO             NO INFO          NO INFO  ",
      "text/html": "<div>\n<style scoped>\n    .dataframe tbody tr th:only-of-type {\n        vertical-align: middle;\n    }\n\n    .dataframe tbody tr th {\n        vertical-align: top;\n    }\n\n    .dataframe thead th {\n        text-align: right;\n    }\n</style>\n<table border=\"1\" class=\"dataframe\">\n  <thead>\n    <tr style=\"text-align: right;\">\n      <th></th>\n      <th>ID de caso</th>\n      <th>Fecha de notificación</th>\n      <th>Código DIVIPOLA</th>\n      <th>Ciudad de ubicación</th>\n      <th>Departamento o Distrito</th>\n      <th>atención</th>\n      <th>Edad</th>\n      <th>Sexo</th>\n      <th>Tipo</th>\n      <th>Estado</th>\n      <th>País de procedencia</th>\n      <th>FIS</th>\n      <th>Fecha de muerte</th>\n      <th>Fecha diagnostico</th>\n      <th>Fecha recuperado</th>\n      <th>fecha reporte web</th>\n      <th>Tipo recuperación</th>\n      <th>Codigo departamento</th>\n      <th>Codigo pais</th>\n      <th>Pertenencia etnica</th>\n      <th>Nombre grupo etnico</th>\n      <th>Asintomático FIS</th>\n    </tr>\n  </thead>\n  <tbody>\n    <tr>\n      <th>0</th>\n      <td>1</td>\n      <td>2020-03-02</td>\n      <td>11001</td>\n      <td>BOGOTA D.C.</td>\n      <td>BOGOTA D.C.</td>\n      <td>RECUPERADO</td>\n      <td>19</td>\n      <td>F</td>\n      <td>IMPORTADO</td>\n      <td>LEVE</td>\n      <td>ITALIA</td>\n      <td>2020-02-27</td>\n      <td>NaT</td>\n      <td>2020-03-06</td>\n      <td>2020-03-13</td>\n      <td>2020-03-06</td>\n      <td>PCR</td>\n      <td>11</td>\n      <td>380.0</td>\n      <td>OTRO</td>\n      <td>NO INFO</td>\n      <td>NO INFO</td>\n    </tr>\n    <tr>\n      <th>1</th>\n      <td>2</td>\n      <td>2020-03-06</td>\n      <td>76111</td>\n      <td>GUADALAJARA DE BUGA</td>\n      <td>VALLE DEL CAUCA</td>\n      <td>RECUPERADO</td>\n      <td>34</td>\n      <td>M</td>\n      <td>IMPORTADO</td>\n      <td>LEVE</td>\n      <td>ESPANA</td>\n      <td>2020-03-04</td>\n      <td>NaT</td>\n      <td>2020-03-09</td>\n      <td>2020-03-19</td>\n      <td>2020-03-09</td>\n      <td>PCR</td>\n      <td>76</td>\n      <td>724.0</td>\n      <td>OTRO</td>\n      <td>NO INFO</td>\n      <td>NO INFO</td>\n    </tr>\n  </tbody>\n</table>\n</div>"
     },
     "metadata": {},
     "execution_count": 34
    }
   ],
   "source": [
    "print(df.shape)\n",
    "df.head(2)"
   ]
  },
  {
   "cell_type": "code",
   "execution_count": 32,
   "metadata": {},
   "outputs": [
    {
     "output_type": "execute_result",
     "data": {
      "text/plain": "       Fecha de notificación        FIS Fecha de muerte Fecha diagnostico  \\\n11698             2020-05-04        NaT             NaT               NaT   \n24710             2020-04-26 2020-04-21             NaT               NaT   \n24711             2020-05-02 2020-05-02             NaT               NaT   \n24713             2020-04-01 2020-03-25             NaT               NaT   \n24714             2020-05-06 2020-05-03             NaT               NaT   \n...                      ...        ...             ...               ...   \n206574            2020-07-20 2020-06-23             NaT               NaT   \n206575            2020-07-20 2020-06-24             NaT               NaT   \n220201            2020-06-24 2020-06-24             NaT               NaT   \n229565            2020-07-01 2020-06-23             NaT               NaT   \n296728            2020-07-26 2020-06-25             NaT               NaT   \n\n       Fecha recuperado fecha reporte web  \n11698        2020-06-03        2020-05-12  \n24710        2020-05-21        2020-05-28  \n24711        2020-06-20        2020-05-28  \n24713        2020-06-20        2020-05-28  \n24714        2020-06-08        2020-05-28  \n...                 ...               ...  \n206574       2020-07-23        2020-07-21  \n206575       2020-07-25        2020-07-21  \n220201       2020-07-25        2020-07-23  \n229565       2020-07-25        2020-07-24  \n296728       2020-08-02        2020-08-01  \n\n[3297 rows x 6 columns]",
      "text/html": "<div>\n<style scoped>\n    .dataframe tbody tr th:only-of-type {\n        vertical-align: middle;\n    }\n\n    .dataframe tbody tr th {\n        vertical-align: top;\n    }\n\n    .dataframe thead th {\n        text-align: right;\n    }\n</style>\n<table border=\"1\" class=\"dataframe\">\n  <thead>\n    <tr style=\"text-align: right;\">\n      <th></th>\n      <th>Fecha de notificación</th>\n      <th>FIS</th>\n      <th>Fecha de muerte</th>\n      <th>Fecha diagnostico</th>\n      <th>Fecha recuperado</th>\n      <th>fecha reporte web</th>\n    </tr>\n  </thead>\n  <tbody>\n    <tr>\n      <th>11698</th>\n      <td>2020-05-04</td>\n      <td>NaT</td>\n      <td>NaT</td>\n      <td>NaT</td>\n      <td>2020-06-03</td>\n      <td>2020-05-12</td>\n    </tr>\n    <tr>\n      <th>24710</th>\n      <td>2020-04-26</td>\n      <td>2020-04-21</td>\n      <td>NaT</td>\n      <td>NaT</td>\n      <td>2020-05-21</td>\n      <td>2020-05-28</td>\n    </tr>\n    <tr>\n      <th>24711</th>\n      <td>2020-05-02</td>\n      <td>2020-05-02</td>\n      <td>NaT</td>\n      <td>NaT</td>\n      <td>2020-06-20</td>\n      <td>2020-05-28</td>\n    </tr>\n    <tr>\n      <th>24713</th>\n      <td>2020-04-01</td>\n      <td>2020-03-25</td>\n      <td>NaT</td>\n      <td>NaT</td>\n      <td>2020-06-20</td>\n      <td>2020-05-28</td>\n    </tr>\n    <tr>\n      <th>24714</th>\n      <td>2020-05-06</td>\n      <td>2020-05-03</td>\n      <td>NaT</td>\n      <td>NaT</td>\n      <td>2020-06-08</td>\n      <td>2020-05-28</td>\n    </tr>\n    <tr>\n      <th>...</th>\n      <td>...</td>\n      <td>...</td>\n      <td>...</td>\n      <td>...</td>\n      <td>...</td>\n      <td>...</td>\n    </tr>\n    <tr>\n      <th>206574</th>\n      <td>2020-07-20</td>\n      <td>2020-06-23</td>\n      <td>NaT</td>\n      <td>NaT</td>\n      <td>2020-07-23</td>\n      <td>2020-07-21</td>\n    </tr>\n    <tr>\n      <th>206575</th>\n      <td>2020-07-20</td>\n      <td>2020-06-24</td>\n      <td>NaT</td>\n      <td>NaT</td>\n      <td>2020-07-25</td>\n      <td>2020-07-21</td>\n    </tr>\n    <tr>\n      <th>220201</th>\n      <td>2020-06-24</td>\n      <td>2020-06-24</td>\n      <td>NaT</td>\n      <td>NaT</td>\n      <td>2020-07-25</td>\n      <td>2020-07-23</td>\n    </tr>\n    <tr>\n      <th>229565</th>\n      <td>2020-07-01</td>\n      <td>2020-06-23</td>\n      <td>NaT</td>\n      <td>NaT</td>\n      <td>2020-07-25</td>\n      <td>2020-07-24</td>\n    </tr>\n    <tr>\n      <th>296728</th>\n      <td>2020-07-26</td>\n      <td>2020-06-25</td>\n      <td>NaT</td>\n      <td>NaT</td>\n      <td>2020-08-02</td>\n      <td>2020-08-01</td>\n    </tr>\n  </tbody>\n</table>\n<p>3297 rows × 6 columns</p>\n</div>"
     },
     "metadata": {},
     "execution_count": 32
    }
   ],
   "source": [
    "#Re check in the previous notebook\n",
    "# porque hay fechas de diagnostico sin Fecha, cómo saben si tiene COVID si nunca se les diagnostico, de donde sale encontes esa fehca de reporte web?\n",
    "# hubo una fecha de inicio de sintomas FIS pero no hubo fecha de diagnostico, pero si reporte, es raro\n",
    "t=df[~(df['Fecha diagnostico']<df['Fecha recuperado'])]\n",
    "t[~t['Fecha recuperado'].isna()].select_dtypes('datetime')"
   ]
  },
  {
   "source": [
    "Seems good for every feature, becasue NO INFO means there is not values (nan). And RECUPERADO must be the only one with valid data."
   ],
   "cell_type": "markdown",
   "metadata": {}
  }
 ]
}